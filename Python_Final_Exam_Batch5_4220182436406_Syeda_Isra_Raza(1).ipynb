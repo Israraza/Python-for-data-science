{
 "cells": [
  {
   "cell_type": "markdown",
   "metadata": {
    "id": "S6aX5GSQkdqk"
   },
   "source": [
    "# NED University of Engineering & Technology\n",
    "# NED Academy\n",
    "#  PGD Batch 5 Data Science Final Exam (Online & Hybrid Mode Students)"
   ]
  },
  {
   "cell_type": "markdown",
   "metadata": {
    "id": "n-FwP1uqkdqm"
   },
   "source": [
    "### Note: must Replace CNIC and Name\n",
    "\n",
    "Example:<br>\n",
    "    \n",
    "Finalterm_4220182436405_Syeda_Isra_Raza"
   ]
  },
  {
   "cell_type": "markdown",
   "metadata": {
    "id": "tKlgjyHskdqm"
   },
   "source": [
    "### Final Exame tips:\n",
    "* Paper timing: 3 Hours\n",
    "* Total Questions 20 you have to attempt all below tasks\n",
    "    * 5 questions are theoritical\n",
    "    * 15 are practical tasks\n",
    "* you can use any logic to achieve below tasks results\n",
    "* there is not any negative marking\n"
   ]
  },
  {
   "cell_type": "markdown",
   "metadata": {
    "id": "cjZv9K1ukdqm"
   },
   "source": [
    "## Task1:\n",
    "    Names: Store the names of a few of your friends in a list called `names`. Print each person’s name and index number each element in the list, one at a time.\n",
    "    \n",
    "```\n",
    "Expected output:\n",
    "\n",
    "['Qasim','Hamza','Asif']\n",
    "\n",
    "0 , Qasim\n",
    "1 , Hamza\n",
    "2 , Asif\n",
    "```\n",
    "\n",
    "#### hint: enu...te()"
   ]
  },
  {
   "cell_type": "code",
   "execution_count": 4,
   "metadata": {
    "id": "Z_Uyb_fOkdqm"
   },
   "outputs": [
    {
     "name": "stdout",
     "output_type": "stream",
     "text": [
      "['Bushra', 'Farwa', 'Mohammad']\n",
      "0 Bushra\n",
      "1 Farwa\n",
      "2 Mohammad\n"
     ]
    }
   ],
   "source": [
    "names=['Bushra','Farwa','Mohammad']\n",
    "\n",
    "print(names)\n",
    "\n",
    "for idx, value in enumerate(names):\n",
    "    \n",
    "    print(idx,value)"
   ]
  },
  {
   "cell_type": "markdown",
   "metadata": {
    "id": "LT5Bxr3Ykdqn"
   },
   "source": [
    "## Task2:\n",
    "Store your 3 friends names in `names` list<br>\n",
    "Store three messages in `messages` list<br>\n",
    "then print each friend and message from friends and messages lists\n",
    "    \n",
    "```\n",
    "Expected output:\n",
    "\n",
    "['Qasim','Hamza','Asif']\n",
    "['Welcome Dear Teacher','Charter Accountant',\"Good job Admin\"]\n",
    "\n",
    "'Qasim, Welcome Dear Teacher'\n",
    "'Hamza, Charter Accountant'\n",
    "'Asif, Good job Admin'\n",
    "\n",
    "```\n",
    "\n",
    "#### hint: z..p()"
   ]
  },
  {
   "cell_type": "code",
   "execution_count": 5,
   "metadata": {},
   "outputs": [
    {
     "data": {
      "text/plain": [
       "[('Bushra', 'Hey dear'),\n",
       " ('Farwa', 'Welcome to AI'),\n",
       " ('Mohammad', 'Lets Begin with AI')]"
      ]
     },
     "execution_count": 5,
     "metadata": {},
     "output_type": "execute_result"
    }
   ],
   "source": [
    "names=['Bushra','Farwa','Mohammad']\n",
    "messages=['Hey dear','Welcome to AI',\"Lets Begin with AI\"]\n",
    "\n",
    "list(zip(names,messages))"
   ]
  },
  {
   "cell_type": "markdown",
   "metadata": {
    "id": "qJpfb8ulkdqn"
   },
   "source": [
    "### Task3:\n",
    "Guest List: If you could invite anyone, living or deceased, to dinner, who would you invite? Make a list that includes at least three people you’d like to invite to dinner. Then use your list to print a message to each person, inviting them to dinner."
   ]
  },
  {
   "cell_type": "code",
   "execution_count": 13,
   "metadata": {
    "id": "EgKs-pbKkdqo"
   },
   "outputs": [
    {
     "name": "stdout",
     "output_type": "stream",
     "text": [
      "Hello Mr/Ms/Mrs ('Kainat',) good evening, you are invited to dinner at my place at 8 pm\n",
      "Hello Mr/Ms/Mrs ('Farwa',) good evening, you are invited to dinner at my place at 8 pm\n",
      "Hello Mr/Ms/Mrs ('Maleeha',) good evening, you are invited to dinner at my place at 8 pm\n",
      "Hello Mr/Ms/Mrs ('Mahnoor',) good evening, you are invited to dinner at my place at 8 pm\n"
     ]
    }
   ],
   "source": [
    "guest_list=['Kainat','Farwa','Maleeha','Mahnoor']\n",
    "\n",
    "for a in zip(guest_list):\n",
    "    print(f'Hello Mr/Ms/Mrs {a} good evening, you are invited to dinner at my place at 8 pm')"
   ]
  },
  {
   "cell_type": "markdown",
   "metadata": {
    "id": "jCd22z68kdqo"
   },
   "source": [
    "### Task4:\n",
    "Changing Guest List: You just heard that one of your guests can’t make the dinner, so you need to send out a new set of invitations. You’ll have to think of someone else to invite.\n",
    "\n",
    "* Start with your program from Task 3. Add a print statement at the end of your program stating the name of the guest who can’t make it.\n",
    "\n",
    "* Modify your list, replacing the name of the guest who can’t make it with the name of the new person you are inviting.\n",
    "\n",
    "* Print a second set of invitation messages, one for each person who is still in your list."
   ]
  },
  {
   "cell_type": "code",
   "execution_count": 14,
   "metadata": {
    "id": "PkopbwMTkdqo"
   },
   "outputs": [
    {
     "name": "stdout",
     "output_type": "stream",
     "text": [
      "It is to inform that Maleeha can't make it to the dinner.\n",
      "Hello Mr/Ms/Mrs Kainat, good evening! You are invited to dinner at my place at 8 pm.\n",
      "Hello Mr/Ms/Mrs Farwa, good evening! You are invited to dinner at my place at 8 pm.\n",
      "Hello Mr/Ms/Mrs Mahnoor, good evening! You are invited to dinner at my place at 8 pm.\n",
      "Hello Mr/Ms/Mrs Sara, good evening! You are invited to dinner at my place at 8 pm.\n"
     ]
    }
   ],
   "source": [
    "replaced_name = 'Maleeha'\n",
    "print(f\"It is to inform that {replaced_name} can't make it to the dinner.\")\n",
    "\n",
    "guest_list.remove(replaced_name)\n",
    "new_guest = 'Sara'\n",
    "guest_list.append(new_guest)\n",
    "\n",
    "for guest in guest_list:\n",
    "    print(f'Hello Mr/Ms/Mrs {guest}, good evening! You are invited to dinner at my place at 8 pm.')"
   ]
  },
  {
   "cell_type": "markdown",
   "metadata": {
    "id": "yaqsH8skkdqo"
   },
   "source": [
    "### Task5:\n",
    "More Guests: You just found a bigger dinner table, so now more space is available. Think of three more guests to invite to dinner.\n",
    "* Start with your program from task4. Add a print statement to the end of your program informing people that you found a bigger dinner table.\n",
    "* Add one new guest to the beginning of your array(list).\n",
    "\n",
    "* Add one new guest to the middle of your array.\n",
    "* Use append() to add one new guest to the end of your list.\n",
    "* Print a new set of invitation messages, one for each person in your list."
   ]
  },
  {
   "cell_type": "code",
   "execution_count": 15,
   "metadata": {
    "id": "G4XTS-MGkdqo"
   },
   "outputs": [
    {
     "name": "stdout",
     "output_type": "stream",
     "text": [
      "Hello Mr/Ms/Mrs Kulsoom, good evening! You are invited to dinner at my place at 8 pm.\n",
      "Hello Mr/Ms/Mrs Kainat, good evening! You are invited to dinner at my place at 8 pm.\n",
      "Hello Mr/Ms/Mrs Fatima, good evening! You are invited to dinner at my place at 8 pm.\n",
      "Hello Mr/Ms/Mrs Farwa, good evening! You are invited to dinner at my place at 8 pm.\n",
      "Hello Mr/Ms/Mrs Mahnoor, good evening! You are invited to dinner at my place at 8 pm.\n",
      "Hello Mr/Ms/Mrs Sara, good evening! You are invited to dinner at my place at 8 pm.\n",
      "Hello Mr/Ms/Mrs Rida, good evening! You are invited to dinner at my place at 8 pm.\n"
     ]
    }
   ],
   "source": [
    "remaining_names=[\"Kulsoom\",\"Fatima\",\"Rida\"]\n",
    "\n",
    "guest_list.insert(0,remaining_names[0])\n",
    "guest_list.insert(len(guest_list) // 2, remaining_names[1])\n",
    "guest_list.append(remaining_names[2])\n",
    "                  \n",
    "for guest in guest_list:\n",
    "    print(f'Hello Mr/Ms/Mrs {guest}, good evening! You are invited to dinner at my place at 8 pm.')"
   ]
  },
  {
   "cell_type": "markdown",
   "metadata": {
    "id": "9Qz28Az2kdqo"
   },
   "source": [
    "### Task6:\n",
    "Intentional Error: If you haven’t received an array index error in one of your programs yet, try to make one happen. Change an index in one of your programs to produce an index error. Make sure you correct the error before closing the program.    "
   ]
  },
  {
   "cell_type": "code",
   "execution_count": 22,
   "metadata": {
    "id": "g4kclHaBkdqo"
   },
   "outputs": [
    {
     "name": "stdout",
     "output_type": "stream",
     "text": [
      "my name is isra\n",
      "I am studying in ned university\n",
      "Something is wrong! list index out of range\n",
      "PGD Data Science\n",
      "with AI\n"
     ]
    }
   ],
   "source": [
    "print(\"my name is isra\")\n",
    "print(\"I am studying in ned university\")\n",
    "\n",
    "my_list = [1,2,3,3,5,6,7]\n",
    "\n",
    "try:\n",
    "    print(my_list[20]) \n",
    "    print(\"Batch 5\")\n",
    "except Exception as e:\n",
    "    print(f\"Something is wrong! {e}\")\n",
    "    \n",
    "print(\"PGD Data Science\")\n",
    "print(\"with AI\")"
   ]
  },
  {
   "cell_type": "markdown",
   "metadata": {
    "id": "QiZ5xXYvkdqo"
   },
   "source": [
    "### Task7\n",
    "Conditional Tests: Write a series of conditional tests. Print a statement describing each test and your prediction for the results of each test. Your code should look something like this:\n",
    "\n",
    "```\n",
    "car = 'BMW'\n",
    "print(\"Is car == 'BMW'? I predict True.\")\n",
    "print(car == 'subaru')\n",
    "```\n",
    "\n",
    "* Look closely at your results, and make sure you understand why each line evaluates to True or False.\n",
    "\n",
    "* Create at least 10 tests. Have at least 5 tests evaluate to True and another 5 tests evaluate to False.\n",
    "\n",
    "\n",
    "    "
   ]
  },
  {
   "cell_type": "code",
   "execution_count": 45,
   "metadata": {
    "id": "btdrROrokdqp"
   },
   "outputs": [
    {
     "name": "stdout",
     "output_type": "stream",
     "text": [
      "Is x equal to 5? I predict True.\n",
      "True\n",
      "Is y greater than 5? I predict True.\n",
      "True\n",
      "Is name not equal to 'Bob'? I predict True.\n",
      "True\n",
      "Is age less than 18? I predict False.\n",
      "False\n",
      "Is it sunny? I predict True.\n",
      "True\n",
      "Is number greater than or equal to 50? I predict False.\n",
      "False\n",
      "Is food either 'Pizza' or 'Burger'? I predict True.\n",
      "True\n",
      "Is it a weekend? I predict False.\n",
      "False\n",
      "Is temperature between 0 and 32 (inclusive)? I predict True.\n",
      "True\n",
      "Is hours_worked between 40 and 50 (exclusive)? I predict True.\n",
      "True\n"
     ]
    }
   ],
   "source": [
    "x = 1\n",
    "print(\"Is x equal to 5? I predict True.\")\n",
    "if x == 1:\n",
    "    print(\"True\")\n",
    "else:\n",
    "    print(\"False\")\n",
    "\n",
    "y = 10\n",
    "print(\"Is y greater than 5? I predict True.\")\n",
    "if y > 5:\n",
    "    print(\"True\")\n",
    "else:\n",
    "    print(\"False\")\n",
    "\n",
    "name = \"Alice\"\n",
    "print(\"Is name not equal to 'Bob'? I predict True.\")\n",
    "if name != 'Bob':\n",
    "    print(\"True\")\n",
    "else:\n",
    "    print(\"False\")\n",
    "\n",
    "age = 25\n",
    "print(\"Is age less than 18? I predict False.\")\n",
    "if age < 18:\n",
    "    print(\"True\")\n",
    "else:\n",
    "    print(\"False\")\n",
    "\n",
    "is_sunny = True\n",
    "print(\"Is it sunny? I predict True.\")\n",
    "if is_sunny:\n",
    "    print(\"True\")\n",
    "else:\n",
    "    print(\"False\")\n",
    "\n",
    "number = 42\n",
    "print(\"Is number greater than or equal to 50? I predict False.\")\n",
    "if number >= 50:\n",
    "    print(\"True\")\n",
    "else:\n",
    "    print(\"False\")\n",
    "\n",
    "food = \"Pizza\"\n",
    "print(\"Is food either 'Pizza' or 'Burger'? I predict True.\")\n",
    "if food == 'Pizza' or food == 'Burger':\n",
    "    print(\"True\")\n",
    "else:\n",
    "    print(\"False\")\n",
    "\n",
    "is_weekend = False\n",
    "print(\"Is it a weekend? I predict False.\")\n",
    "if is_weekend:\n",
    "    print(\"True\")\n",
    "else:\n",
    "    print(\"False\")\n",
    "\n",
    "temperature = 20\n",
    "print(\"Is temperature between 0 and 32 (inclusive)? I predict True.\")\n",
    "if 0 <= temperature <= 32:\n",
    "    print(\"True\")\n",
    "else:\n",
    "    print(\"False\")\n",
    "\n",
    "hours_worked = 45\n",
    "print(\"Is hours_worked between 40 and 50 (exclusive)? I predict True.\")\n",
    "if 40 < hours_worked < 50:\n",
    "    print(\"True\")\n",
    "else:\n",
    "    print(\"False\")"
   ]
  },
  {
   "cell_type": "markdown",
   "metadata": {
    "id": "F55eQzTskdqp"
   },
   "source": [
    "### Task8:\n",
    "More Conditional Tests: You don’t have to limit the number of tests you create to 10. If you want to try more comparisons, write more tests. Have at least one True and one False result for each of the following:\n",
    "\n",
    "* Tests for equality and inequality with strings\n",
    "\n",
    "* Tests using the lower case function\n",
    "\n",
    "* Numerical tests involving equality and inequality, greater than and less than, greater than or equal to, and less than or equal to\n",
    "\n",
    "* Tests using \"and\" and \"or\" operators\n",
    "\n",
    "* Test whether an item is in a list\n",
    "\n",
    "* Test whether an item is not in a list"
   ]
  },
  {
   "cell_type": "raw",
   "metadata": {},
   "source": [
    "Tests for equality and inequality with strings"
   ]
  },
  {
   "cell_type": "code",
   "execution_count": 46,
   "metadata": {
    "id": "ZuzFar-xkdqp"
   },
   "outputs": [
    {
     "name": "stdout",
     "output_type": "stream",
     "text": [
      "Is the favorite color 'blue'? I predict True.\n",
      "True\n",
      "Is the car brand not 'Toyota'? I predict True.\n",
      "True\n"
     ]
    }
   ],
   "source": [
    "favorite_color = \"blue\"\n",
    "print(\"Is the favorite color 'blue'? I predict True.\")\n",
    "if favorite_color == 'blue':\n",
    "    print(\"True\")\n",
    "else:\n",
    "    print(\"False\")\n",
    "\n",
    "car_brand = \"Ford\"\n",
    "print(\"Is the car brand not 'Toyota'? I predict True.\")\n",
    "if car_brand != 'Toyota':\n",
    "    print(\"True\")\n",
    "else:\n",
    "    print(\"False\")"
   ]
  },
  {
   "cell_type": "raw",
   "metadata": {},
   "source": [
    "Tests using the lower case function"
   ]
  },
  {
   "cell_type": "code",
   "execution_count": 47,
   "metadata": {},
   "outputs": [
    {
     "name": "stdout",
     "output_type": "stream",
     "text": [
      "Does 'city' contain 'new'? I predict True.\n",
      "True\n",
      "Is 'Alice' equal to 'alice' in a case-insensitive comparison? I predict True.\n",
      "True\n"
     ]
    }
   ],
   "source": [
    "city = \"New York\"\n",
    "print(\"Does 'city' contain 'new'? I predict True.\")\n",
    "if 'new' in city.lower():\n",
    "    print(\"True\")\n",
    "else:\n",
    "    print(\"False\")\n",
    "\n",
    "name = \"Alice\"\n",
    "print(\"Is 'Alice' equal to 'alice' in a case-insensitive comparison? I predict True.\")\n",
    "if name.lower() == 'alice':\n",
    "    print(\"True\")\n",
    "else:\n",
    "    print(\"False\")"
   ]
  },
  {
   "cell_type": "raw",
   "metadata": {},
   "source": [
    "Numerical tests involving equality and inequality, greater than and less than, greater than or equal to, and less than or equal to"
   ]
  },
  {
   "cell_type": "code",
   "execution_count": 48,
   "metadata": {},
   "outputs": [
    {
     "name": "stdout",
     "output_type": "stream",
     "text": [
      "Is age equal to 25? I predict True.\n",
      "True\n",
      "Is temperature greater than or equal to 32? I predict True.\n",
      "True\n"
     ]
    }
   ],
   "source": [
    "age = 25\n",
    "print(\"Is age equal to 25? I predict True.\")\n",
    "if age == 25:\n",
    "    print(\"True\")\n",
    "else:\n",
    "    print(\"False\")\n",
    "\n",
    "temperature = 35\n",
    "print(\"Is temperature greater than or equal to 32? I predict True.\")\n",
    "if temperature >= 32:\n",
    "    print(\"True\")\n",
    "else:\n",
    "    print(\"False\")"
   ]
  },
  {
   "cell_type": "raw",
   "metadata": {},
   "source": [
    "Tests using \"and\" and \"or\" operators"
   ]
  },
  {
   "cell_type": "code",
   "execution_count": 49,
   "metadata": {},
   "outputs": [
    {
     "name": "stdout",
     "output_type": "stream",
     "text": [
      "Is it the weekend and not raining? I predict True.\n",
      "True\n",
      "Is it sunny or warm? I predict True.\n",
      "True\n"
     ]
    }
   ],
   "source": [
    "is_weekend = True\n",
    "is_raining = False\n",
    "print(\"Is it the weekend and not raining? I predict True.\")\n",
    "if is_weekend and not is_raining:\n",
    "    print(\"True\")\n",
    "else:\n",
    "    print(\"False\")\n",
    "\n",
    "\n",
    "is_sunny = True\n",
    "is_warm = True\n",
    "print(\"Is it sunny or warm? I predict True.\")\n",
    "if is_sunny or is_warm:\n",
    "    print(\"True\")\n",
    "else:\n",
    "    print(\"False\")"
   ]
  },
  {
   "cell_type": "raw",
   "metadata": {},
   "source": [
    "Test whether an item is in a list"
   ]
  },
  {
   "cell_type": "code",
   "execution_count": 50,
   "metadata": {},
   "outputs": [
    {
     "name": "stdout",
     "output_type": "stream",
     "text": [
      "Is 'banana' in the list of fruits? I predict True.\n",
      "True\n"
     ]
    }
   ],
   "source": [
    "fruits = ['apple', 'banana', 'cherry']\n",
    "print(\"Is 'banana' in the list of fruits? I predict True.\")\n",
    "if 'banana' in fruits:\n",
    "    print(\"True\")\n",
    "else:\n",
    "    print(\"False\")"
   ]
  },
  {
   "cell_type": "raw",
   "metadata": {},
   "source": [
    "Test whether an item is not in a list"
   ]
  },
  {
   "cell_type": "code",
   "execution_count": 51,
   "metadata": {},
   "outputs": [
    {
     "name": "stdout",
     "output_type": "stream",
     "text": [
      "Is 'yellow' not in the list of colors? I predict True.\n",
      "True\n"
     ]
    }
   ],
   "source": [
    "colors = ['red', 'green', 'blue']\n",
    "print(\"Is 'yellow' not in the list of colors? I predict True.\")\n",
    "if 'yellow' not in colors:\n",
    "    print(\"True\")\n",
    "else:\n",
    "    print(\"False\")"
   ]
  },
  {
   "cell_type": "markdown",
   "metadata": {
    "id": "-ERrZopbkdqp"
   },
   "source": [
    "### Task9:\n",
    "Hello Admin: Make a list of five or more usernames, including the name 'admin'. Imagine you are writing code that will print a greeting to each user after they log in to a website. Loop through the list, and print a greeting to each user:\n",
    "* If the username is 'admin', print a special greeting, such as Hello admin, would you like to see a status report?\n",
    "\n",
    "* Otherwise, print a generic greeting, such as Hello Eric, thank you for logging in again.    "
   ]
  },
  {
   "cell_type": "code",
   "execution_count": 24,
   "metadata": {
    "id": "z51Cc92qkdqp"
   },
   "outputs": [
    {
     "name": "stdout",
     "output_type": "stream",
     "text": [
      "Hello mohammad, Welcome to AI world.\n",
      "Hello bushra, Welcome to AI world.\n",
      "Hello farwa, Welcome to AI world.\n",
      "Hello maleeha, Welcome to AI world.\n",
      "Hello admin, Welcome to AI world, are you ready to explore new world of AI?\n"
     ]
    }
   ],
   "source": [
    "usernames=['mohammad','bushra','farwa','maleeha','admin']\n",
    "\n",
    "for username in usernames:\n",
    "    if username == 'admin':\n",
    "        print(\"Hello admin, Welcome to AI world, are you ready to explore new world of AI?\")\n",
    "    else:\n",
    "        print(f\"Hello {username}, Welcome to AI world.\")"
   ]
  },
  {
   "cell_type": "markdown",
   "metadata": {
    "id": "tCNLZNHikdqp"
   },
   "source": [
    "### Task10:\n",
    "Checking Usernames: Do the following to create a program that simulates how websites ensure that everyone has a unique username.\n",
    "* Make a list of five or more usernames called current_users.\n",
    "\n",
    "* Make another list of five usernames called new_users. Make sure one or two of the new usernames are also in the current_users list.\n",
    "\n",
    "* Loop through the new_users list to see if each new username has already been used. If it has, print a message that the person will need to enter a new username. If a username has not been used, print a message saying that the username is available.\n",
    "\n",
    "* Make sure your comparison is case insensitive. If 'John' has been used, 'JOHN' should not be accepted.    "
   ]
  },
  {
   "cell_type": "code",
   "execution_count": 26,
   "metadata": {
    "id": "c47GTO1Tkdqp"
   },
   "outputs": [
    {
     "name": "stdout",
     "output_type": "stream",
     "text": [
      "The username 'Kulsoom' is available.\n",
      "Sorry, the username you have typed i.e 'bushra' is already taken. Please choose a different username.\n",
      "The username 'Rida' is available.\n",
      "Sorry, the username you have typed i.e 'maleeha' is already taken. Please choose a different username.\n"
     ]
    }
   ],
   "source": [
    "current_users=['mohammad','bushra','farwa','maleeha']\n",
    "\n",
    "new_users = ['Kulsoom','bushra','Rida','maleeha']\n",
    "\n",
    "current_users_lower = [user.lower() for user in current_users]\n",
    "\n",
    "for new_user in new_users:\n",
    "    if new_user.lower() in current_users_lower:\n",
    "        print(f\"Sorry, the username you have typed i.e '{new_user}' is already taken. Please choose a different username.\")\n",
    "    else:\n",
    "        print(f\"The username '{new_user}' is available.\")"
   ]
  },
  {
   "cell_type": "markdown",
   "metadata": {
    "id": "yKlriswzkdqp"
   },
   "source": [
    "### Task11:\n",
    "Ordinal Numbers: Ordinal numbers indicate their position in a array, such as 1st or 2nd. Most ordinal numbers end in th, except 1, 2, and 3.\n",
    "* Store the numbers 1 through 9 in a array.\n",
    "\n",
    "* Loop through the array.\n",
    "\n",
    "* Use an if-else chain inside the loop to print the proper ordinal ending for each number. Your output should read \"1st 2nd 3rd 4th 5th 6th 7th 8th 9th\", and each result should be on a separate line.\n",
    "\n"
   ]
  },
  {
   "cell_type": "code",
   "execution_count": 29,
   "metadata": {
    "id": "GcJifmTtkdqp"
   },
   "outputs": [
    {
     "name": "stdout",
     "output_type": "stream",
     "text": [
      "1st\n",
      "2nd\n",
      "3rd\n",
      "4th\n",
      "5th\n",
      "6th\n",
      "7th\n",
      "8th\n",
      "9th\n"
     ]
    }
   ],
   "source": [
    "numbers = list(range(1, 10))\n",
    "\n",
    "for number in numbers:\n",
    "    if number == 1:\n",
    "        ordinal = \"1st\"\n",
    "    elif number == 2:\n",
    "        ordinal = \"2nd\"\n",
    "    elif number == 3:\n",
    "        ordinal = \"3rd\"\n",
    "    elif number == 4:\n",
    "        ordinal = \"4th\"\n",
    "    elif number == 5:\n",
    "        ordinal = \"5th\"\n",
    "    elif number == 6:\n",
    "        ordinal = \"6th\"\n",
    "    elif number == 7:\n",
    "        ordinal = \"7th\"\n",
    "    elif number == 8:\n",
    "        ordinal = \"8th\"\n",
    "    else:\n",
    "        ordinal = \"9th\"\n",
    "    \n",
    "    print(ordinal)"
   ]
  },
  {
   "cell_type": "markdown",
   "metadata": {
    "id": "Z-i9D_T9kdqp"
   },
   "source": [
    "### Task12:\n",
    "Animals: Think of at least three different animals that have a common characteristic. Store the names of these animals in a list, and then use a for loop to print out the name of each animal.\n",
    "* Modify your program to print a statement about each animal, such as A dog would make a great pet.\n",
    "* Add a line at the end of your program stating what these animals have in common. You could print a sentence such as Any of these animals would make a great pet!"
   ]
  },
  {
   "cell_type": "code",
   "execution_count": 30,
   "metadata": {
    "id": "M8cyBU3bkdqp"
   },
   "outputs": [
    {
     "name": "stdout",
     "output_type": "stream",
     "text": [
      "cat\n",
      "dog\n",
      "parrot\n",
      "A cat would make a great pet.\n",
      "A dog would make a great pet.\n",
      "A parrot would make a great pet.\n",
      "These animals communicate through their body language and love there master alot \n"
     ]
    }
   ],
   "source": [
    "animals = ['cat', 'dog', 'parrot']\n",
    "\n",
    "for animal in animals:\n",
    "    print(animal)\n",
    "\n",
    "for animal in animals:\n",
    "    print(f\"A {animal} would make a great pet.\")\n",
    "\n",
    "print(\"These animals communicate through their body language and love there master alot \")"
   ]
  },
  {
   "cell_type": "markdown",
   "metadata": {
    "id": "hBKGoH_Nkdqp"
   },
   "source": [
    "### Task13:\n",
    "City Names: Write a function called `city_country()` that takes in the name of a city and its country. The function should return a string formatted like this:\n",
    "\n",
    "`\"Lahore, Pakistan\"`<br><br>\n",
    "Call your function with at least three city-country pairs, and print the value that’s returned."
   ]
  },
  {
   "cell_type": "code",
   "execution_count": 42,
   "metadata": {
    "id": "wsMmQqslkdqp"
   },
   "outputs": [
    {
     "name": "stdout",
     "output_type": "stream",
     "text": [
      "Lahore, Pakistan\n",
      "Sydney, Australia\n",
      "New York, USA\n"
     ]
    }
   ],
   "source": [
    "def city_country(city,country):\n",
    "    return f\"{city}, {country}\"\n",
    "\n",
    "L1 = city_country(\"Lahore\", \"Pakistan\")\n",
    "L2 = city_country(\"Sydney\", \"Australia\")\n",
    "L3 = city_country(\"New York\", \"USA\")\n",
    "\n",
    "print(L1)\n",
    "print(L2)\n",
    "print(L3)"
   ]
  },
  {
   "cell_type": "markdown",
   "metadata": {
    "id": "2b0keHKFkdqp"
   },
   "source": [
    "### Task14:\n",
    "Write a function called `make_tshirt()` where you can provide `size` and `custome_text`. The function should print a sentence summarizing the size of the shirt and the message printed on it. Call the function."
   ]
  },
  {
   "cell_type": "code",
   "execution_count": 37,
   "metadata": {
    "id": "jK4NRvjIkdqp"
   },
   "outputs": [
    {
     "name": "stdout",
     "output_type": "stream",
     "text": [
      "You have ordered a Small-sized T-shirt with the following message: 'Thanks for the purchase from our store'.\n"
     ]
    }
   ],
   "source": [
    "def make_tshirt(size, custom_text):\n",
    "    print(f\"You have ordered a {size}-sized T-shirt with the following message: '{custom_text}'.\")\n",
    "\n",
    "make_tshirt(\"Small\", \"Thanks for the purchase from our store\")"
   ]
  },
  {
   "cell_type": "markdown",
   "metadata": {
    "id": "0V3zOAyfkdqp"
   },
   "source": [
    "### Task15:\n",
    "Write a function called `describe_city()` that accepts the name of a `city` and its `country`. The function should print a simple sentence, such as `Karachi is in Pakistan`. Give the parameter for the country a default value. Call your function for three different cities, at least one of which is not in the default country."
   ]
  },
  {
   "cell_type": "code",
   "execution_count": 44,
   "metadata": {
    "id": "nm3eU-Wskdqp"
   },
   "outputs": [
    {
     "name": "stdout",
     "output_type": "stream",
     "text": [
      "Karachi is in Pakistan.\n",
      "Islamabad is in Pakistan.\n",
      "Sydney is in Australia.\n"
     ]
    }
   ],
   "source": [
    "def describe_city(city, country=\"Pakistan\"):\n",
    "    print(f\"{city} is in {country}.\")\n",
    "\n",
    "describe_city(\"Karachi\")\n",
    "describe_city(\"Islamabad\")\n",
    "describe_city(\"Sydney\", \"Australia\")"
   ]
  },
  {
   "cell_type": "markdown",
   "metadata": {
    "id": "GOYrKfKvkdqp"
   },
   "source": [
    "<hr>"
   ]
  },
  {
   "cell_type": "markdown",
   "metadata": {
    "id": "BHLnWmFGkdqq"
   },
   "source": [
    "# Theory Section"
   ]
  },
  {
   "cell_type": "markdown",
   "metadata": {
    "id": "vbplZrcgkdqq"
   },
   "source": [
    "# 16. Define functions and function types in python?"
   ]
  },
  {
   "cell_type": "markdown",
   "metadata": {
    "id": "Of3Kfy9Okdqq"
   },
   "source": [
    "    FUNCTIONS:\n",
    "    A function is a block of code that performs a specific task.\n",
    "\n",
    "    TYPES OF FUNCTIONS\n",
    "    •Pre-define (provided by community)\n",
    "\n",
    "    •User define custome function created by you (programer)\n",
    "    \n",
    "    Built-in Functions: Predefined functions like print() and len() that are available for common tasks.\n",
    "\n",
    "    User-Defined Functions: Functions created by programmers to encapsulate a block of code for reuse.\n",
    "\n",
    "    Lambda Functions: Anonymous functions defined using the lambda keyword for simple, short operations.\n",
    "    •common properties \n",
    "    \n",
    "        ♦return\n",
    "        ♦non-return\n",
    "        ♦required-parameters\n",
    "        ♦optional parameters\n",
    "        ♦defualt function\n",
    "        ♦postional argument\n",
    "        ♦key value parameters\n",
    "        ♦pass ulimited optional argument\n",
    "        ♦pass ulimited key=value argument\n",
    "        \n",
    "    Pre-defined Functions: Functions provided by the Python community, like print() and len().\n",
    "    \n",
    "    User-Defined Functions: Custom functions created by programmers to perform specific tasks.\n",
    "\n",
    "    Return Functions: Functions that return a value or result using the return statement.\n",
    "\n",
    "    Non-Return Functions: Functions that perform tasks without returning a value.\n",
    "\n",
    "    Required Parameters: Arguments that must be passed to the function for it to work correctly.\n",
    "\n",
    "    Optional Parameters: Arguments that have default values and can be omitted when calling the function.\n",
    "\n",
    "    Default Functions: Functions with default parameter values.\n",
    "\n",
    "    Positional Arguments: Arguments passed to the function based on their position in the function definition.\n",
    "\n",
    "    Key-Value Parameters: Arguments passed as key-value pairs, allowing flexibility in argument order.\n",
    "\n",
    "    Unlimited Optional Arguments: Using the *args parameter to accept an arbitrary number of non-keyword arguments.\n",
    "\n",
    "    Unlimited Key-Value Arguments: Using the **kwargs parameter to accept an arbitrary number of keyword arguments."
   ]
  },
  {
   "cell_type": "markdown",
   "metadata": {
    "id": "iwBdO157kdqq"
   },
   "source": [
    "# 17. Define loop and it types in python?"
   ]
  },
  {
   "cell_type": "markdown",
   "metadata": {
    "id": "Prw6fvh5kdqq"
   },
   "source": [
    "    Loop:\n",
    "    Loop means repetition( something over and over until a particular condition is satisfied).\n",
    "        \n",
    "        •bar baar likhwana\n",
    "\n",
    "    types of loop \n",
    "        •While\n",
    "        •For\n",
    "        •Nested loop\n",
    "        •Controls \n",
    "            ♦break\n",
    "            ♦continue\n",
    "\n",
    "        •pass\n",
    "\n",
    "    Three things need to be checked i.e\n",
    "    •counter\n",
    "    •logic\n",
    "    •increment/decrement"
   ]
  },
  {
   "cell_type": "markdown",
   "metadata": {
    "id": "1N_KslG8kdqq"
   },
   "source": [
    "# 18. Define Error types and how we can handle run time errors?"
   ]
  },
  {
   "cell_type": "markdown",
   "metadata": {
    "id": "LwMApoYWkdqq"
   },
   "source": [
    "    Error types\n",
    "\n",
    "    •Syntax Errors:\n",
    "        Syntax errors occur due to code violations in Python's syntax rules.\n",
    "    •Runtime errors \n",
    "        It happen during program execution, often called exceptions.\n",
    "    •Logical errors \n",
    "        They stem from incorrect logic or algorithms in the code.    \n",
    "    •Semantic errors \n",
    "        It results from code not aligning with intended functionality    \n",
    "    •File I/O errors \n",
    "        It arise from issues with reading or writing files. \n",
    "    •Type errors \n",
    "        It happens when incompatible data types are used.   \n",
    "    •Name errors \n",
    "        It occurs when using undefined variables or names.   \n",
    "        \n",
    "        \n",
    "       how we can handle run time errors?\n",
    "        We handle it using try, except blocks to catch specific exceptions and gracefully handle errors.\n",
    "        \n",
    "\n",
    "    try:\n",
    "\n",
    "    logic # may be error accure here\n",
    "    except (ErrorClass1, ErrorClass2):\n",
    "    action\n",
    "    \n",
    "    else:\n",
    "    run if error not accure\n",
    "\n",
    "    finally:\n",
    "    line always run"
   ]
  },
  {
   "cell_type": "markdown",
   "metadata": {
    "id": "5u-YAz4mkdqq"
   },
   "source": [
    "# 19. Define four pillars of Object Oriented Programming?"
   ]
  },
  {
   "cell_type": "markdown",
   "metadata": {
    "id": "6Ea3NOT4kdqq"
   },
   "source": [
    "    There are four pillars of OOP (Object Oriented Programming)\n",
    "       •Inheritance\n",
    "       •Polymorphism\n",
    "       •Abstraction\n",
    "       •Encapsulation\n",
    "       \n",
    "      1-Encapsulation: \n",
    "          OOP principle that bundles data and methods into classes, controlling access and promoting modularity.\n",
    "\n",
    "      2-Inheritance: \n",
    "          OOP concept where classes inherit attributes and methods from others, fostering code reusability and hierarchical structuring.\n",
    "\n",
    "      3-Polymorphism: \n",
    "          OOP feature enabling objects of different classes to be treated as objects of a common superclass, enhancing flexibility and abstraction.\n",
    "\n",
    "      4-Abstraction: OOP practice of simplifying complex systems by modeling real-world entities with classes and hiding implementation details, promoting clarity and maintainability."
   ]
  },
  {
   "cell_type": "markdown",
   "metadata": {
    "id": "OmiTc2Ipkdqq"
   },
   "source": [
    "# 20. You can write about how you can use python in professional life. If you used python in your Office to solve any real-world probem."
   ]
  },
  {
   "cell_type": "markdown",
   "metadata": {
    "id": "fGle3ja2kdqq"
   },
   "source": [
    "    \n",
    "     In my professional role as a business intelligence and dashboard officer, I've found Python to be a valuable tool for simplifying data-related tasks. Python's simplicity and readability make it an accessible language for automating repetitive data processing, allowing me to focus on more strategic aspects of my work. For instance, I've not used it till now but would love to use Python to automate data extraction from various sources which i do in excel right now, which will significantly reduce the manual data entry and human error more efficiently. "
   ]
  },
  {
   "cell_type": "code",
   "execution_count": null,
   "metadata": {},
   "outputs": [],
   "source": []
  }
 ],
 "metadata": {
  "colab": {
   "provenance": []
  },
  "kernelspec": {
   "display_name": "Python 3 (ipykernel)",
   "language": "python",
   "name": "python3"
  },
  "language_info": {
   "codemirror_mode": {
    "name": "ipython",
    "version": 3
   },
   "file_extension": ".py",
   "mimetype": "text/x-python",
   "name": "python",
   "nbconvert_exporter": "python",
   "pygments_lexer": "ipython3",
   "version": "3.11.4"
  }
 },
 "nbformat": 4,
 "nbformat_minor": 1
}
