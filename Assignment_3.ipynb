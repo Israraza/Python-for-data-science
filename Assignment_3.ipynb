{
 "cells": [
  {
   "cell_type": "markdown",
   "id": "ef2ebcc6",
   "metadata": {},
   "source": [
    "# Question 1: Basic List Operations"
   ]
  },
  {
   "cell_type": "raw",
   "id": "48b602dd",
   "metadata": {},
   "source": [
    "# a) Create a list named 'fruits' containing the following items: \"apple\", \"banana\", \"orange\", \"grape\", \"kiwi\"."
   ]
  },
  {
   "cell_type": "code",
   "execution_count": 1,
   "id": "d8083f6a",
   "metadata": {},
   "outputs": [
    {
     "name": "stdout",
     "output_type": "stream",
     "text": [
      "['apple', 'banana', 'orange', 'grape', 'kiwi']\n"
     ]
    }
   ],
   "source": [
    "fruits= [\"apple\", \"banana\", \"orange\", \"grape\", \"kiwi\"]\n",
    "\n",
    "print(fruits)"
   ]
  },
  {
   "cell_type": "raw",
   "id": "f1643762",
   "metadata": {},
   "source": [
    "b) Add \"pear\" to the end of the list."
   ]
  },
  {
   "cell_type": "code",
   "execution_count": 2,
   "id": "19ebd1f0",
   "metadata": {},
   "outputs": [
    {
     "name": "stdout",
     "output_type": "stream",
     "text": [
      "['apple', 'banana', 'orange', 'grape', 'kiwi', 'pear']\n"
     ]
    }
   ],
   "source": [
    "fruits= [\"apple\", \"banana\", \"orange\", \"grape\", \"kiwi\"]\n",
    "\n",
    "fruits.append(\"pear\")\n",
    "print(fruits)"
   ]
  },
  {
   "cell_type": "raw",
   "id": "ef4ab2e9",
   "metadata": {},
   "source": [
    "c)Insert \"mango\" at the second position in the list."
   ]
  },
  {
   "cell_type": "code",
   "execution_count": 4,
   "id": "696db290",
   "metadata": {},
   "outputs": [
    {
     "name": "stdout",
     "output_type": "stream",
     "text": [
      "['apple', 'mango', 'banana', 'orange', 'grape', 'kiwi', 'pear']\n"
     ]
    }
   ],
   "source": [
    "fruits= ['apple', 'banana', 'orange', 'grape', 'kiwi', 'pear']\n",
    "\n",
    "fruits.insert(1,\"mango\")\n",
    "print(fruits)"
   ]
  },
  {
   "cell_type": "raw",
   "id": "0d6a2fd6",
   "metadata": {},
   "source": [
    "d) Remove \"orange\" from the list."
   ]
  },
  {
   "cell_type": "code",
   "execution_count": 5,
   "id": "e622c7b0",
   "metadata": {},
   "outputs": [
    {
     "name": "stdout",
     "output_type": "stream",
     "text": [
      "['apple', 'mango', 'banana', 'grape', 'kiwi', 'pear']\n"
     ]
    }
   ],
   "source": [
    "fruits.remove(\"orange\")\n",
    "print(fruits)"
   ]
  },
  {
   "cell_type": "markdown",
   "id": "db6536df",
   "metadata": {},
   "source": [
    "# Question 2: Slicing and Indexing"
   ]
  },
  {
   "cell_type": "raw",
   "id": "4abe0203",
   "metadata": {},
   "source": [
    "a) Create a list named 'numbers' containing the integers from 0 to 9."
   ]
  },
  {
   "cell_type": "code",
   "execution_count": 8,
   "id": "b0a51c21",
   "metadata": {},
   "outputs": [
    {
     "name": "stdout",
     "output_type": "stream",
     "text": [
      "[0, 1, 2, 3, 4, 5, 6, 7, 8, 9]\n"
     ]
    }
   ],
   "source": [
    "numbers= list(range(0,10))\n",
    "\n",
    "print(numbers)"
   ]
  },
  {
   "cell_type": "raw",
   "id": "4b499593",
   "metadata": {},
   "source": [
    "b) Print the element at index 3."
   ]
  },
  {
   "cell_type": "code",
   "execution_count": 10,
   "id": "3d3e2c78",
   "metadata": {},
   "outputs": [
    {
     "data": {
      "text/plain": [
       "3"
      ]
     },
     "execution_count": 10,
     "metadata": {},
     "output_type": "execute_result"
    }
   ],
   "source": [
    "numbers[3]"
   ]
  },
  {
   "cell_type": "raw",
   "id": "31e7898c",
   "metadata": {},
   "source": [
    "c) Print a sublist containing the elements from index 2 to 6 (inclusive)."
   ]
  },
  {
   "cell_type": "code",
   "execution_count": 12,
   "id": "0652c985",
   "metadata": {},
   "outputs": [
    {
     "name": "stdout",
     "output_type": "stream",
     "text": [
      "[2, 3, 4, 5, 6]\n"
     ]
    }
   ],
   "source": [
    "print(numbers[2:7])"
   ]
  },
  {
   "cell_type": "raw",
   "id": "aa88dc58",
   "metadata": {},
   "source": [
    "d) Print the last three elements using negative indexing."
   ]
  },
  {
   "cell_type": "code",
   "execution_count": 13,
   "id": "14a8802e",
   "metadata": {},
   "outputs": [
    {
     "name": "stdout",
     "output_type": "stream",
     "text": [
      "[7, 8, 9]\n"
     ]
    }
   ],
   "source": [
    "print(numbers[-3:])"
   ]
  },
  {
   "cell_type": "markdown",
   "id": "2885bf0b",
   "metadata": {},
   "source": [
    "# Question 3: List Comprehension"
   ]
  },
  {
   "cell_type": "raw",
   "id": "68e7ad98",
   "metadata": {},
   "source": [
    "a) Create a list named 'squares' using a list comprehension that contains the squares of numbers from 1 to 10."
   ]
  },
  {
   "cell_type": "code",
   "execution_count": 14,
   "id": "bbc330d1",
   "metadata": {},
   "outputs": [
    {
     "name": "stdout",
     "output_type": "stream",
     "text": [
      "[1, 4, 9, 16, 25, 36, 49, 64, 81, 100]\n"
     ]
    }
   ],
   "source": [
    "squares = [ x**2 for x in range(1,11)]\n",
    "print(squares)"
   ]
  },
  {
   "cell_type": "raw",
   "id": "ceee7400",
   "metadata": {},
   "source": [
    "b) Create a new list named 'even_squares' using a list comprehension that contains the squares of even numbers from the \n",
    "'squares' list."
   ]
  },
  {
   "cell_type": "code",
   "execution_count": 15,
   "id": "72c98ba6",
   "metadata": {},
   "outputs": [
    {
     "name": "stdout",
     "output_type": "stream",
     "text": [
      "[4, 16, 36, 64, 100]\n"
     ]
    }
   ],
   "source": [
    "even_squares = [x for x in squares if x % 2 == 0]\n",
    "print(even_squares)"
   ]
  },
  {
   "cell_type": "markdown",
   "id": "d978b313",
   "metadata": {},
   "source": [
    "# Question 4: List Manipulation"
   ]
  },
  {
   "cell_type": "raw",
   "id": "992958b0",
   "metadata": {},
   "source": [
    "a) Create a list named 'colors' containing the following items: \"red\", \"green\", \"blue\", \"yellow\", \"purple\"."
   ]
  },
  {
   "cell_type": "code",
   "execution_count": 16,
   "id": "7ca87041",
   "metadata": {},
   "outputs": [
    {
     "name": "stdout",
     "output_type": "stream",
     "text": [
      "['red', 'green', 'blue', 'yellow', 'purple']\n"
     ]
    }
   ],
   "source": [
    "colors = [\"red\", \"green\", \"blue\", \"yellow\", \"purple\"]\n",
    "print(colors)"
   ]
  },
  {
   "cell_type": "raw",
   "id": "52b2d333",
   "metadata": {},
   "source": [
    "b) Swap the first and last elements of the list."
   ]
  },
  {
   "cell_type": "code",
   "execution_count": 17,
   "id": "92ba62a2",
   "metadata": {},
   "outputs": [
    {
     "data": {
      "text/plain": [
       "['purple', 'green', 'blue', 'yellow', 'red']"
      ]
     },
     "execution_count": 17,
     "metadata": {},
     "output_type": "execute_result"
    }
   ],
   "source": [
    "colors[0], colors[-1] = colors[-1], colors[0]\n",
    "colors"
   ]
  },
  {
   "cell_type": "raw",
   "id": "e8010bbb",
   "metadata": {},
   "source": [
    "c) Reverse the order of the list."
   ]
  },
  {
   "cell_type": "code",
   "execution_count": 18,
   "id": "fbf60bea",
   "metadata": {},
   "outputs": [
    {
     "data": {
      "text/plain": [
       "['purple', 'yellow', 'blue', 'green', 'red']"
      ]
     },
     "execution_count": 18,
     "metadata": {},
     "output_type": "execute_result"
    }
   ],
   "source": [
    "colors = [\"red\", \"green\", \"blue\", \"yellow\", \"purple\"]\n",
    "colors.reverse()\n",
    "colors"
   ]
  },
  {
   "cell_type": "raw",
   "id": "123a4488",
   "metadata": {},
   "source": [
    "d) Remove the second and third elements from the list."
   ]
  },
  {
   "cell_type": "code",
   "execution_count": 19,
   "id": "76c271fd",
   "metadata": {},
   "outputs": [
    {
     "name": "stdout",
     "output_type": "stream",
     "text": [
      "['red', 'yellow', 'purple']\n"
     ]
    }
   ],
   "source": [
    "colors = [\"red\", \"green\", \"blue\", \"yellow\", \"purple\"]\n",
    "del colors[1:3]\n",
    "print(colors)"
   ]
  },
  {
   "cell_type": "markdown",
   "id": "e8086e44",
   "metadata": {},
   "source": [
    "# Question 5: Advanced Slicing"
   ]
  },
  {
   "cell_type": "raw",
   "id": "373d5566",
   "metadata": {},
   "source": [
    "a) Create a list named 'letters' containing the letters from 'a' to 'j'."
   ]
  },
  {
   "cell_type": "code",
   "execution_count": 1,
   "id": "d076f2f0",
   "metadata": {},
   "outputs": [
    {
     "data": {
      "text/plain": [
       "['a', 'b', 'c', 'd', 'e', 'f', 'g', 'h', 'i', 'j']"
      ]
     },
     "execution_count": 1,
     "metadata": {},
     "output_type": "execute_result"
    }
   ],
   "source": [
    "letters = ['a', 'b', 'c', 'd', 'e', 'f', 'g', 'h', 'i', 'j']\n",
    "letters"
   ]
  },
  {
   "cell_type": "raw",
   "id": "c4dbf19e",
   "metadata": {},
   "source": [
    "b) Using slicing, create a new list 'first_half containing the first half of the 'letters' list."
   ]
  },
  {
   "cell_type": "code",
   "execution_count": 2,
   "id": "83c48c4e",
   "metadata": {},
   "outputs": [
    {
     "name": "stdout",
     "output_type": "stream",
     "text": [
      "['a', 'b', 'c', 'd', 'e']\n"
     ]
    }
   ],
   "source": [
    "first_half = (letters[0:5])\n",
    "print(first_half)"
   ]
  },
  {
   "cell_type": "raw",
   "id": "d29895ab",
   "metadata": {},
   "source": [
    "c) Using slicing, create a new list `last_three` containing the last three elements of the `letters` list."
   ]
  },
  {
   "cell_type": "code",
   "execution_count": 4,
   "id": "3f124f60",
   "metadata": {},
   "outputs": [
    {
     "name": "stdout",
     "output_type": "stream",
     "text": [
      "['h', 'i', 'j']\n"
     ]
    }
   ],
   "source": [
    "last_three = (letters[-3:])\n",
    "print(last_three)"
   ]
  },
  {
   "cell_type": "markdown",
   "id": "500cb779",
   "metadata": {},
   "source": [
    "# Question 6: Nested Lists"
   ]
  },
  {
   "cell_type": "raw",
   "id": "3c68f371",
   "metadata": {},
   "source": [
    "a) Create a nested list named `matrix` with the following rows:"
   ]
  },
  {
   "cell_type": "code",
   "execution_count": 5,
   "id": "187b3a70",
   "metadata": {},
   "outputs": [
    {
     "name": "stdout",
     "output_type": "stream",
     "text": [
      "[[1 2 3]\n",
      " [4 5 6]\n",
      " [7 8 9]]\n"
     ]
    }
   ],
   "source": [
    "import numpy as np\n",
    "\n",
    "matrix = np.arange(1,10).reshape(3,3)\n",
    "print(matrix)"
   ]
  },
  {
   "cell_type": "raw",
   "id": "bafa0010",
   "metadata": {},
   "source": [
    "b) Print the element in the second row and third column."
   ]
  },
  {
   "cell_type": "code",
   "execution_count": 6,
   "id": "b19fdd34",
   "metadata": {},
   "outputs": [
    {
     "name": "stdout",
     "output_type": "stream",
     "text": [
      "6\n"
     ]
    }
   ],
   "source": [
    "element = matrix[1,2]\n",
    "print(element)"
   ]
  },
  {
   "cell_type": "raw",
   "id": "f1f0b3e3",
   "metadata": {},
   "source": [
    "c) Use nested indexing to change the value at the second row and first column to 0."
   ]
  },
  {
   "cell_type": "code",
   "execution_count": 7,
   "id": "dd2f7ad6",
   "metadata": {},
   "outputs": [
    {
     "name": "stdout",
     "output_type": "stream",
     "text": [
      "[[1 2 3]\n",
      " [0 5 6]\n",
      " [7 8 9]]\n"
     ]
    }
   ],
   "source": [
    "matrix[1,0] = 0\n",
    "print(matrix)"
   ]
  }
 ],
 "metadata": {
  "kernelspec": {
   "display_name": "Python 3 (ipykernel)",
   "language": "python",
   "name": "python3"
  },
  "language_info": {
   "codemirror_mode": {
    "name": "ipython",
    "version": 3
   },
   "file_extension": ".py",
   "mimetype": "text/x-python",
   "name": "python",
   "nbconvert_exporter": "python",
   "pygments_lexer": "ipython3",
   "version": "3.11.4"
  }
 },
 "nbformat": 4,
 "nbformat_minor": 5
}
