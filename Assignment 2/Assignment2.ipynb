{
 "cells": [
  {
   "cell_type": "markdown",
   "id": "3487172f",
   "metadata": {},
   "source": [
    "# Assignment 1: String Concatenation and Formatting\n"
   ]
  },
  {
   "cell_type": "code",
   "execution_count": 8,
   "id": "b2034ca1",
   "metadata": {},
   "outputs": [
    {
     "name": "stdout",
     "output_type": "stream",
     "text": [
      "my name is Syeda Isra Raza, I am 27 years old, and I live in Pakistan\n"
     ]
    }
   ],
   "source": [
    "name=\" Syeda Isra Raza\"\n",
    "age=\" 27\"\n",
    "country=\" Pakistan\"\n",
    "\n",
    "print(\"my name is\" + name +\", I am\" + age +\" years old,\" \" and I live in\" + country)"
   ]
  },
  {
   "cell_type": "markdown",
   "id": "e728f43e",
   "metadata": {},
   "source": [
    "# Assignment 2: String Formatting using `.format()`"
   ]
  },
  {
   "cell_type": "code",
   "execution_count": 21,
   "id": "1f3e7961",
   "metadata": {},
   "outputs": [
    {
     "name": "stdout",
     "output_type": "stream",
     "text": [
      "150\n",
      "I bought 6 Books at 25 each, for a total of $ 150\n"
     ]
    }
   ],
   "source": [
    "item=\"Books\"\n",
    "price=25\n",
    "quantity=6\n",
    "\n",
    "total_cost = price * quantity\n",
    "\n",
    "print(total_cost)\n",
    "\n",
    "a=\"I bought {} {} at {} each, for a total of $ {}\" .format(quantity,item,price,total_cost)\n",
    "\n",
    "print(a)"
   ]
  },
  {
   "cell_type": "markdown",
   "id": "2508a9a5",
   "metadata": {},
   "source": [
    "# Assignment 3: String Interpolation using `f''`"
   ]
  },
  {
   "cell_type": "code",
   "execution_count": 25,
   "id": "fbddaeb7",
   "metadata": {},
   "outputs": [
    {
     "name": "stdout",
     "output_type": "stream",
     "text": [
      "The temperature in Islamabad is 31°C.\n"
     ]
    }
   ],
   "source": [
    "city=\"Islamabad\"\n",
    "temp= 31\n",
    "\n",
    "a=f\"The temperature in {city} is {temp}°C.\"\n",
    "\n",
    "print(a)"
   ]
  },
  {
   "cell_type": "markdown",
   "id": "ac50d8ad",
   "metadata": {},
   "source": [
    "# Assignment 4: String Formatting using `%()`"
   ]
  },
  {
   "cell_type": "code",
   "execution_count": 31,
   "id": "c050fb5c",
   "metadata": {},
   "outputs": [
    {
     "name": "stdout",
     "output_type": "stream",
     "text": [
      "My name is Isra Raza. I am 28 years old.\n"
     ]
    }
   ],
   "source": [
    "first_name= \"Isra\"\n",
    "last_name= \"Raza\"\n",
    "birth_year= 1995\n",
    "\n",
    "age = 2023 - birth_year\n",
    "\n",
    "a= \"My name is %s %s. I am %d years old.\" %(first_name,last_name,age)\n",
    "\n",
    "print(a)"
   ]
  },
  {
   "cell_type": "markdown",
   "id": "c29841a2",
   "metadata": {},
   "source": [
    "# Assignment 5: Combining Formatting Methods"
   ]
  },
  {
   "cell_type": "code",
   "execution_count": 47,
   "id": "4ecc9b1a",
   "metadata": {},
   "outputs": [
    {
     "name": "stdout",
     "output_type": "stream",
     "text": [
      "51000.0\n",
      "The product Laptop which was in 60000, \n",
      "is now at discounted price of 51000.0, \n",
      "at 15% discount.\n"
     ]
    }
   ],
   "source": [
    "product=\"Laptop\"\n",
    "discount= 15\n",
    "original_price= 60000\n",
    "\n",
    "discounted_price = original_price * (1 - discount/ 100)\n",
    "\n",
    "print(discounted_price)\n",
    "\n",
    "a= f\"The product {product} which was in {original_price}, \\nis now at discounted price of {discounted_price}, \\nat {discount}% discount.\" \n",
    "print(a)"
   ]
  },
  {
   "cell_type": "code",
   "execution_count": null,
   "id": "7ebb7082",
   "metadata": {},
   "outputs": [],
   "source": []
  }
 ],
 "metadata": {
  "kernelspec": {
   "display_name": "Python 3 (ipykernel)",
   "language": "python",
   "name": "python3"
  },
  "language_info": {
   "codemirror_mode": {
    "name": "ipython",
    "version": 3
   },
   "file_extension": ".py",
   "mimetype": "text/x-python",
   "name": "python",
   "nbconvert_exporter": "python",
   "pygments_lexer": "ipython3",
   "version": "3.11.4"
  }
 },
 "nbformat": 4,
 "nbformat_minor": 5
}
