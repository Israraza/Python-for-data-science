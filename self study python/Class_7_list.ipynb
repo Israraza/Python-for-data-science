{
 "cells": [
  {
   "cell_type": "raw",
   "id": "f55bbb6f",
   "metadata": {},
   "source": [
    "ASCCI\n",
    "\n",
    "A-65\n",
    "Z-90\n",
    "\n",
    "\n",
    "a-97\n",
    "z-122\n",
    "\n",
    "0-47\n",
    "9-58"
   ]
  },
  {
   "cell_type": "markdown",
   "id": "d2b02bad",
   "metadata": {},
   "source": [
    "# creation time\n",
    "\n",
    "create list '[element1,element2,element3.....]'\n",
    "\n",
    "create tupple '(element1,element2,element3.....)'\n",
    "\n",
    "createc dictionary  '{key:value,key2:value2,key3:value3.....}'\n",
    "\n",
    "create set '{element1,element2,element3.....}'\n",
    "\n",
    "#calling time\n",
    "\n",
    "list_var[index]\n",
    "\n",
    "tupple_var[index]\n",
    "\n",
    "dictionary_var[index]"
   ]
  },
  {
   "cell_type": "code",
   "execution_count": 1,
   "id": "03adc992",
   "metadata": {},
   "outputs": [
    {
     "name": "stdout",
     "output_type": "stream",
     "text": [
      "A\n",
      "B\n",
      "C\n",
      "D\n",
      "E\n",
      "F\n",
      "G\n",
      "H\n",
      "I\n",
      "J\n",
      "K\n",
      "L\n",
      "M\n",
      "N\n",
      "O\n",
      "P\n",
      "Q\n",
      "R\n",
      "S\n",
      "T\n",
      "U\n",
      "V\n",
      "W\n",
      "X\n",
      "Y\n",
      "Z\n"
     ]
    }
   ],
   "source": [
    "l=list(range(65,91))\n",
    "for a in l:\n",
    "    print(chr(a))"
   ]
  },
  {
   "cell_type": "code",
   "execution_count": 7,
   "id": "c41bd0e0",
   "metadata": {},
   "outputs": [
    {
     "data": {
      "text/plain": [
       "'C'"
      ]
     },
     "execution_count": 7,
     "metadata": {},
     "output_type": "execute_result"
    }
   ],
   "source": [
    "chr(67)"
   ]
  },
  {
   "cell_type": "code",
   "execution_count": 22,
   "id": "66206265",
   "metadata": {},
   "outputs": [
    {
     "data": {
      "text/plain": [
       "'bushra'"
      ]
     },
     "execution_count": 22,
     "metadata": {},
     "output_type": "execute_result"
    }
   ],
   "source": [
    "#   0        1        2\n",
    "\n",
    "a=['farwa', 'bushra',30]\n",
    "\n",
    "a[1]"
   ]
  },
  {
   "cell_type": "code",
   "execution_count": 24,
   "id": "33902aed",
   "metadata": {},
   "outputs": [
    {
     "data": {
      "text/plain": [
       "['farwa', 'qasim', 30]"
      ]
     },
     "execution_count": 24,
     "metadata": {},
     "output_type": "execute_result"
    }
   ],
   "source": [
    "a[1]='qasim'\n",
    "a"
   ]
  },
  {
   "cell_type": "code",
   "execution_count": 23,
   "id": "064828bd",
   "metadata": {},
   "outputs": [
    {
     "name": "stdout",
     "output_type": "stream",
     "text": [
      "{'name': 'Isra', 'fname': 'Bushra', 'age': 30}\n"
     ]
    },
    {
     "data": {
      "text/plain": [
       "'Bushra'"
      ]
     },
     "execution_count": 23,
     "metadata": {},
     "output_type": "execute_result"
    }
   ],
   "source": [
    "b={\n",
    "    'name':'Isra',\n",
    "    'fname':'Bushra',\n",
    "    'age': 30\n",
    "}\n",
    "#replace 1 to \"fname\"\n",
    "\n",
    "print(b)\n",
    "\n",
    "b['fname']"
   ]
  },
  {
   "cell_type": "code",
   "execution_count": 5,
   "id": "064800b4",
   "metadata": {},
   "outputs": [
    {
     "name": "stdout",
     "output_type": "stream",
     "text": [
      "{'roll_no': [1, 2, 3], 'name': ['a', 'b', 'c'], 'course': ['AI', 'DS', 'ML']}\n"
     ]
    },
    {
     "data": {
      "text/html": [
       "<div>\n",
       "<style scoped>\n",
       "    .dataframe tbody tr th:only-of-type {\n",
       "        vertical-align: middle;\n",
       "    }\n",
       "\n",
       "    .dataframe tbody tr th {\n",
       "        vertical-align: top;\n",
       "    }\n",
       "\n",
       "    .dataframe thead th {\n",
       "        text-align: right;\n",
       "    }\n",
       "</style>\n",
       "<table border=\"1\" class=\"dataframe\">\n",
       "  <thead>\n",
       "    <tr style=\"text-align: right;\">\n",
       "      <th></th>\n",
       "      <th>roll_no</th>\n",
       "      <th>name</th>\n",
       "      <th>course</th>\n",
       "    </tr>\n",
       "  </thead>\n",
       "  <tbody>\n",
       "    <tr>\n",
       "      <th>0</th>\n",
       "      <td>1</td>\n",
       "      <td>a</td>\n",
       "      <td>AI</td>\n",
       "    </tr>\n",
       "    <tr>\n",
       "      <th>1</th>\n",
       "      <td>2</td>\n",
       "      <td>b</td>\n",
       "      <td>DS</td>\n",
       "    </tr>\n",
       "    <tr>\n",
       "      <th>2</th>\n",
       "      <td>3</td>\n",
       "      <td>c</td>\n",
       "      <td>ML</td>\n",
       "    </tr>\n",
       "  </tbody>\n",
       "</table>\n",
       "</div>"
      ],
      "text/plain": [
       "   roll_no name course\n",
       "0        1    a     AI\n",
       "1        2    b     DS\n",
       "2        3    c     ML"
      ]
     },
     "execution_count": 5,
     "metadata": {},
     "output_type": "execute_result"
    }
   ],
   "source": [
    "import pandas as pd\n",
    "\n",
    "data={'roll_no': [1,2,3],\n",
    "      'name':['a','b','c'],\n",
    "      'course':['AI','DS','ML']}\n",
    "\n",
    "print(data)\n",
    "\n",
    "df=pd.DataFrame(data)\n",
    "df"
   ]
  },
  {
   "cell_type": "code",
   "execution_count": 11,
   "id": "56f3a925",
   "metadata": {},
   "outputs": [
    {
     "name": "stdout",
     "output_type": "stream",
     "text": [
      "{'roll_no': [13615, 23615, 31615, 61531], 'name': ['abbas', 'bushra', 'catholine', 'bisma'], 'course': ['AI', 'DS', 'ML', 'AI']}\n"
     ]
    },
    {
     "data": {
      "text/html": [
       "<div>\n",
       "<style scoped>\n",
       "    .dataframe tbody tr th:only-of-type {\n",
       "        vertical-align: middle;\n",
       "    }\n",
       "\n",
       "    .dataframe tbody tr th {\n",
       "        vertical-align: top;\n",
       "    }\n",
       "\n",
       "    .dataframe thead th {\n",
       "        text-align: right;\n",
       "    }\n",
       "</style>\n",
       "<table border=\"1\" class=\"dataframe\">\n",
       "  <thead>\n",
       "    <tr style=\"text-align: right;\">\n",
       "      <th></th>\n",
       "      <th>roll_no</th>\n",
       "      <th>name</th>\n",
       "      <th>course</th>\n",
       "    </tr>\n",
       "  </thead>\n",
       "  <tbody>\n",
       "    <tr>\n",
       "      <th>0</th>\n",
       "      <td>13615</td>\n",
       "      <td>abbas</td>\n",
       "      <td>AI</td>\n",
       "    </tr>\n",
       "    <tr>\n",
       "      <th>1</th>\n",
       "      <td>23615</td>\n",
       "      <td>bushra</td>\n",
       "      <td>DS</td>\n",
       "    </tr>\n",
       "    <tr>\n",
       "      <th>2</th>\n",
       "      <td>31615</td>\n",
       "      <td>catholine</td>\n",
       "      <td>ML</td>\n",
       "    </tr>\n",
       "    <tr>\n",
       "      <th>3</th>\n",
       "      <td>61531</td>\n",
       "      <td>bisma</td>\n",
       "      <td>AI</td>\n",
       "    </tr>\n",
       "  </tbody>\n",
       "</table>\n",
       "</div>"
      ],
      "text/plain": [
       "   roll_no       name course\n",
       "0    13615      abbas     AI\n",
       "1    23615     bushra     DS\n",
       "2    31615  catholine     ML\n",
       "3    61531      bisma     AI"
      ]
     },
     "execution_count": 11,
     "metadata": {},
     "output_type": "execute_result"
    }
   ],
   "source": [
    "import pandas as pd\n",
    "\n",
    "data={'roll_no': [13615,23615,31615,61531],\n",
    "      'name':['abbas','bushra','catholine','bisma'],\n",
    "      'course':['AI','DS','ML','AI']}\n",
    "\n",
    "print(data)\n",
    "\n",
    "df=pd.DataFrame(data)\n",
    "df"
   ]
  },
  {
   "cell_type": "code",
   "execution_count": 13,
   "id": "87463d0a",
   "metadata": {},
   "outputs": [
    {
     "name": "stdout",
     "output_type": "stream",
     "text": [
      "True\n"
     ]
    }
   ],
   "source": [
    "print('42201-8243640-6'.replace(\"-\",\"\") == '4220182436406'.replace(\"-\",\"\"))"
   ]
  },
  {
   "cell_type": "code",
   "execution_count": 18,
   "id": "7390b413",
   "metadata": {},
   "outputs": [
    {
     "name": "stdout",
     "output_type": "stream",
     "text": [
      "{'a': 'Pakistan', 20: 'Hello World'}\n",
      "Hello World\n",
      "Pakistan\n"
     ]
    }
   ],
   "source": [
    "d={\n",
    "    'a':\"Pakistan\",\n",
    "    20:\"Hello World\"\n",
    "}\n",
    "\n",
    "print(d)\n",
    "print(d[20])\n",
    "print(d['a'])"
   ]
  },
  {
   "cell_type": "markdown",
   "id": "1e7bd0aa",
   "metadata": {},
   "source": [
    "# Tuple"
   ]
  },
  {
   "cell_type": "code",
   "execution_count": 29,
   "id": "ecaf1f88",
   "metadata": {},
   "outputs": [
    {
     "data": {
      "text/plain": [
       "['count', 'index']"
      ]
     },
     "execution_count": 29,
     "metadata": {},
     "output_type": "execute_result"
    }
   ],
   "source": [
    "a = ('X','Y','Z')\n",
    "\n",
    "[i for i in dir(a) if '__' not in i]"
   ]
  },
  {
   "cell_type": "code",
   "execution_count": 32,
   "id": "ce82fc45",
   "metadata": {},
   "outputs": [
    {
     "name": "stdout",
     "output_type": "stream",
     "text": [
      "X\n",
      "Y\n",
      "Z\n"
     ]
    }
   ],
   "source": [
    "for i in a:\n",
    "    print(i)"
   ]
  },
  {
   "cell_type": "code",
   "execution_count": 34,
   "id": "6968ffde",
   "metadata": {},
   "outputs": [
    {
     "data": {
      "text/plain": [
       "'X'"
      ]
     },
     "execution_count": 34,
     "metadata": {},
     "output_type": "execute_result"
    }
   ],
   "source": [
    "a[0]"
   ]
  },
  {
   "cell_type": "code",
   "execution_count": 35,
   "id": "098b9b40",
   "metadata": {},
   "outputs": [
    {
     "data": {
      "text/plain": [
       "'Z'"
      ]
     },
     "execution_count": 35,
     "metadata": {},
     "output_type": "execute_result"
    }
   ],
   "source": [
    "a[-1]"
   ]
  },
  {
   "cell_type": "code",
   "execution_count": 39,
   "id": "d26917a3",
   "metadata": {},
   "outputs": [
    {
     "name": "stdout",
     "output_type": "stream",
     "text": [
      "{'roll number': [1, 2, 3]}\n",
      "[1, 2, 3]\n",
      "1\n"
     ]
    }
   ],
   "source": [
    "data={'roll number':[1,2,3]}\n",
    "\n",
    "print(data) #dict\n",
    "print(data['roll number'])#list\n",
    "print(data['roll number'][0])"
   ]
  },
  {
   "cell_type": "code",
   "execution_count": 45,
   "id": "cf620a84",
   "metadata": {},
   "outputs": [
    {
     "name": "stdout",
     "output_type": "stream",
     "text": [
      "[1, 2, 3, {'id': '1', 'name': 'Ali'}]\n",
      "{'id': '1', 'name': 'Ali'}\n",
      "Ali\n",
      "<class 'list'>\n"
     ]
    },
    {
     "data": {
      "text/plain": [
       "True"
      ]
     },
     "execution_count": 45,
     "metadata": {},
     "output_type": "execute_result"
    }
   ],
   "source": [
    "a= [1,2,3,{'id':'1','name':'Ali'}]\n",
    "\n",
    "print(a)\n",
    "print(a[-1])\n",
    "print(a[-1]['name'])\n",
    "print(type(a))\n",
    "isinstance(a,list)"
   ]
  },
  {
   "cell_type": "code",
   "execution_count": 60,
   "id": "8598371f",
   "metadata": {},
   "outputs": [
    {
     "name": "stdout",
     "output_type": "stream",
     "text": [
      "[1, 1, 2, 2, 2, 3, 'a', 'b', 'c'] <class 'list'>\n",
      "{1, 'b', 2, 3, 'a', 'c'} <class 'set'>\n",
      "[1, 'b', 2, 3, 'a', 'c'] <class 'list'>\n",
      "[1, 'b', 2, 3, 'a', 'c']\n",
      "['b', 'a', 'c']\n",
      "[1, 2, 3]\n"
     ]
    },
    {
     "data": {
      "text/plain": [
       "['a', 'b', 'c', 1, 2, 3]"
      ]
     },
     "execution_count": 60,
     "metadata": {},
     "output_type": "execute_result"
    }
   ],
   "source": [
    "a= [1,1,2,2,2,3,'a','b','c']\n",
    "\n",
    "print(a, type(a))\n",
    "a=set(a)\n",
    "print(a, type(a))\n",
    "a=list(a)\n",
    "print(a, type(a))\n",
    "\n",
    "a_string= [i for i in a]\n",
    "print(a_string)\n",
    "\n",
    "a_string= [i for i in a if isinstance(i,str)]\n",
    "print(a_string)\n",
    "a_string= sorted(a_string)\n",
    "\n",
    "a_integer= [i for i in a if isinstance(i,int)]\n",
    "print(a_integer)\n",
    "a_integer= sorted(a_integer)\n",
    "\n",
    "a= a_string + a_integer\n",
    "a"
   ]
  },
  {
   "cell_type": "code",
   "execution_count": 57,
   "id": "a8cd4ab4",
   "metadata": {},
   "outputs": [
    {
     "name": "stdout",
     "output_type": "stream",
     "text": [
      "['b', 'a', 'c']\n"
     ]
    }
   ],
   "source": [
    "a_string= [i for i in a if isinstance(i,str)]\n",
    "print(a_string)\n",
    "\n",
    "a_string= sorted(a_string)"
   ]
  },
  {
   "cell_type": "code",
   "execution_count": 64,
   "id": "7d7e38af",
   "metadata": {},
   "outputs": [
    {
     "name": "stdout",
     "output_type": "stream",
     "text": [
      "enter  your roll no 13615\n",
      "enter  your name isra\n",
      "enter  your course ai\n",
      "{'roll_no': '13615', 'name': 'isra', 'course': 'ai'}\n"
     ]
    }
   ],
   "source": [
    "data={'roll_no': input('enter  your roll no '),\n",
    "      'name': input('enter  your name '),\n",
    "      'course': input('enter  your course ')\n",
    "      \n",
    "}\n",
    "\n",
    "print(data)"
   ]
  },
  {
   "cell_type": "code",
   "execution_count": 65,
   "id": "0a975a3c",
   "metadata": {},
   "outputs": [
    {
     "name": "stdout",
     "output_type": "stream",
     "text": [
      "True\n"
     ]
    }
   ],
   "source": [
    "print(isinstance (data,dict))"
   ]
  },
  {
   "cell_type": "code",
   "execution_count": null,
   "id": "e6262281",
   "metadata": {},
   "outputs": [],
   "source": []
  },
  {
   "cell_type": "code",
   "execution_count": null,
   "id": "ee928a38",
   "metadata": {},
   "outputs": [],
   "source": []
  }
 ],
 "metadata": {
  "kernelspec": {
   "display_name": "Python 3 (ipykernel)",
   "language": "python",
   "name": "python3"
  },
  "language_info": {
   "codemirror_mode": {
    "name": "ipython",
    "version": 3
   },
   "file_extension": ".py",
   "mimetype": "text/x-python",
   "name": "python",
   "nbconvert_exporter": "python",
   "pygments_lexer": "ipython3",
   "version": "3.11.4"
  }
 },
 "nbformat": 4,
 "nbformat_minor": 5
}
