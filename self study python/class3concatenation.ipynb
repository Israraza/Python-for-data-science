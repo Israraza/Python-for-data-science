{
 "cells": [
  {
   "cell_type": "markdown",
   "id": "a19a93a6",
   "metadata": {},
   "source": [
    "# Concatenation"
   ]
  },
  {
   "cell_type": "code",
   "execution_count": 1,
   "id": "9a05a069",
   "metadata": {},
   "outputs": [
    {
     "name": "stdout",
     "output_type": "stream",
     "text": [
      "name isra\n",
      "employee id 13615\n",
      "isra13615\n"
     ]
    }
   ],
   "source": [
    "a=input(\"name \")\n",
    "b=input(\"employee id \")\n",
    "\n",
    "print (a+b) "
   ]
  },
  {
   "cell_type": "code",
   "execution_count": 2,
   "id": "a85d1dd3",
   "metadata": {},
   "outputs": [
    {
     "name": "stdout",
     "output_type": "stream",
     "text": [
      "name isra\n",
      "employee id 13615\n",
      "<class 'str'> <class 'str'>\n"
     ]
    }
   ],
   "source": [
    "a=input(\"name \")\n",
    "b=input(\"employee id \")\n",
    "\n",
    "print (type(a),type(b))"
   ]
  },
  {
   "cell_type": "code",
   "execution_count": 3,
   "id": "25f3ade2",
   "metadata": {},
   "outputs": [
    {
     "name": "stdout",
     "output_type": "stream",
     "text": [
      "name isra\n",
      "employee id 3615\n",
      "<class 'str'> <class 'str'>\n",
      "isra3615\n"
     ]
    }
   ],
   "source": [
    "a=input(\"name \")\n",
    "b=input(\"employee id \")\n",
    "\n",
    "print (type(a),type(b))\n",
    "print (a + b)"
   ]
  },
  {
   "cell_type": "code",
   "execution_count": 5,
   "id": "e500c611",
   "metadata": {},
   "outputs": [
    {
     "name": "stdout",
     "output_type": "stream",
     "text": [
      "enter no 15\n",
      "enter no 2 6\n",
      "<class 'str'> <class 'str'>\n",
      "56\n"
     ]
    }
   ],
   "source": [
    "a=input(\"enter no 1\")\n",
    "b=input(\"enter no 2 \")\n",
    "\n",
    "print (type(a),type(b))\n",
    "print (a+b)  #we need to convert it into string to int"
   ]
  },
  {
   "cell_type": "code",
   "execution_count": 10,
   "id": "735f8b48",
   "metadata": {},
   "outputs": [
    {
     "name": "stdout",
     "output_type": "stream",
     "text": [
      "enter no 1 2\n",
      "enter no 2 2\n",
      "<class 'str'> <class 'str'>\n",
      "4\n"
     ]
    }
   ],
   "source": [
    "a=input(\"enter no 1 \")\n",
    "b=input(\"enter no 2 \")\n",
    "\n",
    "print (type(a),type(b))\n",
    "print (int(a)+int(b))"
   ]
  },
  {
   "cell_type": "code",
   "execution_count": 11,
   "id": "f89db463",
   "metadata": {},
   "outputs": [
    {
     "name": "stdout",
     "output_type": "stream",
     "text": [
      "enter no 1 2\n",
      "enter no 2 5\n",
      "7\n",
      "<class 'str'> <class 'str'>\n"
     ]
    }
   ],
   "source": [
    "a=input(\"enter no 1 \")\n",
    "b=input(\"enter no 2 \")\n",
    "\n",
    "print (int(a)+int(b))\n",
    "print (type(a),type(b))"
   ]
  },
  {
   "cell_type": "code",
   "execution_count": 12,
   "id": "884d3070",
   "metadata": {},
   "outputs": [
    {
     "name": "stdout",
     "output_type": "stream",
     "text": [
      "enter no 1 2\n",
      "enter no 2 5\n",
      "<class 'int'> <class 'int'>\n",
      "7\n"
     ]
    }
   ],
   "source": [
    "a=int(input(\"enter no 1 \"))\n",
    "b=int(input(\"enter no 2 \"))\n",
    "\n",
    "print (type(a),type(b))\n",
    "print (a+b)"
   ]
  },
  {
   "cell_type": "code",
   "execution_count": 14,
   "id": "9efb82e2",
   "metadata": {},
   "outputs": [
    {
     "data": {
      "text/plain": [
       "14"
      ]
     },
     "execution_count": 14,
     "metadata": {},
     "output_type": "execute_result"
    }
   ],
   "source": [
    "int(\"7\") + 7\n"
   ]
  },
  {
   "cell_type": "code",
   "execution_count": 17,
   "id": "5469394c",
   "metadata": {},
   "outputs": [
    {
     "data": {
      "text/plain": [
       "'77'"
      ]
     },
     "execution_count": 17,
     "metadata": {},
     "output_type": "execute_result"
    }
   ],
   "source": [
    "\"7\"+ str(7)\n"
   ]
  },
  {
   "cell_type": "code",
   "execution_count": 19,
   "id": "264505c8",
   "metadata": {},
   "outputs": [
    {
     "name": "stdout",
     "output_type": "stream",
     "text": [
      "I am Isra with \n",
      "employee id 13615\n"
     ]
    }
   ],
   "source": [
    "card= \"I am Isra with \\nemployee id 13615\"\n",
    "\n",
    "print(card)"
   ]
  },
  {
   "cell_type": "code",
   "execution_count": 23,
   "id": "683df9b5",
   "metadata": {},
   "outputs": [
    {
     "name": "stdout",
     "output_type": "stream",
     "text": [
      "I am Isra with \n",
      "employee id 13615\n"
     ]
    }
   ],
   "source": [
    "employee_id= 13615\n",
    "card= \"I am Isra with \\nemployee id \" + str(employee_id)\n",
    "\n",
    "print(card)"
   ]
  },
  {
   "cell_type": "code",
   "execution_count": 78,
   "id": "862baaca",
   "metadata": {},
   "outputs": [
    {
     "name": "stdout",
     "output_type": "stream",
     "text": [
      "Your name Isra\n",
      "surname Raza\n",
      "Employee name HMB\n",
      "Employee id 13615\n",
      "Designation Business Intelligence\n"
     ]
    }
   ],
   "source": [
    "name= \"Isra\"\n",
    "employee_id= 13615\n",
    "bank= \"HMB\"\n",
    "designation= \"Business Intelligence\"\n",
    "surname= \"Raza\"\n",
    "\n",
    "card= \"Your name \" + name +\"\\nsurname \" + surname + \"\\nEmployee name \" + bank +\\\n",
    "\"\\nEmployee id \" + str(employee_id)+ \"\\nDesignation \" + designation   #for next line use \\\n",
    "\n",
    "print(card)"
   ]
  },
  {
   "cell_type": "code",
   "execution_count": 73,
   "id": "b6df74f1",
   "metadata": {},
   "outputs": [
    {
     "name": "stdout",
     "output_type": "stream",
     "text": [
      "\n",
      "Your name \tIsra\n",
      "surname \tRaza\n",
      "Employee name \tHMB\n",
      "Employee id \t13615\n",
      "Designation \tBusiness Intelligence\n",
      "\n",
      "\n"
     ]
    }
   ],
   "source": [
    "name= \"Isra\"\n",
    "employee_id= 13615\n",
    "bank= \"HMB\"\n",
    "post= \"Business Intelligence\"\n",
    "surname= \"Raza\"\n",
    "\n",
    "card= \"\"\"\n",
    "Your name \\tIsra\n",
    "surname \\tRaza\n",
    "Employee name \\tHMB\n",
    "Employee id \\t13615\n",
    "Designation \\tBusiness Intelligence\n",
    "\n",
    "\"\"\"\n",
    "\n",
    "print(card)"
   ]
  },
  {
   "cell_type": "code",
   "execution_count": 76,
   "id": "de7b548f",
   "metadata": {},
   "outputs": [
    {
     "name": "stdout",
     "output_type": "stream",
     "text": [
      "\n",
      "Your name  Isra\n",
      "surname  13615\n",
      "Employee name  HMB\n",
      "Employee id  Business Intelligence\n",
      "Designation  Raza\n",
      "\n",
      "\n"
     ]
    }
   ],
   "source": [
    "name= \"Isra\"\n",
    "employee_id= 13615\n",
    "bank= \"HMB\"\n",
    "post= \"Business Intelligence\"\n",
    "surname= \"Raza\"\n",
    "\n",
    "card= \"\"\"\n",
    "Your name  {}\n",
    "surname  {}\n",
    "Employee name  {}\n",
    "Employee id  {}\n",
    "Designation  {}\n",
    "\n",
    "\"\"\" .format(name,employee_id,bank,post,surname)\n",
    "\n",
    "print(card)"
   ]
  },
  {
   "cell_type": "code",
   "execution_count": 81,
   "id": "8893dbb8",
   "metadata": {},
   "outputs": [
    {
     "name": "stdout",
     "output_type": "stream",
     "text": [
      "\n",
      "Your name  Isra\n",
      "surname  Raza\n",
      "Employee name  HMB\n",
      "Employee id  13615\n",
      "Designation  Business Intelligence\n",
      "\n",
      "\n"
     ]
    }
   ],
   "source": [
    "name= \"Isra\"\n",
    "employee_id= 13615\n",
    "bank= \"HMB\"\n",
    "designation= \"Business Intelligence\"\n",
    "surname= \"Raza\"\n",
    "\n",
    "card= \"\"\"\n",
    "Your name  {3}\n",
    "surname  {2}\n",
    "Employee name  {0}\n",
    "Employee id  {4}\n",
    "Designation  {1}\n",
    "\n",
    "\"\"\" .format(bank,designation,surname,name,employee_id)\n",
    "#            0      1           2      3    4\n",
    "print(card)"
   ]
  },
  {
   "cell_type": "markdown",
   "id": "1f16e17e",
   "metadata": {},
   "source": [
    "# Newest way f"
   ]
  },
  {
   "cell_type": "code",
   "execution_count": 84,
   "id": "3795a000",
   "metadata": {},
   "outputs": [
    {
     "name": "stdout",
     "output_type": "stream",
     "text": [
      "\n",
      "Your name  Isra\n",
      "surname  Raza\n",
      "Employee name  HMB\n",
      "Employee id  13615\n",
      "Designation  Business Intelligence\n"
     ]
    }
   ],
   "source": [
    "name= \"Isra\"\n",
    "surname= \"Raza\"\n",
    "bank= \"HMB\"\n",
    "employee_id= 13615\n",
    "designation= \"Business Intelligence\"\n",
    "\n",
    "card= f\"\"\"\n",
    "Your name  {name}\n",
    "surname  {surname}\n",
    "Employee name  {bank}\n",
    "Employee id  {employee_id}\n",
    "Designation  {designation}\"\"\"\n",
    "\n",
    "print(card)"
   ]
  },
  {
   "cell_type": "code",
   "execution_count": 10,
   "id": "5f06a0d6",
   "metadata": {},
   "outputs": [
    {
     "name": "stdout",
     "output_type": "stream",
     "text": [
      "Your nameBushra\n",
      "surnameRaza\n",
      "Employee name5645\n",
      "Employee id4562\n",
      "DesignationQA analyst\n",
      "\n",
      "Your name  Bushra\n",
      "surname  Raza\n",
      "Employee name  5645\n",
      "Employee id  4562\n",
      "Designation  QA analyst\n"
     ]
    }
   ],
   "source": [
    "name= input (\"Your name\")\n",
    "surname= input (\"surname\")\n",
    "bank= input (\"Employee name\")\n",
    "employee_id= input (\"Employee id\")\n",
    "designation= input (\"Designation\")\n",
    "\n",
    "card= f\"\"\"\n",
    "Your name  {name}\n",
    "surname  {surname}\n",
    "Employee name  {bank}\n",
    "Employee id  {employee_id}\n",
    "Designation  {designation}\"\"\"\n",
    "\n",
    "print(card)"
   ]
  },
  {
   "cell_type": "markdown",
   "id": "0791ec86",
   "metadata": {},
   "source": [
    "# oldest way"
   ]
  },
  {
   "cell_type": "code",
   "execution_count": 9,
   "id": "1dbdd5c3",
   "metadata": {},
   "outputs": [
    {
     "name": "stdout",
     "output_type": "stream",
     "text": [
      "Your name Isra employee id 13615 \n"
     ]
    }
   ],
   "source": [
    "name= \"Isra\"\n",
    "employee_id= 13615\n",
    "\n",
    "a= \"Your name %s employee id %d \" %(name,employee_id)\n",
    "\n",
    "print(a)"
   ]
  },
  {
   "cell_type": "markdown",
   "id": "da5aa6a1",
   "metadata": {},
   "source": [
    "# Assignment 2"
   ]
  },
  {
   "cell_type": "code",
   "execution_count": 1,
   "id": "f9cdc872",
   "metadata": {},
   "outputs": [
    {
     "name": "stdout",
     "output_type": "stream",
     "text": [
      "my name is Syeda Isra Raza, I am 27 years old, and I live in Pakistan\n"
     ]
    }
   ],
   "source": [
    "#Assignment 1: String Concatenation and Formatting\n",
    "    \n",
    "name=\" Syeda Isra Raza\"\n",
    "age=\" 27\"\n",
    "country=\" Pakistan\"\n",
    "\n",
    "print(\"my name is\" + name +\", I am\" + age +\" years old,\" \" and I live in\" + country)"
   ]
  },
  {
   "cell_type": "code",
   "execution_count": 8,
   "id": "99019ca0",
   "metadata": {},
   "outputs": [
    {
     "name": "stdout",
     "output_type": "stream",
     "text": [
      "150\n",
      "I bought 6 Books at each, for a total of $ 150\n"
     ]
    }
   ],
   "source": [
    "#Assignment 2: String Formatting using .format()\n",
    "    \n",
    "item=\"Books\"\n",
    "price=25\n",
    "quantity=6\n",
    "\n",
    "total_cost = price * quantity\n",
    "\n",
    "print(total_cost)\n",
    "\n",
    "a=\"I bought \"+ str(quantity) + \" \" + item + \" at each, for a total of $ \" +\\\n",
    "str(total_cost) .format(quantity,item,price,total_cost)\n",
    "\n",
    "print(a)"
   ]
  },
  {
   "cell_type": "code",
   "execution_count": 72,
   "id": "eef4749b",
   "metadata": {},
   "outputs": [
    {
     "name": "stdout",
     "output_type": "stream",
     "text": [
      "150\n",
      "I bought 6 Books at 25 each, for a total of $ 150\n"
     ]
    }
   ],
   "source": [
    "item=\"Books\"\n",
    "price=25\n",
    "quantity=6\n",
    "\n",
    "total_cost = price * quantity\n",
    "\n",
    "print(total_cost)\n",
    "\n",
    "a=\"I bought {} {} at {} each, for a total of $ {}\" .format(quantity,item,price,total_cost)\n",
    "\n",
    "print(a)"
   ]
  },
  {
   "cell_type": "code",
   "execution_count": 89,
   "id": "abd51bd4",
   "metadata": {},
   "outputs": [
    {
     "name": "stdout",
     "output_type": "stream",
     "text": [
      "The temperature in Islamabad is 31°C.\n"
     ]
    }
   ],
   "source": [
    "#Assignment 3: String Interpolation using f''\n",
    "\n",
    "city=\"Islamabad\"\n",
    "temp= 31\n",
    "\n",
    "a=f\"The temperature in {city} is {temp}°C.\"\n",
    "\n",
    "print(a)"
   ]
  },
  {
   "cell_type": "code",
   "execution_count": 11,
   "id": "e2722999",
   "metadata": {},
   "outputs": [
    {
     "name": "stdout",
     "output_type": "stream",
     "text": [
      "My name is Isra Raza. I am 28 years old.\n"
     ]
    }
   ],
   "source": [
    "#Assignment 4: String Formatting using %()\n",
    "    \n",
    "first_name= \"Isra\"\n",
    "last_name= \"Raza\"\n",
    "birth_year= 1995\n",
    "\n",
    "age = 2023 - birth_year\n",
    "\n",
    "a= \"My name is %s %s. I am %d years old.\" %(first_name,last_name,age)\n",
    "\n",
    "print(a)"
   ]
  },
  {
   "cell_type": "code",
   "execution_count": null,
   "id": "7003ef5b",
   "metadata": {},
   "outputs": [],
   "source": []
  }
 ],
 "metadata": {
  "kernelspec": {
   "display_name": "Python 3 (ipykernel)",
   "language": "python",
   "name": "python3"
  },
  "language_info": {
   "codemirror_mode": {
    "name": "ipython",
    "version": 3
   },
   "file_extension": ".py",
   "mimetype": "text/x-python",
   "name": "python",
   "nbconvert_exporter": "python",
   "pygments_lexer": "ipython3",
   "version": "3.11.4"
  }
 },
 "nbformat": 4,
 "nbformat_minor": 5
}
