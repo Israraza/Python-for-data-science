{
 "cells": [
  {
   "cell_type": "code",
   "execution_count": 1,
   "id": "5dea832a",
   "metadata": {},
   "outputs": [
    {
     "name": "stdout",
     "output_type": "stream",
     "text": [
      "Isra\n",
      "Bushra\n",
      "Mohammad\n",
      "Farwa\n"
     ]
    }
   ],
   "source": [
    "s1_name=\"Isra\"\n",
    "s2_name=\"Bushra\"\n",
    "s3_name=\"Mohammad\"\n",
    "s4_name=\"Farwa\"\n",
    "\n",
    "print(s1_name)\n",
    "print(s2_name)\n",
    "print(s3_name)\n",
    "print(s4_name)"
   ]
  },
  {
   "cell_type": "code",
   "execution_count": 2,
   "id": "ef46f5ee",
   "metadata": {},
   "outputs": [
    {
     "data": {
      "text/plain": [
       "['Isra', 'Bushra', 'Mohammad', 'Farwa']"
      ]
     },
     "execution_count": 2,
     "metadata": {},
     "output_type": "execute_result"
    }
   ],
   "source": [
    "names=[\"Isra\",\"Bushra\",\"Mohammad\",\"Farwa\"]\n",
    "names"
   ]
  },
  {
   "cell_type": "code",
   "execution_count": 14,
   "id": "d6807ff0",
   "metadata": {},
   "outputs": [
    {
     "name": "stdout",
     "output_type": "stream",
     "text": [
      "Please insert names with ',' separated: isra, bushra farwa\n",
      "isra, bushra farwa\n"
     ]
    }
   ],
   "source": [
    "names1= input (\"Please insert names with ',' separated: \")\n",
    "\n",
    "print(names1)"
   ]
  },
  {
   "cell_type": "code",
   "execution_count": 15,
   "id": "a43e8ec7",
   "metadata": {},
   "outputs": [
    {
     "name": "stdout",
     "output_type": "stream",
     "text": [
      "Please insert names with ',' separated: isra bushra, farwa\n",
      "isra bushra, farwa\n"
     ]
    },
    {
     "data": {
      "text/plain": [
       "['isra bushra', ' farwa']"
      ]
     },
     "execution_count": 15,
     "metadata": {},
     "output_type": "execute_result"
    }
   ],
   "source": [
    "names1= input (\"Please insert names with ',' separated: \")\n",
    "\n",
    "print(names1)\n",
    "names1.split(\",\")"
   ]
  },
  {
   "cell_type": "code",
   "execution_count": 70,
   "id": "d3566936",
   "metadata": {},
   "outputs": [
    {
     "name": "stdout",
     "output_type": "stream",
     "text": [
      "Bushra\n",
      "Bushra\n"
     ]
    }
   ],
   "source": [
    "a=[\"Isra\",\"Bushra\",\"Mohammad\",\"Farwa\"]\n",
    "\n",
    "print(a[1])\n",
    "print(a[-3])"
   ]
  },
  {
   "cell_type": "markdown",
   "id": "8929e052",
   "metadata": {},
   "source": [
    "# slicing on list\n",
    "\n",
    "start:end:step"
   ]
  },
  {
   "cell_type": "code",
   "execution_count": 6,
   "id": "d53d0ca1",
   "metadata": {},
   "outputs": [
    {
     "name": "stdout",
     "output_type": "stream",
     "text": [
      "[1, 2, 3, 4, 5, 6, 7, 8, 9, 10]\n",
      "[4, 5, 6]\n",
      "[2, 3, 4, 5, 6]\n",
      "2\n"
     ]
    }
   ],
   "source": [
    "a= list(range(1,11))\n",
    "\n",
    "print(a)\n",
    "print(a[3:6])\n",
    "print(a[1:6])\n",
    "print(a[1])"
   ]
  },
  {
   "cell_type": "code",
   "execution_count": 8,
   "id": "447c1d7f",
   "metadata": {},
   "outputs": [
    {
     "name": "stdout",
     "output_type": "stream",
     "text": [
      "[1, 2, 3, 4, 5, 6, 7, 8, 9, 10]\n",
      "[4, 6]\n"
     ]
    }
   ],
   "source": [
    "a= list(range(1,11))\n",
    "\n",
    "print(a)\n",
    "print(a[3:6:2]) #start:end:steps"
   ]
  },
  {
   "cell_type": "code",
   "execution_count": 11,
   "id": "d1214596",
   "metadata": {},
   "outputs": [
    {
     "name": "stdout",
     "output_type": "stream",
     "text": [
      "[1, 2, 3, 4, 5, 6, 7, 8, 9, 10]\n",
      "[4, 5, 6, 7, 8, 9, 10]\n",
      "[4, 5, 6, 7, 8, 9, 10]\n",
      "[4, 5, 6, 7, 8, 9, 10]\n",
      "[4, 5, 6, 7, 8, 9, 10]\n",
      "[4, 5, 6, 7, 8, 9, 10]\n"
     ]
    }
   ],
   "source": [
    "a= list(range(1,11))\n",
    "\n",
    "print(a)\n",
    "print(a[3::])\n",
    "print(a[3:])\n",
    "print(a[3:10])\n",
    "print(a[3:10:1])\n",
    "print(a[-7:])"
   ]
  },
  {
   "cell_type": "code",
   "execution_count": 3,
   "id": "107a32ea",
   "metadata": {},
   "outputs": [
    {
     "name": "stdout",
     "output_type": "stream",
     "text": [
      "[1, 2, 3, 4, 5, 6, 7, 8, 9, 10]\n",
      "[]\n",
      "[6, 7, 8]\n",
      "[9, 8, 7]\n",
      "[10]\n",
      "[10, 9, 8, 7, 6, 5, 4, 3, 2, 1]\n",
      "[1, 2, 3, 4, 5, 6, 7, 8, 9]\n"
     ]
    }
   ],
   "source": [
    "a= list(range(1,11))\n",
    "\n",
    "#[1, 2, 3, 4, 5, 6, 7, 8, 9, 10]\n",
    "#-10 -9 -8 -7 -6 -5 -4 -3 -2 -1\n",
    "print(a)\n",
    "print(a[-2:-5])\n",
    "print(a[-5:-2])\n",
    "print(a[-2:-5:-1])\n",
    "print(a[-1::])\n",
    "print(a[::-1])\n",
    "print(a[:-1])"
   ]
  },
  {
   "cell_type": "code",
   "execution_count": 19,
   "id": "7fa42a5f",
   "metadata": {},
   "outputs": [
    {
     "data": {
      "text/plain": [
       "[[1, 2, 3, 4, 5, 6, 7, 8, 9, 10],\n",
       " [11, 12, 13, 14, 15, 16, 17, 18, 19, 20],\n",
       " [21, 22, 23, 24, 25, 26, 27, 28, 29, 30],\n",
       " [31, 32, 33, 34, 35, 36, 37, 38, 39, 40],\n",
       " [41, 42, 43, 44, 45, 46, 47, 48, 49, 50],\n",
       " [51, 52, 53, 54, 55, 56, 57, 58, 59, 60],\n",
       " [61, 62, 63, 64, 65, 66, 67, 68, 69, 70],\n",
       " [71, 72, 73, 74, 75, 76, 77, 78, 79, 80],\n",
       " [81, 82, 83, 84, 85, 86, 87, 88, 89, 90],\n",
       " [91, 92, 93, 94, 95, 96, 97, 98, 99, 100]]"
      ]
     },
     "execution_count": 19,
     "metadata": {},
     "output_type": "execute_result"
    }
   ],
   "source": [
    "import numpy as np\n",
    "\n",
    "a=np.arange(1,101).reshape(10,10).tolist()\n",
    "a"
   ]
  },
  {
   "cell_type": "code",
   "execution_count": 20,
   "id": "4a4a470c",
   "metadata": {},
   "outputs": [
    {
     "data": {
      "text/plain": [
       "[[1, 2, 3, 4, 5, 6, 7, 8, 9, 10],\n",
       " [11, 12, 13, 14, 15, 16, 17, 18, 19, 20],\n",
       " [21, 22, 23, 24, 25, 26, 27, 28, 29, 30],\n",
       " [31, 32, 33, 34, 35, 36, 37, 38, 39, 40],\n",
       " [41, 42, 43, 44, 45, 46, 47, 48, 49, 50],\n",
       " [51, 52, 53, 54, 55, 56, 57, 58, 59, 60],\n",
       " [61, 62, 63, 64, 65, 66, 67, 68, 69, 70],\n",
       " [71, 72, 73, 74, 75, 76, 77, 78, 79, 80],\n",
       " [81, 82, 83, 84, 85, 86, 87, 88, 89, 90],\n",
       " [91, 92, 93, 94, 95, 96, 97, 98, 99, 100]]"
      ]
     },
     "execution_count": 20,
     "metadata": {},
     "output_type": "execute_result"
    }
   ],
   "source": [
    "a[::]"
   ]
  },
  {
   "cell_type": "code",
   "execution_count": 21,
   "id": "fe1fa2cb",
   "metadata": {},
   "outputs": [
    {
     "data": {
      "text/plain": [
       "[[1, 2, 3, 4, 5, 6, 7, 8, 9, 10],\n",
       " [11, 12, 13, 14, 15, 16, 17, 18, 19, 20],\n",
       " [21, 22, 23, 24, 25, 26, 27, 28, 29, 30],\n",
       " [31, 32, 33, 34, 35, 36, 37, 38, 39, 40],\n",
       " [41, 42, 43, 44, 45, 46, 47, 48, 49, 50]]"
      ]
     },
     "execution_count": 21,
     "metadata": {},
     "output_type": "execute_result"
    }
   ],
   "source": [
    "a[0:5]"
   ]
  },
  {
   "cell_type": "code",
   "execution_count": 22,
   "id": "9e617c4c",
   "metadata": {},
   "outputs": [
    {
     "data": {
      "text/plain": [
       "[[6, 7, 8],\n",
       " [16, 17, 18],\n",
       " [26, 27, 28],\n",
       " [36, 37, 38],\n",
       " [46, 47, 48],\n",
       " [56, 57, 58],\n",
       " [66, 67, 68],\n",
       " [76, 77, 78],\n",
       " [86, 87, 88],\n",
       " [96, 97, 98]]"
      ]
     },
     "execution_count": 22,
     "metadata": {},
     "output_type": "execute_result"
    }
   ],
   "source": [
    "[i[5:8] for i in a]"
   ]
  },
  {
   "cell_type": "code",
   "execution_count": 28,
   "id": "5d59c839",
   "metadata": {},
   "outputs": [
    {
     "data": {
      "text/plain": [
       "['append',\n",
       " 'clear',\n",
       " 'copy',\n",
       " 'count',\n",
       " 'extend',\n",
       " 'index',\n",
       " 'insert',\n",
       " 'pop',\n",
       " 'remove',\n",
       " 'reverse',\n",
       " 'sort']"
      ]
     },
     "execution_count": 28,
     "metadata": {},
     "output_type": "execute_result"
    }
   ],
   "source": [
    "[i for i in dir(a) if \"__\" not in i]"
   ]
  },
  {
   "cell_type": "code",
   "execution_count": 29,
   "id": "093130c5",
   "metadata": {},
   "outputs": [
    {
     "name": "stdout",
     "output_type": "stream",
     "text": [
      "a\n",
      "b\n",
      "c\n",
      "d\n",
      "e\n",
      "f\n",
      "g\n"
     ]
    }
   ],
   "source": [
    "for i in \"abcdefg\":\n",
    "    print(i)"
   ]
  },
  {
   "cell_type": "code",
   "execution_count": 30,
   "id": "171ccb3a",
   "metadata": {},
   "outputs": [
    {
     "name": "stdout",
     "output_type": "stream",
     "text": [
      "Isra\n",
      "Bushra\n",
      "Farwa\n"
     ]
    }
   ],
   "source": [
    "for i in [\"Isra\",\"Bushra\", \"Farwa\"]:\n",
    "    print(i)"
   ]
  },
  {
   "cell_type": "code",
   "execution_count": 33,
   "id": "eeeebfa6",
   "metadata": {},
   "outputs": [
    {
     "data": {
      "text/plain": [
       "['a', 'b', 'c', 'd', 'e', 'f', 'g']"
      ]
     },
     "execution_count": 33,
     "metadata": {},
     "output_type": "execute_result"
    }
   ],
   "source": [
    "[i for i in \"abcdefg\"]\n",
    "   "
   ]
  },
  {
   "cell_type": "code",
   "execution_count": 36,
   "id": "47ffeb1d",
   "metadata": {},
   "outputs": [
    {
     "data": {
      "text/plain": [
       "['Isra', 'Bushra', 'Farwa']"
      ]
     },
     "execution_count": 36,
     "metadata": {},
     "output_type": "execute_result"
    }
   ],
   "source": [
    "[i for i in [\"Isra\",\"Bushra\", \"Farwa\"]]\n"
   ]
  },
  {
   "cell_type": "code",
   "execution_count": 12,
   "id": "cbda9275",
   "metadata": {},
   "outputs": [
    {
     "name": "stdout",
     "output_type": "stream",
     "text": [
      "['Isra', 'Bushra', 'Farwa', 'mohammad']\n"
     ]
    }
   ],
   "source": [
    "names=[\"Isra\",\"Bushra\", \"Farwa\"]\n",
    "\n",
    "names.append(\"mohammad\")\n",
    "print(names)"
   ]
  },
  {
   "cell_type": "code",
   "execution_count": 79,
   "id": "19907cec",
   "metadata": {},
   "outputs": [
    {
     "name": "stdout",
     "output_type": "stream",
     "text": [
      "Enter student name , press x for exit qasim\n",
      "Enter student name , press x for exit x\n",
      "['Isra', 'Bushra', 'Farwa', 'mohammad', 'qasim']\n"
     ]
    }
   ],
   "source": [
    "while True:\n",
    "    name1 =input(\"Enter student name , press x for exit \")\n",
    "    if name1 == \"X\" or name1 ==\"x\":\n",
    "        break;\n",
    "    \n",
    "    names.append(name1)\n",
    "    \n",
    "print(names)"
   ]
  },
  {
   "cell_type": "code",
   "execution_count": 4,
   "id": "b762901a",
   "metadata": {},
   "outputs": [
    {
     "name": "stdout",
     "output_type": "stream",
     "text": [
      "['Isra', 'Bushra', 'Farwa', 'mohammad']\n"
     ]
    }
   ],
   "source": [
    "st_names=names\n",
    "\n",
    "print(st_names)"
   ]
  },
  {
   "cell_type": "code",
   "execution_count": 74,
   "id": "5a63a777",
   "metadata": {},
   "outputs": [
    {
     "data": {
      "text/plain": [
       "'Isra'"
      ]
     },
     "execution_count": 74,
     "metadata": {},
     "output_type": "execute_result"
    }
   ],
   "source": [
    "st_names[0]"
   ]
  },
  {
   "cell_type": "code",
   "execution_count": 5,
   "id": "22c2b42c",
   "metadata": {},
   "outputs": [
    {
     "name": "stdout",
     "output_type": "stream",
     "text": [
      "['komail', 'Bushra', 'Farwa', 'mohammad']\n"
     ]
    }
   ],
   "source": [
    "st_names[0]=\"komail\"\n",
    "\n",
    "print(st_names)"
   ]
  },
  {
   "cell_type": "code",
   "execution_count": 13,
   "id": "d20f5d5e",
   "metadata": {},
   "outputs": [
    {
     "name": "stdout",
     "output_type": "stream",
     "text": [
      "['Daniya', 'Bushra', 'Farwa', 'mohammad']\n",
      "['Isra', 'Bushra', 'Farwa', 'mohammad']\n"
     ]
    }
   ],
   "source": [
    "st_names1=names.copy()\n",
    "st_names1\n",
    "\n",
    "st_names1[0]=\"Daniya\"\n",
    "\n",
    "print(st_names1)\n",
    "print(names)"
   ]
  },
  {
   "cell_type": "code",
   "execution_count": 83,
   "id": "8b2d1d65",
   "metadata": {},
   "outputs": [
    {
     "data": {
      "text/plain": [
       "0"
      ]
     },
     "execution_count": 83,
     "metadata": {},
     "output_type": "execute_result"
    }
   ],
   "source": [
    "names.count(\"isra\")"
   ]
  },
  {
   "cell_type": "code",
   "execution_count": 10,
   "id": "94e54f90",
   "metadata": {},
   "outputs": [
    {
     "name": "stdout",
     "output_type": "stream",
     "text": [
      "['komail', 'Bushra', 'Farwa', 'mohammad', '111', '111']\n"
     ]
    }
   ],
   "source": [
    "names.append(\"111\")\n",
    "print(names)"
   ]
  },
  {
   "cell_type": "code",
   "execution_count": 16,
   "id": "a8a81a0a",
   "metadata": {},
   "outputs": [
    {
     "data": {
      "text/plain": [
       "['a', 'b', 'c']"
      ]
     },
     "execution_count": 16,
     "metadata": {},
     "output_type": "execute_result"
    }
   ],
   "source": [
    "remaining_names=[\"a\",\"b\",\"c\"]\n",
    "remaining_names"
   ]
  },
  {
   "cell_type": "code",
   "execution_count": 17,
   "id": "65ce7075",
   "metadata": {},
   "outputs": [
    {
     "name": "stdout",
     "output_type": "stream",
     "text": [
      "['Isra', 'Bushra', 'Farwa', 'mohammad', 'a', 'b', 'c']\n"
     ]
    }
   ],
   "source": [
    "names.extend(remaining_names)\n",
    "\n",
    "print(names)"
   ]
  },
  {
   "cell_type": "code",
   "execution_count": 18,
   "id": "3b5c103f",
   "metadata": {},
   "outputs": [
    {
     "name": "stdout",
     "output_type": "stream",
     "text": [
      "['Bushra', 'Farwa', 'mohammad', 'a', 'b', 'c']\n"
     ]
    }
   ],
   "source": [
    "del names[0]\n",
    "\n",
    "print(names)"
   ]
  },
  {
   "cell_type": "code",
   "execution_count": 20,
   "id": "fb18f00a",
   "metadata": {},
   "outputs": [
    {
     "name": "stdout",
     "output_type": "stream",
     "text": [
      "b\n",
      "['Bushra', 'Farwa', 'mohammad', 'a']\n"
     ]
    }
   ],
   "source": [
    "d=names.pop()\n",
    "\n",
    "print(d)\n",
    "print(names)"
   ]
  },
  {
   "cell_type": "code",
   "execution_count": 23,
   "id": "1d5fc91d",
   "metadata": {},
   "outputs": [
    {
     "data": {
      "text/plain": [
       "['Bushra', 'Farwa', 'a']"
      ]
     },
     "execution_count": 23,
     "metadata": {},
     "output_type": "execute_result"
    }
   ],
   "source": [
    "names"
   ]
  },
  {
   "cell_type": "code",
   "execution_count": 24,
   "id": "4265e1f2",
   "metadata": {},
   "outputs": [
    {
     "name": "stdout",
     "output_type": "stream",
     "text": [
      "['Bushra', 'a']\n"
     ]
    }
   ],
   "source": [
    "names.remove(\"Farwa\")\n",
    "\n",
    "print(names)"
   ]
  },
  {
   "cell_type": "code",
   "execution_count": 25,
   "id": "40e22a4c",
   "metadata": {},
   "outputs": [],
   "source": [
    "names.reverse()"
   ]
  },
  {
   "cell_type": "code",
   "execution_count": 26,
   "id": "704a52b5",
   "metadata": {},
   "outputs": [
    {
     "data": {
      "text/plain": [
       "['a', 'Bushra']"
      ]
     },
     "execution_count": 26,
     "metadata": {},
     "output_type": "execute_result"
    }
   ],
   "source": [
    "names"
   ]
  }
 ],
 "metadata": {
  "kernelspec": {
   "display_name": "Python 3 (ipykernel)",
   "language": "python",
   "name": "python3"
  },
  "language_info": {
   "codemirror_mode": {
    "name": "ipython",
    "version": 3
   },
   "file_extension": ".py",
   "mimetype": "text/x-python",
   "name": "python",
   "nbconvert_exporter": "python",
   "pygments_lexer": "ipython3",
   "version": "3.11.4"
  }
 },
 "nbformat": 4,
 "nbformat_minor": 5
}
