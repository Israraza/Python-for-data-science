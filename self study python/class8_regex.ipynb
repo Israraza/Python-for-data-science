{
 "cells": [
  {
   "cell_type": "code",
   "execution_count": 1,
   "id": "d0c42947",
   "metadata": {},
   "outputs": [],
   "source": [
    "import re"
   ]
  },
  {
   "cell_type": "code",
   "execution_count": 2,
   "id": "18f5f3bc",
   "metadata": {},
   "outputs": [
    {
     "name": "stdout",
     "output_type": "stream",
     "text": [
      "['A', 'ASCII', 'DEBUG', 'DOTALL', 'I', 'IGNORECASE', 'L', 'LOCALE', 'M', 'MULTILINE', 'Match', 'NOFLAG', 'Pattern', 'RegexFlag', 'S', 'Scanner', 'T', 'TEMPLATE', 'U', 'UNICODE', 'VERBOSE', 'X', '_MAXCACHE', '__all__', '__builtins__', '__cached__', '__doc__', '__file__', '__loader__', '__name__', '__package__', '__path__', '__spec__', '__version__', '_cache', '_casefix', '_compile', '_compile_repl', '_compiler', '_constants', '_expand', '_parser', '_pickle', '_special_chars_map', '_subx', 'compile', 'copyreg', 'enum', 'error', 'escape', 'findall', 'finditer', 'fullmatch', 'functools', 'match', 'purge', 'search', 'split', 'sub', 'subn', 'template']\n"
     ]
    }
   ],
   "source": [
    "print(dir(re))"
   ]
  },
  {
   "cell_type": "code",
   "execution_count": 12,
   "id": "d45a76ec",
   "metadata": {},
   "outputs": [
    {
     "data": {
      "text/plain": [
       "['A',\n",
       " 'ASCII',\n",
       " 'DEBUG',\n",
       " 'DOTALL',\n",
       " 'I',\n",
       " 'IGNORECASE',\n",
       " 'L',\n",
       " 'LOCALE',\n",
       " 'M',\n",
       " 'MULTILINE',\n",
       " 'Match',\n",
       " 'NOFLAG',\n",
       " 'Pattern',\n",
       " 'RegexFlag',\n",
       " 'S',\n",
       " 'Scanner',\n",
       " 'T',\n",
       " 'TEMPLATE',\n",
       " 'U',\n",
       " 'UNICODE',\n",
       " 'VERBOSE',\n",
       " 'X',\n",
       " 'compile',\n",
       " 'copyreg',\n",
       " 'enum',\n",
       " 'error',\n",
       " 'escape',\n",
       " 'findall',\n",
       " 'finditer',\n",
       " 'fullmatch',\n",
       " 'functools',\n",
       " 'match',\n",
       " 'purge',\n",
       " 'search',\n",
       " 'split',\n",
       " 'sub',\n",
       " 'subn',\n",
       " 'template']"
      ]
     },
     "execution_count": 12,
     "metadata": {},
     "output_type": "execute_result"
    }
   ],
   "source": [
    "[i for i in dir(re) if '_' not in i]"
   ]
  },
  {
   "cell_type": "code",
   "execution_count": 14,
   "id": "ec0412e0",
   "metadata": {},
   "outputs": [
    {
     "data": {
      "text/plain": [
       "['allowed']"
      ]
     },
     "execution_count": 14,
     "metadata": {},
     "output_type": "execute_result"
    }
   ],
   "source": [
    "text= \"\"\"\n",
    "I am thrilled to share a project that has not only expanded my horizons but also allowed me to deeply immerse \n",
    "myself in the world of coding. The Translator Website isn't just a code-based creation; it's a powerful tool \n",
    "designed to simplify language translation. Whether aiding travelers in foreign lands, assisting businesses in \n",
    "their global expansion, or helping students conquer language assignments, it's a bridge that connects us all \n",
    "through the magic of technology.\n",
    "\"\"\"\n",
    "\n",
    "pattern=\"allowed\"\n",
    "\n",
    "re.findall(pattern,text)"
   ]
  },
  {
   "cell_type": "code",
   "execution_count": 16,
   "id": "4a7ea2e5",
   "metadata": {},
   "outputs": [
    {
     "data": {
      "text/plain": [
       "['Translator']"
      ]
     },
     "execution_count": 16,
     "metadata": {},
     "output_type": "execute_result"
    }
   ],
   "source": [
    "text= \"\"\"\n",
    "I am thrilled to share a project that has not only expanded my horizons but also allowed me to deeply immerse \n",
    "myself in the world of coding. The Translator Website isn't just a code-based creation; it's a powerful tool \n",
    "designed to simplify language translation. Whether aiding travelers in foreign lands, assisting businesses in \n",
    "their global expansion, or helping students conquer language assignments, it's a bridge that connects us all \n",
    "through the magic of technology.\n",
    "\"\"\"\n",
    "\n",
    "pattern=\"translator\"\n",
    "\n",
    "re.findall(pattern,text,re.IGNORECASE)"
   ]
  },
  {
   "cell_type": "markdown",
   "id": "df122076",
   "metadata": {},
   "source": [
    "# \".\" anything except \\n\n",
    "\n",
    "# \"+\" one or many\n",
    "\n",
    "# \"*\" zero or many"
   ]
  },
  {
   "cell_type": "code",
   "execution_count": 29,
   "id": "f2a187be",
   "metadata": {},
   "outputs": [
    {
     "data": {
      "text/plain": [
       "\"\\nI am thrilled to share a project that has not only expanded my horizons but also allowed me to deeply immerse \\nmyself in the world of coding.The Translator Website isn't just a code-based creation; it's a powerful tool \\ndesigned to simplify language translation. Whether aiding travelers in foreign lands, assisting businesses in \\ntheir global expansion, or helping students conquer language assignments, it's a bridge that connects us all \\nthrough the magic of technology.\\n\""
      ]
     },
     "metadata": {},
     "output_type": "display_data"
    },
    {
     "data": {
      "text/plain": [
       "['I am thrilled to share a project that has not only expanded my horizons but also allowed me to deeply immerse ',\n",
       " \"myself in the world of coding.The Translator Website isn't just a code-based creation; it's a powerful tool \",\n",
       " 'designed to simplify language translation. Whether aiding travelers in foreign lands, assisting businesses in ',\n",
       " \"their global expansion, or helping students conquer language assignments, it's a bridge that connects us all \",\n",
       " 'through the magic of technology.']"
      ]
     },
     "execution_count": 29,
     "metadata": {},
     "output_type": "execute_result"
    }
   ],
   "source": [
    "text= \"\"\"\n",
    "I am thrilled to share a project that has not only expanded my horizons but also allowed me to deeply immerse \n",
    "myself in the world of coding.The Translator Website isn't just a code-based creation; it's a powerful tool \n",
    "designed to simplify language translation. Whether aiding travelers in foreign lands, assisting businesses in \n",
    "their global expansion, or helping students conquer language assignments, it's a bridge that connects us all \n",
    "through the magic of technology.\n",
    "\"\"\"\n",
    "\n",
    "display(text)\n",
    "\n",
    "pattern= \".+\"\n",
    "\n",
    "re.findall(pattern,text,re.IGNORECASE)"
   ]
  },
  {
   "cell_type": "code",
   "execution_count": 34,
   "id": "b53d3f92",
   "metadata": {},
   "outputs": [
    {
     "data": {
      "text/plain": [
       "\"\\nI am thrilled to share a project that has not only expanded my horizons but also allowed me to deeply immerse \\nmyself in the world of coding.The Translator Website isn't just a code-based creation; it's a powerful tool \\ndesigned to simplify language translation. Whether aiding travelers in foreign lands, assisting businesses in \\ntheir global expansion, or helping students conquer language assignments, it's a bridge that connects us all \\nthrough the magic of technology.\\n\""
      ]
     },
     "metadata": {},
     "output_type": "display_data"
    },
    {
     "data": {
      "text/plain": [
       "['thrilled to share a project that has not only expanded my horizons but also allowed me to deeply immerse ',\n",
       " \"the world of coding.The Translator Website isn't just a code-based creation; it's a powerful tool \",\n",
       " 'to simplify language translation. Whether aiding travelers in foreign lands, assisting businesses in ',\n",
       " \"their global expansion, or helping students conquer language assignments, it's a bridge that connects us all \",\n",
       " 'through the magic of technology.']"
      ]
     },
     "execution_count": 34,
     "metadata": {},
     "output_type": "execute_result"
    }
   ],
   "source": [
    "text= \"\"\"\n",
    "I am thrilled to share a project that has not only expanded my horizons but also allowed me to deeply immerse \n",
    "myself in the world of coding.The Translator Website isn't just a code-based creation; it's a powerful tool \n",
    "designed to simplify language translation. Whether aiding travelers in foreign lands, assisting businesses in \n",
    "their global expansion, or helping students conquer language assignments, it's a bridge that connects us all \n",
    "through the magic of technology.\n",
    "\"\"\"\n",
    "\n",
    "display(text)\n",
    "\n",
    "pattern= \"t.+\"\n",
    "\n",
    "re.findall(pattern,text,re.MULTILINE)"
   ]
  },
  {
   "cell_type": "code",
   "execution_count": 35,
   "id": "2bcc1a4e",
   "metadata": {},
   "outputs": [
    {
     "data": {
      "text/plain": [
       "\"\\nI am thrilled to share a project that has not only expanded my horizons but also allowed me to deeply immerse \\nmyself in the world of coding.The Translator Website isn't just a code-based creation; it's a powerful tool \\ndesigned to simplify language translation. Whether aiding travelers in foreign lands, assisting businesses in \\ntheir global expansion, or helping students conquer language assignments, it's a bridge that connects us all \\nthrough the magic of technology.\\n\""
      ]
     },
     "metadata": {},
     "output_type": "display_data"
    },
    {
     "data": {
      "text/plain": [
       "[\"their global expansion, or helping students conquer language assignments, it's a bridge that connects us all \",\n",
       " 'through the magic of technology.']"
      ]
     },
     "execution_count": 35,
     "metadata": {},
     "output_type": "execute_result"
    }
   ],
   "source": [
    "text= \"\"\"\n",
    "I am thrilled to share a project that has not only expanded my horizons but also allowed me to deeply immerse \n",
    "myself in the world of coding.The Translator Website isn't just a code-based creation; it's a powerful tool \n",
    "designed to simplify language translation. Whether aiding travelers in foreign lands, assisting businesses in \n",
    "their global expansion, or helping students conquer language assignments, it's a bridge that connects us all \n",
    "through the magic of technology.\n",
    "\"\"\"\n",
    "\n",
    "display(text)\n",
    "\n",
    "pattern= \"^t.+\"\n",
    "\n",
    "re.findall(pattern,text,re.MULTILINE)"
   ]
  },
  {
   "cell_type": "code",
   "execution_count": 43,
   "id": "cdfea2bb",
   "metadata": {},
   "outputs": [
    {
     "data": {
      "text/plain": [
       "\"\\nI am thrilled to share a project that has not only expanded my horizons but also allowed me to deeply immerse!\\nmyself in the world of coding. The Translator Website isn't just a code-based creation; it's a powerful tool!\\ndesigned to simplify language translation. Whether aiding travelers in foreign lands, assisting businesses in \\ntheir global expansion, or helping students conquer language assignments, it's a bridge that connects us all \\nthrough the magic of technology.\\n\""
      ]
     },
     "metadata": {},
     "output_type": "display_data"
    },
    {
     "data": {
      "text/plain": [
       "['I am thrilled to share a project that has not only expanded my horizons but also allowed me to deeply immerse!',\n",
       " \"myself in the world of coding. The Translator Website isn't just a code-based creation; it's a powerful tool!\"]"
      ]
     },
     "execution_count": 43,
     "metadata": {},
     "output_type": "execute_result"
    }
   ],
   "source": [
    "text= \"\"\"\n",
    "I am thrilled to share a project that has not only expanded my horizons but also allowed me to deeply immerse!\n",
    "myself in the world of coding. The Translator Website isn't just a code-based creation; it's a powerful tool!\n",
    "designed to simplify language translation. Whether aiding travelers in foreign lands, assisting businesses in \n",
    "their global expansion, or helping students conquer language assignments, it's a bridge that connects us all\n",
    "through the magic of technology.\n",
    "\"\"\"\n",
    "#remove spaces end of line\n",
    "\n",
    "display(text)\n",
    "# $ is ending (! ends with this ) (. anything)\n",
    "pattern= \".+!$\"\n",
    "\n",
    "re.findall(pattern,text,re.MULTILINE)"
   ]
  },
  {
   "cell_type": "code",
   "execution_count": 56,
   "id": "05d90964",
   "metadata": {},
   "outputs": [
    {
     "data": {
      "text/plain": [
       "\"\\nI am thrilled to share a project that has not only expanded my horizons but also allowed me to deeply immerse.\\nmyself in the world of coding. The Translator Website isn't just a code-based creation; it's a powerful tool!\\ndesigned to simplify language translation.Whether aiding travelers in foreign lands, assisting businesses in \\ntheir global expansion, or helping students conquer language assignments, it's a bridge that connects us all\\nthrough the magic of technology.\\n\""
      ]
     },
     "metadata": {},
     "output_type": "display_data"
    },
    {
     "data": {
      "text/plain": [
       "['I am thrilled to share a project that has not only expanded my horizons but also allowed me to deeply immerse.',\n",
       " 'through the magic of technology.']"
      ]
     },
     "execution_count": 56,
     "metadata": {},
     "output_type": "execute_result"
    }
   ],
   "source": [
    "text= \"\"\"\n",
    "I am thrilled to share a project that has not only expanded my horizons but also allowed me to deeply immerse.\n",
    "myself in the world of coding. The Translator Website isn't just a code-based creation; it's a powerful tool!\n",
    "designed to simplify language translation.Whether aiding travelers in foreign lands, assisting businesses in \n",
    "their global expansion, or helping students conquer language assignments, it's a bridge that connects us all\n",
    "through the magic of technology.\n",
    "\"\"\"\n",
    "\n",
    "display(text)\n",
    "# to use . as ending we have to use \\ before special char\n",
    "pattern= \".+\\.$\"\n",
    "\n",
    "re.findall(pattern,text,re.MULTILINE)"
   ]
  },
  {
   "cell_type": "markdown",
   "id": "6e326b0e",
   "metadata": {},
   "source": [
    "# start ^\n",
    "# ends $"
   ]
  },
  {
   "cell_type": "code",
   "execution_count": 55,
   "id": "e4cfce06",
   "metadata": {},
   "outputs": [
    {
     "data": {
      "text/plain": [
       "\"\\nI am thrilled to share a project that has not only expanded my horizons but also allowed me to deeply immerse.\\nmyself in the world of coding. The Translator Website isn't just a code-based creation; it's a powerful tool!\\ndesigned to simplify language translation. Whether aiding travelers in foreign lands, assisting businesses in \\ntheir global expansion, or helping students conquer language assignments, it's a bridge that connects us all\\nthrough the magic of technology.\\n\""
      ]
     },
     "metadata": {},
     "output_type": "display_data"
    },
    {
     "data": {
      "text/plain": [
       "['I am thrilled to share a project that has not only expanded my horizons but also allowed me to deeply immerse.']"
      ]
     },
     "execution_count": 55,
     "metadata": {},
     "output_type": "execute_result"
    }
   ],
   "source": [
    "text= \"\"\"\n",
    "I am thrilled to share a project that has not only expanded my horizons but also allowed me to deeply immerse.\n",
    "myself in the world of coding. The Translator Website isn't just a code-based creation; it's a powerful tool!\n",
    "designed to simplify language translation. Whether aiding travelers in foreign lands, assisting businesses in \n",
    "their global expansion, or helping students conquer language assignments, it's a bridge that connects us all\n",
    "through the magic of technology.\n",
    "\"\"\"\n",
    "\n",
    "display(text)\n",
    "# to use . as ending we have to use \\ before special char\n",
    "pattern= \"^I.+\\.$\"\n",
    "\n",
    "re.findall(pattern,text,re.MULTILINE)"
   ]
  },
  {
   "cell_type": "code",
   "execution_count": 62,
   "id": "1ffbeccf",
   "metadata": {},
   "outputs": [
    {
     "data": {
      "text/plain": [
       "\"\\ni am thrilled to share a project that has not only expanded my horizons but also allowed me to deeply immerse.\\nmyself in the world of coding. the translator website isn't just a code-based creation; it's a powerful tool!\\ndesigned to simplify language translation. whether aiding travelers in foreign lands, assisting businesses in \\ntheir global expansion, or helping students conquer language assignments, it's a bridge that connects us all\\nthrough the magic of technology.\\n\""
      ]
     },
     "metadata": {},
     "output_type": "display_data"
    },
    {
     "name": "stdout",
     "output_type": "stream",
     "text": [
      "['I am thrilled to share a project that has not only expanded my horizons but also allowed me to deeply immerse.']\n"
     ]
    }
   ],
   "source": [
    "text= \"\"\"\n",
    "I am thrilled to share a project that has not only expanded my horizons but also allowed me to deeply immerse.\n",
    "myself in the world of coding. The Translator Website isn't just a code-based creation; it's a powerful tool!\n",
    "designed to simplify language translation. Whether aiding travelers in foreign lands, assisting businesses in \n",
    "their global expansion, or helping students conquer language assignments, it's a bridge that connects us all\n",
    "through the magic of technology.\n",
    "\"\"\"\n",
    "\n",
    "text=text.lower()\n",
    "display(text)\n",
    "# to use . as ending we have to use \\ before special char\n",
    "pattern= \"^i.+\\.$\"\n",
    "\n",
    "l=re.findall(pattern,text,re.MULTILINE)\n",
    "#for first word caps(beautification)\n",
    "l=[i.capitalize() for i in l]\n",
    "\n",
    "print(l)"
   ]
  },
  {
   "cell_type": "code",
   "execution_count": 70,
   "id": "76850caf",
   "metadata": {},
   "outputs": [
    {
     "name": "stdout",
     "output_type": "stream",
     "text": [
      "['a', 'a', 'a', 'c', 'a', 'a', 'a', 'b', 'a', 'a', 'c', 'a', 'a', 'b', 'a', 'c', 'ba', 'c', 'a', 'a', 'a', 'a', 'a', 'a', 'a', 'a', 'a', 'a', 'b', 'ba', 'a', 'c', 'a', 'a', 'a', 'a', 'b', 'a', 'c', 'c', 'a', 'a', 'c', 'c']\n"
     ]
    }
   ],
   "source": [
    "text= \"\"\"\n",
    "I am thrilled to share a project that has not only expanded my horizons but also allowed me to deeply immerse.\n",
    "myself in the world of coding. The Translator Website isn't just a code-based creation; it's a powerful tool!\n",
    "designed to simplify language translation. Whether aiding travelers in foreign lands, assisting businesses in \n",
    "their global expansion, or helping students conquer language assignments, it's a bridge that connects us all\n",
    "through the magic of technology.\n",
    "\"\"\"\n",
    "\n",
    "pattern=\"[abc]+\"\n",
    "\n",
    "l=re.findall(pattern,text)\n",
    "print(l)"
   ]
  },
  {
   "cell_type": "code",
   "execution_count": 69,
   "id": "4fd4de2c",
   "metadata": {},
   "outputs": [
    {
     "name": "stdout",
     "output_type": "stream",
     "text": [
      "['r', 'o', 'r', 'pro', 'o', 'o', 'p', 'or', 'o', 'o', 'o', 'o', 'p', 'r', 'or', 'o', 'o', 'r', 'or', 'o', 'r', 'o', 'po', 'r', 'oo', 'o', 'p', 'r', 'o', 'r', 'r', 'r', 'or', 'r', 'o', 'p', 'o', 'or', 'p', 'o', 'r', 'r', 'o', 'ro', 'o', 'o', 'o']\n"
     ]
    }
   ],
   "source": [
    "text= \"\"\"\n",
    "I am thrilled to share a project that has not only expanded my horizons but also allowed me to deeply immerse.\n",
    "myself in the world of coding. The Translator Website isn't just a code-based creation; it's a powerful tool!\n",
    "designed to simplify language translation. Whether aiding travelers in foreign lands, assisting businesses in \n",
    "their global expansion, or helping students conquer language assignments, it's a bridge that connects us all\n",
    "through the magic of technology.\n",
    "\"\"\"\n",
    "\n",
    "pattern=\"[pro]+\"\n",
    "\n",
    "l=re.findall(pattern,text)\n",
    "print(l)"
   ]
  },
  {
   "cell_type": "code",
   "execution_count": 77,
   "id": "c45babcc",
   "metadata": {},
   "outputs": [
    {
     "data": {
      "text/plain": [
       "['I am thrilled to share a project that has not only expanded my horizons but also allowed me to deeply immerse.',\n",
       " \"their global expansion, or helping students conquer language assignments, it's a bridge that connects us all\",\n",
       " 'through the magic of technology.']"
      ]
     },
     "execution_count": 77,
     "metadata": {},
     "output_type": "execute_result"
    }
   ],
   "source": [
    "text= \"\"\"\n",
    "I am thrilled to share a project that has not only expanded my horizons but also allowed me to deeply immerse.\n",
    "myself in the world of coding. The Translator Website isn't just a code-based creation; it's a powerful tool!\n",
    "designed to simplify language translation. Whether aiding travelers in foreign lands, assisting businesses in \n",
    "their global expansion, or helping students conquer language assignments, it's a bridge that connects us all\n",
    "through the magic of technology.\n",
    "\"\"\"\n",
    "\n",
    "pattern=\"^[ITit].+\" #can also use*\n",
    "\n",
    "re.findall(pattern,text,re.MULTILINE)"
   ]
  },
  {
   "cell_type": "code",
   "execution_count": 82,
   "id": "04ab940a",
   "metadata": {},
   "outputs": [
    {
     "data": {
      "text/plain": [
       "['We am thrilled to share a project that has not only expanded my horizons but also allowed me to deeply immerse.']"
      ]
     },
     "execution_count": 82,
     "metadata": {},
     "output_type": "execute_result"
    }
   ],
   "source": [
    "text= \"\"\"\n",
    "We am thrilled to share a project that has not only expanded my horizons but also allowed me to deeply immerse.\n",
    "myself in the world of coding. The Translator Website isn't just a code-based creation; it's a powerful tool!\n",
    "designed to simplify language translation. Whether aiding travelers in foreign lands, assisting businesses in \n",
    "their global expansion, or helping students conquer language assignments, it's a bridge that connects us all\n",
    "through the magic of technology.\n",
    "\"\"\"\n",
    "\n",
    "pattern=\"^We.+\" #can also use*\n",
    "\n",
    "re.findall(pattern,text,re.MULTILINE)"
   ]
  },
  {
   "cell_type": "code",
   "execution_count": 85,
   "id": "59d84169",
   "metadata": {},
   "outputs": [
    {
     "data": {
      "text/plain": [
       "['pak', 'pak', 'pick']"
      ]
     },
     "execution_count": 85,
     "metadata": {},
     "output_type": "execute_result"
    }
   ],
   "source": [
    "text= \"\"\"\n",
    "Pakistan zindabad.\n",
    "Pakistan is a great country\n",
    "pick up my call.\n",
    "\"\"\"\n",
    "text=text.lower()\n",
    "pattern=\"p.*k\" \n",
    "\n",
    "re.findall(pattern,text,re.MULTILINE)"
   ]
  },
  {
   "cell_type": "markdown",
   "id": "60ca816f",
   "metadata": {},
   "source": [
    "# word boundary concept"
   ]
  },
  {
   "cell_type": "code",
   "execution_count": 130,
   "id": "1c385779",
   "metadata": {},
   "outputs": [
    {
     "data": {
      "text/plain": [
       "['pakistan', 'pakistan', 'paksdhjn']"
      ]
     },
     "execution_count": 130,
     "metadata": {},
     "output_type": "execute_result"
    }
   ],
   "source": [
    "text= \"\"\"\n",
    "Pakistan zindabad.\n",
    "Pakistan is a great country\n",
    "pick up my call.\n",
    "paksdhjn is my country djfgd.\n",
    "\"\"\"\n",
    "text=text.lower()\n",
    "pattern=r\"\\bp.*n\\b\"  #har word ki boundries sey check karta hai (boundry concept apply r)\n",
    "\n",
    "re.findall(pattern,text,re.MULTILINE)"
   ]
  },
  {
   "cell_type": "code",
   "execution_count": 105,
   "id": "37293dd8",
   "metadata": {},
   "outputs": [
    {
     "name": "stdout",
     "output_type": "stream",
     "text": [
      "['We', 'am', 'thrilled', 'to', 'share', 'a', 'project', 'that', 'has', 'not', 'only', 'expanded', 'my', 'horizons', 'but', 'also', 'allowed', 'me', 'to', 'deeply', 'immerse', 'myself', 'in', 'the', 'world', 'of', 'coding', '26', 'The', 'Translator', 'Website', 'isn', 't', 'just', 'a', 'code', 'based', 'creation', 'it', 's', 'a', 'powerful', 'tool', 'designed', 'to', 'simplify', 'language', 'translation', 'Whether', 'aiding', 'travelers', 'in', 'foreign', 'lands', 'assisting', 'businesses', 'in', 'their', 'global', 'expansion', 'or', '1', 'helping', 'students', 'conquer', 'language', 'assignments', 'it', 's', 'a', '25', 'bridge', 'that', 'connects', 'us', 'all', 'through', 'the', 'magic', 'of', 'technology']\n"
     ]
    }
   ],
   "source": [
    "text= \"\"\"\n",
    "We am thrilled to share a project that has not only expanded my horizons but also allowed me to deeply immerse.\n",
    "myself in the world of coding 26. The Translator Website isn't just a code-based creation; it's a powerful tool!\n",
    "designed to simplify language translation. Whether aiding travelers in foreign lands, assisting businesses in \n",
    "their global expansion, or 1 helping students conquer language assignments, it's a 25 bridge that connects us all\n",
    "through the magic of technology.\n",
    "\"\"\"\n",
    "\n",
    "#pattern= r\"[0123456789]+\"\n",
    "#pattern= r\"[1-9]+\"\n",
    "#pattern= r\"[A-za-z]+\"\n",
    "#pattern= r\"[A-z]+\"\n",
    "\n",
    "pattern= r\"[A-z0-9]+\"\n",
    "\n",
    "l=re.findall(pattern,text,re.MULTILINE)\n",
    "\n",
    "print(l)"
   ]
  },
  {
   "cell_type": "code",
   "execution_count": 107,
   "id": "4085e252",
   "metadata": {},
   "outputs": [
    {
     "data": {
      "text/plain": [
       "['.', '26.', '652', '.', '1', '777.98', '25', '.']"
      ]
     },
     "execution_count": 107,
     "metadata": {},
     "output_type": "execute_result"
    }
   ],
   "source": [
    "text= \"\"\"\n",
    "We am thrilled to share a project that has not only expanded my horizons but also allowed me to deeply immerse.\n",
    "myself in the world of coding 26. The Translator Website 652 isn't just a code-based creation; it's a powerful tool!\n",
    "designed to simplify language translation. Whether aiding travelers in foreign lands, assisting businesses in \n",
    "their global expansion, or 1 helping 777.98 students conquer language assignments, it's a 25 bridge that connects us all\n",
    "through the magic of technology.\n",
    "\"\"\"\n",
    "\n",
    "pattern= r\"[0-9.]+\"\n",
    "\n",
    "re.findall(pattern,text,re.MULTILINE)"
   ]
  },
  {
   "cell_type": "code",
   "execution_count": 113,
   "id": "e9c873cb",
   "metadata": {},
   "outputs": [
    {
     "name": "stdout",
     "output_type": "stream",
     "text": [
      "['26', '652', '1', '777', '98', '25']\n"
     ]
    }
   ],
   "source": [
    "text= \"\"\"\n",
    "We am thrilled to share a project that has not only expanded my horizons but also allowed me to deeply immerse.\n",
    "myself in the world of coding 26. The Translator Website 652 isn't just a code-based creation; it's a powerful tool!\n",
    "designed to simplify language translation. Whether aiding travelers in foreign lands, assisting businesses in \n",
    "their global expansion, or 1 helping 777.98 students conquer language assignments, it's a 25 bridge that connects us all\n",
    "through the magic of technology.\n",
    "\"\"\"\n",
    "\n",
    "pattern= r\"[0-9]+\"\n",
    "\n",
    "l=re.findall(pattern,text,re.MULTILINE)\n",
    "\n",
    "[i for i in l if i.isalnum()]\n",
    "\n",
    "print(l)"
   ]
  },
  {
   "cell_type": "code",
   "execution_count": 115,
   "id": "c91e4978",
   "metadata": {},
   "outputs": [
    {
     "data": {
      "text/plain": [
       "['01-05-2024']"
      ]
     },
     "execution_count": 115,
     "metadata": {},
     "output_type": "execute_result"
    }
   ],
   "source": [
    "text= \"\"\"\n",
    "purchase date 24\\12\\2022\n",
    "expiry date 01-05-2024\n",
    "\"\"\"\n",
    "\n",
    "pattern= r\"01-05-2024\"\n",
    "\n",
    "l=re.findall(pattern,text,re.MULTILINE)\n",
    "l"
   ]
  },
  {
   "cell_type": "code",
   "execution_count": 117,
   "id": "b1d3610b",
   "metadata": {},
   "outputs": [
    {
     "data": {
      "text/plain": [
       "['01-05-2024']"
      ]
     },
     "execution_count": 117,
     "metadata": {},
     "output_type": "execute_result"
    }
   ],
   "source": [
    "text= \"\"\"\n",
    "purchase date 24\\12\\2022\n",
    "expiry date 01-05-2024\n",
    "\"\"\"\n",
    "\n",
    "pattern= r\"[0-9]{1,2}-[0-9]{1,2}-[0-9]{2,4}\"\n",
    "\n",
    "l=re.findall(pattern,text)\n",
    "l"
   ]
  },
  {
   "cell_type": "markdown",
   "id": "ffd443dd",
   "metadata": {},
   "source": [
    "# 0-9  represents with \\d\n",
    "# A-z represents with \\w"
   ]
  },
  {
   "cell_type": "code",
   "execution_count": 128,
   "id": "b01d581a",
   "metadata": {},
   "outputs": [
    {
     "data": {
      "text/plain": [
       "['15/01/2022', '15*01*2022', '01-05-2024']"
      ]
     },
     "execution_count": 128,
     "metadata": {},
     "output_type": "execute_result"
    }
   ],
   "source": [
    "text= \"\"\"\n",
    "purchase date 24\\12\\2022\n",
    "purchase date 15/01/2022\n",
    "purchase date 15*01*2022\n",
    "expiry date 01-05-2024\n",
    "\"\"\"\n",
    "\n",
    "pattern= r\"\\d{1,2}[*-/\\\\]\\d{1,2}[*-/\\\\]\\d{2,4}\"\n",
    "\n",
    "l=re.findall(pattern,text)\n",
    "l"
   ]
  },
  {
   "cell_type": "code",
   "execution_count": 43,
   "id": "f4393bec",
   "metadata": {},
   "outputs": [
    {
     "data": {
      "text/plain": [
       "[]"
      ]
     },
     "execution_count": 43,
     "metadata": {},
     "output_type": "execute_result"
    }
   ],
   "source": [
    "text1=\"\"\"\n",
    "2 331166 Irum Jalal 17201-7460065-2 Labortory Attendent 4 DEO (F) 13-Nov-16 17201-2172499-9 Kashif Shah 1430-1 NBP 1637 194,503 14-Nov-17\n",
    "3 389961 Miraj Khan 17301-7808672-9 Behishti 3 Gov House 2-Feb-17 17301-9938448-4 Khalida Bibi 7900499203 HBL 0225 194,503 14-Nov-17\n",
    "4 42044 Shoaib 17301-8738046-3 Pump Operator 5 CM Sectt 4-Dec-15 17301-4701275-6 Najma Shaheen 0035-00-2 BoK 0156 295,112 14-Nov-17\n",
    "5 781196 Hakeem Khan 15602-0176051-1 Driver 5 PEDO 18-Jan-16 15602-3619532-0 Roshan Jamila 77000015101 HBL 2476 294,736 14-Nov-17\n",
    "6 3316 Fazli Mula 17101-0629293-9 EPI Technician 9 DHO 3-Jul-15 17101-0957019-0 Shah Haram 7901120603 HBL 0217 296,992 14-Nov-17\n",
    "7 716338 Waqas Alam 11202-0354052-5 Tube Well Operator 6 Irrigaion 15-Sep-16 11201-0363972-9 Qibla Alam 4082176861 NBP 0964 291,559 14-Nov-17\n",
    "8 342090 Nadir Khan 11201-0393094-5 Clincial Technician 16 DHQ 25-Oct-15 11201-0354693-2 Mst Bibi Hawa 0010035742960012 ABL 0617 444,504 26-Jan-18\n",
    "9 298272 Noor Zarif Khan 14202-1319432-3 Operator 7 Public Health Eng 26-Oct-15 14202-1283832-0 Naraz Begum 7900217601 HBL 1596 295,864 14-Nov-17\n",
    "10 502637 Fazli Subhan 17301-0623801-5 Artist 12 DGHS 21-Jan-16 17301-7954461-4 Mujahida Tabasum 4119118522 NBP 0388 392,920 26-Jan-18\n",
    "11 44543 Abdul Qadeem 17301-15516787-1 Naib Qasid 4 Sport Cult Tour 16-Dec-15 17301-5577227-2 Naseema 228898999 UBL 1567 196,893 14-Nov-17\n",
    "12 39276 Said Rahim 17301-1392679-3 Supervisor 8 Sport Cult Tour 27-May-17 15402-5114600-0 Shagufta Bibi 4143217281 NBP 0386 291,352 14-Nov-17\n",
    "13 39724 Ikram Ullah 17301-1390563-5 Senior Scale Stenographer 16 CM Sectt 8-May-16 17301-1313422-6 Shaheen Begum 4136493602 NBP 0389 441,756 14-Nov-17\n",
    "14 141772 Asia Shafi 17201-2091445-0 Primary School Head Teacher 15 DEO (F) 31-Jul-15 17201-2132421-1 Amir Zeb 7901550703 HBL 0222 395,189 14-Nov-17\n",
    "15 302234 Unab Gul 14202-9153362-1 Chowkidar 4 Public Health Eng 13-Oct-15 14202-7958724-4 Khial Marjana 7900211903 HBL 1596 196,675 14-Nov-17\n",
    "16 388296 Ihsan Ullah 13202-4343047-3 Watcher 7 Fisheries 17-Apr-16 13202-2975750-2 Bibi Amna 1242-0 BoK 134 293,232 26-Jan-18\n",
    "17 136401 Noor Bahadar 17201-2290006-7 Chowkidar 2 DEO (F) \n",
    "\n",
    "\"\"\"\n",
    "\n",
    "import re\n",
    "pattern = r'(\\d+) (\\d{6}) (.*?) (\\d{2,5}-\\d{7}-\\d) (.*?) (\\d+-\\w+-\\d+ \\d+:\\d+) (?:\\d+-\\d+-\\d+ )?17 DEO \\(F\\)'\n",
    "\n",
    "#pattern = r'(\\d+) (\\d{6}) (.*?) (\\d{2,5}-\\d{2,7}-\\d) (.*?)(?:\\d+-\\d+-\\d+ )?17 DEO \\(F\\)'\n",
    "#pattern='(\\d{1}) (\\d{6}) (.*?) (\\d{2,5}-\\d{2,7}-\\d{1}) (.*?) (?:\\d+-\\d+-\\d+ )?17 DEO \\(F\\)'\n",
    "l=re.findall(pattern,text1)\n",
    "l"
   ]
  },
  {
   "cell_type": "code",
   "execution_count": 54,
   "id": "5ac24c08",
   "metadata": {},
   "outputs": [
    {
     "data": {
      "text/html": [
       "<div>\n",
       "<style scoped>\n",
       "    .dataframe tbody tr th:only-of-type {\n",
       "        vertical-align: middle;\n",
       "    }\n",
       "\n",
       "    .dataframe tbody tr th {\n",
       "        vertical-align: top;\n",
       "    }\n",
       "\n",
       "    .dataframe thead th {\n",
       "        text-align: right;\n",
       "    }\n",
       "</style>\n",
       "<table border=\"1\" class=\"dataframe\">\n",
       "  <thead>\n",
       "    <tr style=\"text-align: right;\">\n",
       "      <th></th>\n",
       "      <th>0</th>\n",
       "      <th>1</th>\n",
       "      <th>2</th>\n",
       "    </tr>\n",
       "  </thead>\n",
       "  <tbody>\n",
       "    <tr>\n",
       "      <th>0</th>\n",
       "      <td>12:05:40</td>\n",
       "      <td>Ali Asar</td>\n",
       "      <td>PIAIC-187258</td>\n",
       "    </tr>\n",
       "    <tr>\n",
       "      <th>1</th>\n",
       "      <td>12:05:41</td>\n",
       "      <td>Hasnain Munir</td>\n",
       "      <td>PIAIC-187272</td>\n",
       "    </tr>\n",
       "    <tr>\n",
       "      <th>2</th>\n",
       "      <td>12:05:44</td>\n",
       "      <td>Shaheer Baig</td>\n",
       "      <td>PIAIC-169519</td>\n",
       "    </tr>\n",
       "    <tr>\n",
       "      <th>3</th>\n",
       "      <td>12:05:45</td>\n",
       "      <td>Humera Naz</td>\n",
       "      <td>PIAIC-173431</td>\n",
       "    </tr>\n",
       "    <tr>\n",
       "      <th>4</th>\n",
       "      <td>12:05:47</td>\n",
       "      <td>Sadia Anwar</td>\n",
       "      <td>PIAIC-180028</td>\n",
       "    </tr>\n",
       "    <tr>\n",
       "      <th>5</th>\n",
       "      <td>12:05:47</td>\n",
       "      <td>Muhammad Mehroz</td>\n",
       "      <td>PIAIC-131496</td>\n",
       "    </tr>\n",
       "    <tr>\n",
       "      <th>6</th>\n",
       "      <td>12:05:47</td>\n",
       "      <td>Home</td>\n",
       "      <td>PIAIC-172998</td>\n",
       "    </tr>\n",
       "    <tr>\n",
       "      <th>7</th>\n",
       "      <td>12:05:47</td>\n",
       "      <td>Muhammad Sadullah = PIAIC-178950</td>\n",
       "      <td>PIAIC-178950</td>\n",
       "    </tr>\n",
       "    <tr>\n",
       "      <th>8</th>\n",
       "      <td>12:05:48</td>\n",
       "      <td>Muhammad Uzair-177637</td>\n",
       "      <td>PIAIC-177637</td>\n",
       "    </tr>\n",
       "    <tr>\n",
       "      <th>9</th>\n",
       "      <td>12:05:48</td>\n",
       "      <td>Taqwa Khaliq</td>\n",
       "      <td>PIAIC-173701</td>\n",
       "    </tr>\n",
       "    <tr>\n",
       "      <th>10</th>\n",
       "      <td>12:05:49</td>\n",
       "      <td>Faisal Bashir-177802</td>\n",
       "      <td>PIAIC-177802</td>\n",
       "    </tr>\n",
       "    <tr>\n",
       "      <th>11</th>\n",
       "      <td>12:05:50</td>\n",
       "      <td>Talha Munir Rana</td>\n",
       "      <td>PIAIC-173761</td>\n",
       "    </tr>\n",
       "    <tr>\n",
       "      <th>12</th>\n",
       "      <td>12:05:52</td>\n",
       "      <td>Abdul Qadar</td>\n",
       "      <td>PIAIC-172941</td>\n",
       "    </tr>\n",
       "    <tr>\n",
       "      <th>13</th>\n",
       "      <td>12:05:57</td>\n",
       "      <td>Dr. Bhagwan Das</td>\n",
       "      <td>PIAIC-96879</td>\n",
       "    </tr>\n",
       "    <tr>\n",
       "      <th>14</th>\n",
       "      <td>12:05:57</td>\n",
       "      <td>Uzair Ullah (PIAIC169405)</td>\n",
       "      <td>PIAIC-169405</td>\n",
       "    </tr>\n",
       "    <tr>\n",
       "      <th>15</th>\n",
       "      <td>12:06:00</td>\n",
       "      <td>Arshad</td>\n",
       "      <td>PIAIC168092</td>\n",
       "    </tr>\n",
       "    <tr>\n",
       "      <th>16</th>\n",
       "      <td>12:06:01</td>\n",
       "      <td>PIAIC188523 Subhan Ahmed</td>\n",
       "      <td>PIAIC188523</td>\n",
       "    </tr>\n",
       "    <tr>\n",
       "      <th>17</th>\n",
       "      <td>12:06:04</td>\n",
       "      <td>Taqwa Khaliq</td>\n",
       "      <td>PIAIC 173701</td>\n",
       "    </tr>\n",
       "    <tr>\n",
       "      <th>18</th>\n",
       "      <td>12:06:10</td>\n",
       "      <td>Ali Asar</td>\n",
       "      <td>PIAIC-188720</td>\n",
       "    </tr>\n",
       "    <tr>\n",
       "      <th>19</th>\n",
       "      <td>12:06:28</td>\n",
       "      <td>Gulshan Ali</td>\n",
       "      <td>PIAIC-176719</td>\n",
       "    </tr>\n",
       "    <tr>\n",
       "      <th>20</th>\n",
       "      <td>12:06:29</td>\n",
       "      <td>M Ali Asif Khan - PIAIC-57947</td>\n",
       "      <td>PIAIC-57947</td>\n",
       "    </tr>\n",
       "    <tr>\n",
       "      <th>21</th>\n",
       "      <td>12:06:33</td>\n",
       "      <td>Usman Noor PIAIC-188401</td>\n",
       "      <td>PIAIC-188401</td>\n",
       "    </tr>\n",
       "    <tr>\n",
       "      <th>22</th>\n",
       "      <td>12:06:49</td>\n",
       "      <td>Sohaib Baseer Ahmad</td>\n",
       "      <td>PIAIC67260</td>\n",
       "    </tr>\n",
       "    <tr>\n",
       "      <th>23</th>\n",
       "      <td>12:40:20</td>\n",
       "      <td>Ali Asar</td>\n",
       "      <td>PIAIC -187258</td>\n",
       "    </tr>\n",
       "  </tbody>\n",
       "</table>\n",
       "</div>"
      ],
      "text/plain": [
       "           0                                 1              2\n",
       "0   12:05:40                          Ali Asar   PIAIC-187258\n",
       "1   12:05:41                     Hasnain Munir   PIAIC-187272\n",
       "2   12:05:44                      Shaheer Baig   PIAIC-169519\n",
       "3   12:05:45                        Humera Naz   PIAIC-173431\n",
       "4   12:05:47                       Sadia Anwar   PIAIC-180028\n",
       "5   12:05:47                   Muhammad Mehroz   PIAIC-131496\n",
       "6   12:05:47                              Home   PIAIC-172998\n",
       "7   12:05:47  Muhammad Sadullah = PIAIC-178950   PIAIC-178950\n",
       "8   12:05:48             Muhammad Uzair-177637   PIAIC-177637\n",
       "9   12:05:48                      Taqwa Khaliq   PIAIC-173701\n",
       "10  12:05:49              Faisal Bashir-177802   PIAIC-177802\n",
       "11  12:05:50                  Talha Munir Rana   PIAIC-173761\n",
       "12  12:05:52                       Abdul Qadar   PIAIC-172941\n",
       "13  12:05:57                   Dr. Bhagwan Das    PIAIC-96879\n",
       "14  12:05:57         Uzair Ullah (PIAIC169405)   PIAIC-169405\n",
       "15  12:06:00                            Arshad    PIAIC168092\n",
       "16  12:06:01          PIAIC188523 Subhan Ahmed    PIAIC188523\n",
       "17  12:06:04                      Taqwa Khaliq   PIAIC 173701\n",
       "18  12:06:10                          Ali Asar   PIAIC-188720\n",
       "19  12:06:28                       Gulshan Ali   PIAIC-176719\n",
       "20  12:06:29     M Ali Asif Khan - PIAIC-57947    PIAIC-57947\n",
       "21  12:06:33           Usman Noor PIAIC-188401   PIAIC-188401\n",
       "22  12:06:49               Sohaib Baseer Ahmad     PIAIC67260\n",
       "23  12:40:20                          Ali Asar  PIAIC -187258"
      ]
     },
     "execution_count": 54,
     "metadata": {},
     "output_type": "execute_result"
    }
   ],
   "source": [
    "data = \"\"\"\n",
    "\n",
    "12:05:40 From Ali Asar To Everyone : PIAIC-187258\n",
    "12:05:41 From Hasnain Munir To Everyone : PIAIC-187272\n",
    "12:05:44 From Shaheer Baig To Everyone : PIAIC-169519\n",
    "12:05:45 From Humera Naz To Everyone : PIAIC-173431\n",
    "12:05:47 From Sadia Anwar To Everyone : PIAIC-180028\n",
    "12:05:47 From Muhammad Mehroz To Everyone : PIAIC-131496\n",
    "12:05:47 From Home To Everyone : PIAIC-172998\n",
    "12:05:47 From Muhammad Sadullah = PIAIC-178950 To Everyone : PIAIC-178950\n",
    "12:05:48 From Muhammad Uzair-177637 To Everyone : PIAIC-177637\n",
    "12:05:48 From Taqwa Khaliq To Everyone : PIAIC-173701 TAQWA KHALIQ\n",
    "12:05:48 From asghar ibraheem CNC-012105 To Everyone : CNC-012105\n",
    "12:05:49 From Faisal Bashir-177802 To Everyone : PIAIC-177802\n",
    "12:05:50 From Talha Munir Rana To Everyone : PIAIC-173761\n",
    "12:05:52 From Abdul Qadar To Everyone : PIAIC-172941\n",
    "12:05:57 From Dr. Bhagwan Das To Everyone : PIAIC-96879\n",
    "12:05:57 From Uzair Ullah (PIAIC169405) To Everyone : PIAIC-169405\n",
    "12:06:00 From Arshad To Everyone : PIAIC168092\n",
    "12:06:01 From PIAIC188523 Subhan Ahmed To Everyone : PIAIC188523\n",
    "12:06:04 From Taqwa Khaliq To Everyone : PIAIC 173701\n",
    "12:06:10 From Ali Asar To Everyone : PIAIC-188720\n",
    "12:06:23 From Mohammad Javed To Everyone : WhatsApp number?\n",
    "12:06:28 From Gulshan Ali To Everyone : PIAIC-176719\n",
    "12:06:29 From M Ali Asif Khan - PIAIC-57947 To Everyone : PIAIC-57947\n",
    "12:06:33 From Usman Noor PIAIC-188401 To Everyone : PIAIC-188401\n",
    "12:06:46 From Zia (piaic121514) To Everyone : thanks\n",
    "12:06:49 From Sohaib Baseer Ahmad To Everyone : PIAIC67260\n",
    "12:40:20 From Ali Asar To Everyone : PIAIC -187258\n",
    "\n",
    "\"\"\"\n",
    "import re\n",
    "\n",
    "import pandas as pd\n",
    "\n",
    "pattern='(\\d{2}:\\d{2}:\\d{2}) From (.*) To Everyone : (PIAIC ?-?\\d{5,6})'\n",
    "l=re.findall(pattern,data)\n",
    "l\n",
    "\n",
    "df=pd.DataFrame(l)\n",
    "df"
   ]
  },
  {
   "cell_type": "code",
   "execution_count": 55,
   "id": "415d80fa",
   "metadata": {},
   "outputs": [
    {
     "data": {
      "text/plain": [
       "31"
      ]
     },
     "execution_count": 55,
     "metadata": {},
     "output_type": "execute_result"
    }
   ],
   "source": [
    "len(data.split('\\n'))"
   ]
  },
  {
   "cell_type": "code",
   "execution_count": null,
   "id": "36dc96de",
   "metadata": {},
   "outputs": [],
   "source": []
  },
  {
   "cell_type": "code",
   "execution_count": null,
   "id": "3e8c47de",
   "metadata": {},
   "outputs": [],
   "source": []
  }
 ],
 "metadata": {
  "kernelspec": {
   "display_name": "Python 3 (ipykernel)",
   "language": "python",
   "name": "python3"
  },
  "language_info": {
   "codemirror_mode": {
    "name": "ipython",
    "version": 3
   },
   "file_extension": ".py",
   "mimetype": "text/x-python",
   "name": "python",
   "nbconvert_exporter": "python",
   "pygments_lexer": "ipython3",
   "version": "3.11.4"
  }
 },
 "nbformat": 4,
 "nbformat_minor": 5
}
