{
 "cells": [
  {
   "cell_type": "markdown",
   "id": "c8bd3361",
   "metadata": {},
   "source": [
    "# string methods"
   ]
  },
  {
   "cell_type": "code",
   "execution_count": 4,
   "id": "435695ea",
   "metadata": {},
   "outputs": [
    {
     "name": "stdout",
     "output_type": "stream",
     "text": [
      "Pakistan Zindabad\n",
      "['__add__', '__class__', '__contains__', '__delattr__', '__dir__', '__doc__', '__eq__', '__format__', '__ge__', '__getattribute__', '__getitem__', '__getnewargs__', '__getstate__', '__gt__', '__hash__', '__init__', '__init_subclass__', '__iter__', '__le__', '__len__', '__lt__', '__mod__', '__mul__', '__ne__', '__new__', '__reduce__', '__reduce_ex__', '__repr__', '__rmod__', '__rmul__', '__setattr__', '__sizeof__', '__str__', '__subclasshook__', 'capitalize', 'casefold', 'center', 'count', 'encode', 'endswith', 'expandtabs', 'find', 'format', 'format_map', 'index', 'isalnum', 'isalpha', 'isascii', 'isdecimal', 'isdigit', 'isidentifier', 'islower', 'isnumeric', 'isprintable', 'isspace', 'istitle', 'isupper', 'join', 'ljust', 'lower', 'lstrip', 'maketrans', 'partition', 'removeprefix', 'removesuffix', 'replace', 'rfind', 'rindex', 'rjust', 'rpartition', 'rsplit', 'rstrip', 'split', 'splitlines', 'startswith', 'strip', 'swapcase', 'title', 'translate', 'upper', 'zfill']\n"
     ]
    }
   ],
   "source": [
    "a= \"Pakistan Zindabad\"\n",
    "\n",
    "print(a)\n",
    "print(dir(a))"
   ]
  },
  {
   "cell_type": "code",
   "execution_count": 10,
   "id": "78a509d2",
   "metadata": {},
   "outputs": [
    {
     "name": "stdout",
     "output_type": "stream",
     "text": [
      "\n",
      "my name is isra raza.\n",
      "and i love my country.\n",
      "\n"
     ]
    }
   ],
   "source": [
    "a=\"\"\"\n",
    "my name is ISra Raza.\n",
    "aNd I love My country.\n",
    "\"\"\"\n",
    "\n",
    "print(a.capitalize())"
   ]
  },
  {
   "cell_type": "code",
   "execution_count": 11,
   "id": "2fedabbb",
   "metadata": {},
   "outputs": [
    {
     "name": "stdout",
     "output_type": "stream",
     "text": [
      "\n",
      "my name is isra raza.\n",
      "and i love my country.\n",
      "\n"
     ]
    }
   ],
   "source": [
    "a=\"\"\"\n",
    "my name is ISra Raza.\n",
    "aNd I love My country.\n",
    "\"\"\"\n",
    "\n",
    "print(a.casefold())"
   ]
  },
  {
   "cell_type": "code",
   "execution_count": 7,
   "id": "652de121",
   "metadata": {},
   "outputs": [
    {
     "name": "stdout",
     "output_type": "stream",
     "text": [
      "pakistan zindabad\n",
      "we love our country\n"
     ]
    }
   ],
   "source": [
    "a=\"\"\"Pakistan zindabad\n",
    "we love our country\"\"\"\n",
    "\n",
    "print(a.casefold())"
   ]
  },
  {
   "cell_type": "code",
   "execution_count": 13,
   "id": "03b4a4f9",
   "metadata": {},
   "outputs": [
    {
     "name": "stdout",
     "output_type": "stream",
     "text": [
      "15\n"
     ]
    }
   ],
   "source": [
    "name= \"Syeda Isra Raza\"\n",
    "\n",
    "print(len(name))"
   ]
  },
  {
   "cell_type": "code",
   "execution_count": 15,
   "id": "cc7c984d",
   "metadata": {},
   "outputs": [
    {
     "name": "stdout",
     "output_type": "stream",
     "text": [
      "15\n"
     ]
    }
   ],
   "source": [
    "name= \"Syeda Isra Raza\"\n",
    "\n",
    "print(name.__len__())"
   ]
  },
  {
   "cell_type": "code",
   "execution_count": 14,
   "id": "ad20e179",
   "metadata": {},
   "outputs": [
    {
     "data": {
      "text/plain": [
       "'  Syeda Isra Raza   '"
      ]
     },
     "execution_count": 14,
     "metadata": {},
     "output_type": "execute_result"
    }
   ],
   "source": [
    "name= \"Syeda Isra Raza\"\n",
    "\n",
    "name.center(20)"
   ]
  },
  {
   "cell_type": "code",
   "execution_count": 1,
   "id": "ca668c50",
   "metadata": {},
   "outputs": [
    {
     "data": {
      "text/plain": [
       "4"
      ]
     },
     "execution_count": 1,
     "metadata": {},
     "output_type": "execute_result"
    }
   ],
   "source": [
    "name= \"Syeda Isra Raza\"\n",
    "\n",
    "name.count(\"a\")"
   ]
  },
  {
   "cell_type": "code",
   "execution_count": 5,
   "id": "bf97b5ad",
   "metadata": {},
   "outputs": [
    {
     "data": {
      "text/plain": [
       "2"
      ]
     },
     "execution_count": 5,
     "metadata": {},
     "output_type": "execute_result"
    }
   ],
   "source": [
    "name= \"syeda Isra Raza, syeda bushra, syed muhammad\"\n",
    "\n",
    "name.count(\"syeda\")"
   ]
  },
  {
   "cell_type": "code",
   "execution_count": 7,
   "id": "3e447f0b",
   "metadata": {},
   "outputs": [
    {
     "data": {
      "text/plain": [
       "2"
      ]
     },
     "execution_count": 7,
     "metadata": {},
     "output_type": "execute_result"
    }
   ],
   "source": [
    "name= \"Syeda Isra Raza\"\n",
    "name=name.casefold()\n",
    " \n",
    "name.count(\"s\")"
   ]
  },
  {
   "cell_type": "code",
   "execution_count": 10,
   "id": "19b2a5be",
   "metadata": {},
   "outputs": [
    {
     "name": "stdout",
     "output_type": "stream",
     "text": [
      "4\n",
      "2\n"
     ]
    }
   ],
   "source": [
    "name= \"Syeda Isra Raza\"\n",
    "name=name.casefold()\n",
    "\n",
    "print(name.count(\"a\"))\n",
    "print(name.count(\"s\"))"
   ]
  },
  {
   "cell_type": "markdown",
   "id": "2319121a",
   "metadata": {},
   "source": [
    "# press tab and type 65 will show A\n",
    "\n",
    "UTF-8 codes ascii  encoding codes"
   ]
  },
  {
   "cell_type": "code",
   "execution_count": 11,
   "id": "06640ec9",
   "metadata": {},
   "outputs": [
    {
     "name": "stdout",
     "output_type": "stream",
     "text": [
      "b'My name is St\\xc3\\xa5le'\n"
     ]
    }
   ],
   "source": [
    "txt = \"My name is Ståle\" #special a so encoding it\n",
    "\n",
    "x = txt.encode()\n",
    "\n",
    "print(x)"
   ]
  },
  {
   "cell_type": "code",
   "execution_count": 13,
   "id": "8ecb3223",
   "metadata": {},
   "outputs": [
    {
     "name": "stdout",
     "output_type": "stream",
     "text": [
      "True\n",
      "True\n"
     ]
    }
   ],
   "source": [
    "name= \"Syeda Isra Raza\"\n",
    "\n",
    "print(name.endswith(\"a\"))\n",
    "print(name.endswith(\"za\"))"
   ]
  },
  {
   "cell_type": "code",
   "execution_count": 16,
   "id": "1e3c1237",
   "metadata": {},
   "outputs": [
    {
     "name": "stdout",
     "output_type": "stream",
     "text": [
      "True\n",
      "False\n"
     ]
    }
   ],
   "source": [
    "name= \"syeda Isra Raza\"\n",
    "\n",
    "print(name.startswith(\"s\"))\n",
    "print(name.startswith(\"a\"))"
   ]
  },
  {
   "cell_type": "code",
   "execution_count": 19,
   "id": "e5698f05",
   "metadata": {},
   "outputs": [
    {
     "name": "stdout",
     "output_type": "stream",
     "text": [
      "start with a\n",
      "False\n"
     ]
    }
   ],
   "source": [
    "name= \"syeda Isra Raza\"\n",
    "search=input(\"start with \")\n",
    "print(name.startswith(search))"
   ]
  },
  {
   "cell_type": "code",
   "execution_count": 20,
   "id": "190a18db",
   "metadata": {},
   "outputs": [
    {
     "name": "stdout",
     "output_type": "stream",
     "text": [
      "\n",
      "Name:\tIsra\n",
      "employee:\tHMB\n",
      "employee id:\t13615\n",
      "designation:\tBusiness Analyst:\n",
      "\n",
      "\n"
     ]
    }
   ],
   "source": [
    "xyz=\"\"\"\n",
    "Name:\\tIsra\n",
    "employee:\\tHMB\n",
    "employee id:\\t13615\n",
    "designation:\\tBusiness Analyst:\n",
    "\n",
    "\"\"\"\n",
    "\n",
    "print(xyz)"
   ]
  },
  {
   "cell_type": "code",
   "execution_count": 22,
   "id": "6701eb0e",
   "metadata": {},
   "outputs": [
    {
     "name": "stdout",
     "output_type": "stream",
     "text": [
      "\n",
      "Name:                         Isra\n",
      "employee:                     HMB\n",
      "employee id:                  13615\n",
      "designation:                  Business Analyst:\n",
      "\n",
      "\n"
     ]
    }
   ],
   "source": [
    "xyz=\"\"\"\n",
    "Name:\\tIsra\n",
    "employee:\\tHMB\n",
    "employee id:\\t13615\n",
    "designation:\\tBusiness Analyst:\n",
    "\n",
    "\"\"\"\n",
    "\n",
    "print(xyz.expandtabs(30))"
   ]
  },
  {
   "cell_type": "code",
   "execution_count": 25,
   "id": "749c8049",
   "metadata": {},
   "outputs": [
    {
     "data": {
      "text/plain": [
       "'syeda Isra Raza    '"
      ]
     },
     "execution_count": 25,
     "metadata": {},
     "output_type": "execute_result"
    }
   ],
   "source": [
    "name= \"   syeda Isra Raza    \"\n",
    "\n",
    "name.lstrip()"
   ]
  },
  {
   "cell_type": "code",
   "execution_count": 26,
   "id": "bc50362f",
   "metadata": {},
   "outputs": [
    {
     "data": {
      "text/plain": [
       "'   syeda Isra Raza'"
      ]
     },
     "execution_count": 26,
     "metadata": {},
     "output_type": "execute_result"
    }
   ],
   "source": [
    "name= \"   syeda Isra Raza    \"\n",
    "\n",
    "name.rstrip()"
   ]
  },
  {
   "cell_type": "code",
   "execution_count": 27,
   "id": "6d48996b",
   "metadata": {},
   "outputs": [
    {
     "data": {
      "text/plain": [
       "'syeda Isra Raza'"
      ]
     },
     "execution_count": 27,
     "metadata": {},
     "output_type": "execute_result"
    }
   ],
   "source": [
    "name= \"   syeda Isra Raza    \"\n",
    "\n",
    "name.strip()"
   ]
  },
  {
   "cell_type": "code",
   "execution_count": 30,
   "id": "2b43c279",
   "metadata": {},
   "outputs": [
    {
     "data": {
      "text/plain": [
       "'   syeda Bushra Raza    '"
      ]
     },
     "execution_count": 30,
     "metadata": {},
     "output_type": "execute_result"
    }
   ],
   "source": [
    "name= \"   syeda Isra Raza    \"\n",
    "\n",
    "name.replace(\"Isra\",\"Bushra\")"
   ]
  },
  {
   "cell_type": "code",
   "execution_count": 31,
   "id": "2a000765",
   "metadata": {},
   "outputs": [
    {
     "data": {
      "text/plain": [
       "'   syeda Bushra Bushra    '"
      ]
     },
     "execution_count": 31,
     "metadata": {},
     "output_type": "execute_result"
    }
   ],
   "source": [
    "name= \"   syeda Isra Isra    \"\n",
    "\n",
    "name.replace(\"Isra\",\"Bushra\")"
   ]
  },
  {
   "cell_type": "code",
   "execution_count": 33,
   "id": "69e54abe",
   "metadata": {},
   "outputs": [
    {
     "data": {
      "text/plain": [
       "'   syeda Bushra Isra Isra   '"
      ]
     },
     "execution_count": 33,
     "metadata": {},
     "output_type": "execute_result"
    }
   ],
   "source": [
    "name= \"   syeda Isra Isra Isra   \"\n",
    "\n",
    "name.replace(\"Isra\",\"Bushra\",1)"
   ]
  },
  {
   "cell_type": "code",
   "execution_count": 34,
   "id": "bacd843d",
   "metadata": {},
   "outputs": [
    {
     "data": {
      "text/plain": [
       "'   syeda Bushra Bushra Isra   '"
      ]
     },
     "execution_count": 34,
     "metadata": {},
     "output_type": "execute_result"
    }
   ],
   "source": [
    "name= \"   syeda Isra Isra Isra   \"\n",
    "\n",
    "name.replace(\"Isra\",\"Bushra\",2)"
   ]
  },
  {
   "cell_type": "code",
   "execution_count": 44,
   "id": "10f25fe1",
   "metadata": {},
   "outputs": [
    {
     "name": "stdout",
     "output_type": "stream",
     "text": [
      "34\n"
     ]
    },
    {
     "data": {
      "text/html": [
       "<div>\n",
       "<style scoped>\n",
       "    .dataframe tbody tr th:only-of-type {\n",
       "        vertical-align: middle;\n",
       "    }\n",
       "\n",
       "    .dataframe tbody tr th {\n",
       "        vertical-align: top;\n",
       "    }\n",
       "\n",
       "    .dataframe thead th {\n",
       "        text-align: right;\n",
       "    }\n",
       "</style>\n",
       "<table border=\"1\" class=\"dataframe\">\n",
       "  <thead>\n",
       "    <tr style=\"text-align: right;\">\n",
       "      <th></th>\n",
       "      <th>CNIC</th>\n",
       "    </tr>\n",
       "  </thead>\n",
       "  <tbody>\n",
       "    <tr>\n",
       "      <th>0</th>\n",
       "      <td>1420212838320</td>\n",
       "    </tr>\n",
       "    <tr>\n",
       "      <th>1</th>\n",
       "      <td>1610222198576</td>\n",
       "    </tr>\n",
       "    <tr>\n",
       "      <th>2</th>\n",
       "      <td>1320229757502</td>\n",
       "    </tr>\n",
       "    <tr>\n",
       "      <th>3</th>\n",
       "      <td>1730199384484</td>\n",
       "    </tr>\n",
       "    <tr>\n",
       "      <th>4</th>\n",
       "      <td>1730147012756</td>\n",
       "    </tr>\n",
       "    <tr>\n",
       "      <th>5</th>\n",
       "      <td>1420279587244</td>\n",
       "    </tr>\n",
       "    <tr>\n",
       "      <th>6</th>\n",
       "      <td>1120203540525</td>\n",
       "    </tr>\n",
       "    <tr>\n",
       "      <th>7</th>\n",
       "      <td>1720121724999</td>\n",
       "    </tr>\n",
       "    <tr>\n",
       "      <th>8</th>\n",
       "      <td>1730106238015</td>\n",
       "    </tr>\n",
       "    <tr>\n",
       "      <th>9</th>\n",
       "      <td>1730113134226</td>\n",
       "    </tr>\n",
       "    <tr>\n",
       "      <th>10</th>\n",
       "      <td>1730187380463</td>\n",
       "    </tr>\n",
       "    <tr>\n",
       "      <th>11</th>\n",
       "      <td>1120103639729</td>\n",
       "    </tr>\n",
       "    <tr>\n",
       "      <th>12</th>\n",
       "      <td>1720174600652</td>\n",
       "    </tr>\n",
       "    <tr>\n",
       "      <th>13</th>\n",
       "      <td>1730179544614</td>\n",
       "    </tr>\n",
       "    <tr>\n",
       "      <th>14</th>\n",
       "      <td>1120103546932</td>\n",
       "    </tr>\n",
       "    <tr>\n",
       "      <th>15</th>\n",
       "      <td>1560201760511</td>\n",
       "    </tr>\n",
       "    <tr>\n",
       "      <th>16</th>\n",
       "      <td>1730113926793</td>\n",
       "    </tr>\n",
       "    <tr>\n",
       "      <th>17</th>\n",
       "      <td>1720122900067</td>\n",
       "    </tr>\n",
       "    <tr>\n",
       "      <th>18</th>\n",
       "      <td>0010035742960</td>\n",
       "    </tr>\n",
       "    <tr>\n",
       "      <th>19</th>\n",
       "      <td>1730115516787</td>\n",
       "    </tr>\n",
       "    <tr>\n",
       "      <th>20</th>\n",
       "      <td>1560236195320</td>\n",
       "    </tr>\n",
       "    <tr>\n",
       "      <th>21</th>\n",
       "      <td>1710106292939</td>\n",
       "    </tr>\n",
       "    <tr>\n",
       "      <th>22</th>\n",
       "      <td>1730113905635</td>\n",
       "    </tr>\n",
       "    <tr>\n",
       "      <th>23</th>\n",
       "      <td>1420213194323</td>\n",
       "    </tr>\n",
       "    <tr>\n",
       "      <th>24</th>\n",
       "      <td>1540251146000</td>\n",
       "    </tr>\n",
       "    <tr>\n",
       "      <th>25</th>\n",
       "      <td>1320243430473</td>\n",
       "    </tr>\n",
       "    <tr>\n",
       "      <th>26</th>\n",
       "      <td>1730155772272</td>\n",
       "    </tr>\n",
       "    <tr>\n",
       "      <th>27</th>\n",
       "      <td>1610223130557</td>\n",
       "    </tr>\n",
       "    <tr>\n",
       "      <th>28</th>\n",
       "      <td>1720121324211</td>\n",
       "    </tr>\n",
       "    <tr>\n",
       "      <th>29</th>\n",
       "      <td>1710109570190</td>\n",
       "    </tr>\n",
       "    <tr>\n",
       "      <th>30</th>\n",
       "      <td>1730178086729</td>\n",
       "    </tr>\n",
       "    <tr>\n",
       "      <th>31</th>\n",
       "      <td>1720120914450</td>\n",
       "    </tr>\n",
       "    <tr>\n",
       "      <th>32</th>\n",
       "      <td>1120103930945</td>\n",
       "    </tr>\n",
       "    <tr>\n",
       "      <th>33</th>\n",
       "      <td>1420291533621</td>\n",
       "    </tr>\n",
       "  </tbody>\n",
       "</table>\n",
       "</div>"
      ],
      "text/plain": [
       "             CNIC\n",
       "0   1420212838320\n",
       "1   1610222198576\n",
       "2   1320229757502\n",
       "3   1730199384484\n",
       "4   1730147012756\n",
       "5   1420279587244\n",
       "6   1120203540525\n",
       "7   1720121724999\n",
       "8   1730106238015\n",
       "9   1730113134226\n",
       "10  1730187380463\n",
       "11  1120103639729\n",
       "12  1720174600652\n",
       "13  1730179544614\n",
       "14  1120103546932\n",
       "15  1560201760511\n",
       "16  1730113926793\n",
       "17  1720122900067\n",
       "18  0010035742960\n",
       "19  1730115516787\n",
       "20  1560236195320\n",
       "21  1710106292939\n",
       "22  1730113905635\n",
       "23  1420213194323\n",
       "24  1540251146000\n",
       "25  1320243430473\n",
       "26  1730155772272\n",
       "27  1610223130557\n",
       "28  1720121324211\n",
       "29  1710109570190\n",
       "30  1730178086729\n",
       "31  1720120914450\n",
       "32  1120103930945\n",
       "33  1420291533621"
      ]
     },
     "execution_count": 44,
     "metadata": {},
     "output_type": "execute_result"
    }
   ],
   "source": [
    "text=\"\"\"\n",
    "1 139447 Shahina Tabassum 16102-2219857-6 Senior School Teacher 17 DEO (F) 23-Nov-15 16102-2313055-7 Qisar Khan Khattak 7000027203 HBL 2367 592,260 14-Nov-17\n",
    "2 331166 Irum Jalal 17201-7460065-2 Labortory Attendent 4 DEO (F) 13-Nov-16 17201-2172499-9 Kashif Shah 1430-1 NBP 1637 194,503 14-Nov-17\n",
    "3 389961 Miraj Khan 17301-7808672-9 Behishti 3 Gov House 2-Feb-17 17301-9938448-4 Khalida Bibi 7900499203 HBL 0225 194,503 14-Nov-17\n",
    "4 42044 Shoaib 17301-8738046-3 Pump Operator 5 CM Sectt 4-Dec-15 17301-4701275-6 Najma Shaheen 0035-00-2 BoK 0156 295,112 14-Nov-17\n",
    "5 781196 Hakeem Khan 15602-0176051-1 Driver 5 PEDO 18-Jan-16 15602-3619532-0 Roshan Jamila 77000015101 HBL 2476 294,736 14-Nov-17\n",
    "6 3316 Fazli Mula 17101-0629293-9 EPI Technician 9 DHO 3-Jul-15 17101-0957019-0 Shah Haram 7901120603 HBL 0217 296,992 14-Nov-17\n",
    "7 716338 Waqas Alam 11202-0354052-5 Tube Well Operator 6 Irrigaion 15-Sep-16 11201-0363972-9 Qibla Alam 4082176861 NBP 0964 291,559 14-Nov-17\n",
    "8 342090 Nadir Khan 11201-0393094-5 Clincial Technician 16 DHQ 25-Oct-15 11201-0354693-2 Mst Bibi Hawa 0010035742960012 ABL 0617 444,504 26-Jan-18\n",
    "9 298272 Noor Zarif Khan 14202-1319432-3 Operator 7 Public Health Eng 26-Oct-15 14202-1283832-0 Naraz Begum 7900217601 HBL 1596 295,864 14-Nov-17\n",
    "10 502637 Fazli Subhan 17301-0623801-5 Artist 12 DGHS 21-Jan-16 17301-7954461-4 Mujahida Tabasum 4119118522 NBP 0388 392,920 26-Jan-18\n",
    "11 44543 Abdul Qadeem 17301-15516787-1 Naib Qasid 4 Sport Cult Tour 16-Dec-15 17301-5577227-2 Naseema 228898999 UBL 1567 196,893 14-Nov-17\n",
    "12 39276 Said Rahim 17301-1392679-3 Supervisor 8 Sport Cult Tour 27-May-17 15402-5114600-0 Shagufta Bibi 4143217281 NBP 0386 291,352 14-Nov-17\n",
    "13 39724 Ikram Ullah 17301-1390563-5 Senior Scale Stenographer 16 CM Sectt 8-May-16 17301-1313422-6 Shaheen Begum 4136493602 NBP 0389 441,756 14-Nov-17\n",
    "14 141772 Asia Shafi 17201-2091445-0 Primary School Head Teacher 15 DEO (F) 31-Jul-15 17201-2132421-1 Amir Zeb 7901550703 HBL 0222 395,189 14-Nov-17\n",
    "15 302234 Unab Gul 14202-9153362-1 Chowkidar 4 Public Health Eng 13-Oct-15 14202-7958724-4 Khial Marjana 7900211903 HBL 1596 196,675 14-Nov-17\n",
    "16 388296 Ihsan Ullah 13202-4343047-3 Watcher 7 Fisheries 17-Apr-16 13202-2975750-2 Bibi Amna 1242-0 BoK 134 293,232 26-Jan-18\n",
    "17 136401 Noor Bahadar 17201-2290006-7 Chowkidar 2 DEO (F) \n",
    "\n",
    "\"\"\"\n",
    "\n",
    "import re\n",
    "import pandas as pd\n",
    "\n",
    "text=text.replace(\"-\",\"\")\n",
    "cnic=re.findall('\\d{13}',text)\n",
    "cnic=list(set(cnic))\n",
    "\n",
    "print(len(cnic))\n",
    "df= pd.DataFrame({\"CNIC\": cnic})\n",
    "df.to_excel(\"class4_cnic_list.xlsx\", index=False)\n",
    "df"
   ]
  },
  {
   "cell_type": "code",
   "execution_count": 85,
   "id": "2790df91",
   "metadata": {},
   "outputs": [
    {
     "data": {
      "text/plain": [
       "['Shahina Tabassum',\n",
       " 'Irum Jalal',\n",
       " 'Miraj Khan',\n",
       " 'hoaib',\n",
       " 'Hakeem Khan',\n",
       " 'Fazli Mula',\n",
       " 'Waqas Alam',\n",
       " 'Nadir Khan',\n",
       " 'Noor Zarif Khan',\n",
       " 'Fazli Subhan',\n",
       " 'Abdul Qadeem',\n",
       " 'Said Rahim',\n",
       " 'Ikram Ullah',\n",
       " 'Asia Shafi',\n",
       " 'Unab Gul',\n",
       " 'Ihsan Ullah']"
      ]
     },
     "execution_count": 85,
     "metadata": {},
     "output_type": "execute_result"
    }
   ],
   "source": [
    "text=\"\"\"\n",
    "Shahina Tabassum 23-15 \n",
    "Irum Jalal 13-16 \n",
    "Miraj Khan 2-17 \n",
    "hoaib 4-15 \n",
    "Hakeem Khan 18-16 \n",
    "Fazli Mula 3-15 \n",
    "Waqas Alam 15-16 \n",
    "Nadir Khan 25-15 \n",
    "Noor Zarif Khan 26-15 \n",
    "Fazli Subhan 21-16 \n",
    "Abdul Qadeem 16-15 \n",
    "Said Rahim 27-17 \n",
    "Ikram Ullah 8-16 \n",
    "Asia Shafi 31-15 \n",
    "Unab Gul 13-15 \n",
    "Ihsan Ullah 17-16 \n",
    "\n",
    "\"\"\"\n",
    "\n",
    "import re\n",
    "\n",
    "names = re.findall(\"(.*) \\d+-\\d+\",text)\n",
    "names"
   ]
  },
  {
   "cell_type": "code",
   "execution_count": null,
   "id": "54d50826",
   "metadata": {},
   "outputs": [],
   "source": []
  },
  {
   "cell_type": "code",
   "execution_count": 136,
   "id": "c36a12bc",
   "metadata": {},
   "outputs": [
    {
     "data": {
      "text/plain": [
       "[('1',\n",
       "  '139447',\n",
       "  'Shahina Tabassum',\n",
       "  '16102-2219857-6',\n",
       "  'Senior School Teacher',\n",
       "  '23-Nov-15',\n",
       "  'Nov'),\n",
       " ('2',\n",
       "  '331166',\n",
       "  'Irum Jalal',\n",
       "  '17201-7460065-2',\n",
       "  'Labortory Attendent',\n",
       "  '13-Nov-16',\n",
       "  'Nov'),\n",
       " ('3',\n",
       "  '389961',\n",
       "  'Miraj Khan',\n",
       "  '17301-7808672-9',\n",
       "  'Behishti',\n",
       "  '2-Feb-17',\n",
       "  'Feb'),\n",
       " ('4',\n",
       "  '42044',\n",
       "  'Shoaib',\n",
       "  '17301-8738046-3',\n",
       "  'Pump Operator',\n",
       "  '4-Dec-15',\n",
       "  'Dec'),\n",
       " ('5',\n",
       "  '781196',\n",
       "  'Hakeem Khan',\n",
       "  '15602-0176051-1',\n",
       "  'Driver',\n",
       "  '18-Jan-16',\n",
       "  'Jan'),\n",
       " ('6',\n",
       "  '3316',\n",
       "  'Fazli Mula',\n",
       "  '17101-0629293-9',\n",
       "  'EPI Technician',\n",
       "  '3-Jul-15',\n",
       "  'Jul')]"
      ]
     },
     "execution_count": 136,
     "metadata": {},
     "output_type": "execute_result"
    }
   ],
   "source": [
    "text=\"\"\"\n",
    "1 139447 Shahina Tabassum 16102-2219857-6 Senior School Teacher 23-Nov-15 \n",
    "2 331166 Irum Jalal 17201-7460065-2 Labortory Attendent 13-Nov-16\n",
    "3 389961 Miraj Khan 17301-7808672-9 Behishti 2-Feb-17\n",
    "4 42044 Shoaib 17301-8738046-3 Pump Operator 4-Dec-15 \n",
    "5 781196 Hakeem Khan 15602-0176051-1 Driver 18-Jan-16\n",
    "6 3316 Fazli Mula 17101-0629293-9 EPI Technician 3-Jul-15\n",
    "\n",
    "\"\"\"\n",
    "\n",
    "import re\n",
    "\n",
    "#names = re.findall(\"(.*)\\d+-\\d+\",text)\n",
    "data = re.findall(\"(\\d{1}) (\\d{4,6}) (.*) (\\d{5}-\\d{7}-\\d{1}) (.*?) (\\d{1,2}-(.+?)-\\d{1,2})\",text)\n",
    "\n",
    "data"
   ]
  },
  {
   "cell_type": "code",
   "execution_count": null,
   "id": "f6a94c7e",
   "metadata": {},
   "outputs": [],
   "source": []
  },
  {
   "cell_type": "code",
   "execution_count": 117,
   "id": "99774165",
   "metadata": {},
   "outputs": [
    {
     "data": {
      "text/html": [
       "<div>\n",
       "<style scoped>\n",
       "    .dataframe tbody tr th:only-of-type {\n",
       "        vertical-align: middle;\n",
       "    }\n",
       "\n",
       "    .dataframe tbody tr th {\n",
       "        vertical-align: top;\n",
       "    }\n",
       "\n",
       "    .dataframe thead th {\n",
       "        text-align: right;\n",
       "    }\n",
       "</style>\n",
       "<table border=\"1\" class=\"dataframe\">\n",
       "  <thead>\n",
       "    <tr style=\"text-align: right;\">\n",
       "      <th></th>\n",
       "      <th>ID</th>\n",
       "      <th>Name</th>\n",
       "      <th>CNIC</th>\n",
       "      <th>Date</th>\n",
       "    </tr>\n",
       "  </thead>\n",
       "  <tbody>\n",
       "    <tr>\n",
       "      <th>0</th>\n",
       "      <td>139447</td>\n",
       "      <td>Shahina Tabassum 16102-2219857-6</td>\n",
       "      <td>23-Nov-15</td>\n",
       "      <td>Nov</td>\n",
       "    </tr>\n",
       "  </tbody>\n",
       "</table>\n",
       "</div>"
      ],
      "text/plain": [
       "       ID                              Name       CNIC Date\n",
       "0  139447  Shahina Tabassum 16102-2219857-6  23-Nov-15  Nov"
      ]
     },
     "execution_count": 117,
     "metadata": {},
     "output_type": "execute_result"
    }
   ],
   "source": [
    "text=\"\"\"\n",
    "1 139447 Shahina Tabassum 16102-2219857-6 Senior School Teacher 23-Nov-15 \n",
    "2 331166 Irum Jalal 17201-7460065-2 Labortory Attendent 13-Nov-16\n",
    "3 389961 Miraj Khan 17301-7808672-9 Behishti 2-Feb-17\n",
    "4 42044 Shoaib 17301-8738046-3 Pump Operator 4-Dec-15 \n",
    "5 781196 Hakeem Khan 15602-0176051-1 Driver 18-Jan-16\n",
    "6 3316 Fazli Mula 17101-0629293-9 EPI Technician 3-Jul-15\n",
    "\n",
    "\"\"\"\n",
    "\n",
    "import re\n",
    "import pandas as pd\n",
    "\n",
    "#names = re.findall(\"(.*)\\d+-\\d+\",text)\n",
    "data = re.findall(\"1 (\\d{4,6}) (.*) Senior School Teacher (\\d{1,2}-(.*)-\\d{1,2})\",text)\n",
    "\n",
    "data=pd.DataFrame(data,columns=(\"ID\",\"Name\",\"CNIC\",\"Date\"))\n",
    "\n",
    "data"
   ]
  },
  {
   "cell_type": "code",
   "execution_count": 135,
   "id": "5eccb5b3",
   "metadata": {},
   "outputs": [
    {
     "data": {
      "text/html": [
       "<div>\n",
       "<style scoped>\n",
       "    .dataframe tbody tr th:only-of-type {\n",
       "        vertical-align: middle;\n",
       "    }\n",
       "\n",
       "    .dataframe tbody tr th {\n",
       "        vertical-align: top;\n",
       "    }\n",
       "\n",
       "    .dataframe thead th {\n",
       "        text-align: right;\n",
       "    }\n",
       "</style>\n",
       "<table border=\"1\" class=\"dataframe\">\n",
       "  <thead>\n",
       "    <tr style=\"text-align: right;\">\n",
       "      <th></th>\n",
       "      <th>0</th>\n",
       "      <th>1</th>\n",
       "      <th>2</th>\n",
       "      <th>3</th>\n",
       "      <th>4</th>\n",
       "      <th>5</th>\n",
       "      <th>6</th>\n",
       "    </tr>\n",
       "  </thead>\n",
       "  <tbody>\n",
       "    <tr>\n",
       "      <th>0</th>\n",
       "      <td>1</td>\n",
       "      <td>139447</td>\n",
       "      <td>Shahina Tabassum</td>\n",
       "      <td>16102-2219857-6</td>\n",
       "      <td>Senior School Teacher</td>\n",
       "      <td>23-Nov-15</td>\n",
       "      <td>Nov</td>\n",
       "    </tr>\n",
       "    <tr>\n",
       "      <th>1</th>\n",
       "      <td>2</td>\n",
       "      <td>331166</td>\n",
       "      <td>Irum Jalal</td>\n",
       "      <td>17201-7460065-2</td>\n",
       "      <td>Labortory Attendent</td>\n",
       "      <td>13-Nov-16</td>\n",
       "      <td>Nov</td>\n",
       "    </tr>\n",
       "    <tr>\n",
       "      <th>2</th>\n",
       "      <td>3</td>\n",
       "      <td>389961</td>\n",
       "      <td>Miraj Khan</td>\n",
       "      <td>17301-7808672-9</td>\n",
       "      <td>Behishti</td>\n",
       "      <td>2-Feb-17</td>\n",
       "      <td>Feb</td>\n",
       "    </tr>\n",
       "    <tr>\n",
       "      <th>3</th>\n",
       "      <td>4</td>\n",
       "      <td>42044</td>\n",
       "      <td>Shoaib</td>\n",
       "      <td>17301-8738046-3</td>\n",
       "      <td>Pump Operator</td>\n",
       "      <td>4-Dec-15</td>\n",
       "      <td>Dec</td>\n",
       "    </tr>\n",
       "    <tr>\n",
       "      <th>4</th>\n",
       "      <td>5</td>\n",
       "      <td>781196</td>\n",
       "      <td>Hakeem Khan</td>\n",
       "      <td>15602-0176051-1</td>\n",
       "      <td>Driver</td>\n",
       "      <td>18-Jan-16</td>\n",
       "      <td>Jan</td>\n",
       "    </tr>\n",
       "    <tr>\n",
       "      <th>5</th>\n",
       "      <td>6</td>\n",
       "      <td>3316</td>\n",
       "      <td>Fazli Mula</td>\n",
       "      <td>17101-0629293-9</td>\n",
       "      <td>EPI Technician</td>\n",
       "      <td>3-Jul-15</td>\n",
       "      <td>Jul</td>\n",
       "    </tr>\n",
       "  </tbody>\n",
       "</table>\n",
       "</div>"
      ],
      "text/plain": [
       "   0       1                 2  ...                      4          5    6\n",
       "0  1  139447  Shahina Tabassum  ...  Senior School Teacher  23-Nov-15  Nov\n",
       "1  2  331166        Irum Jalal  ...    Labortory Attendent  13-Nov-16  Nov\n",
       "2  3  389961        Miraj Khan  ...               Behishti   2-Feb-17  Feb\n",
       "3  4   42044            Shoaib  ...          Pump Operator   4-Dec-15  Dec\n",
       "4  5  781196       Hakeem Khan  ...                 Driver  18-Jan-16  Jan\n",
       "5  6    3316        Fazli Mula  ...         EPI Technician   3-Jul-15  Jul\n",
       "\n",
       "[6 rows x 7 columns]"
      ]
     },
     "execution_count": 135,
     "metadata": {},
     "output_type": "execute_result"
    }
   ],
   "source": [
    "text=\"\"\"\n",
    "1 139447 Shahina Tabassum 16102-2219857-6 Senior School Teacher 23-Nov-15 \n",
    "2 331166 Irum Jalal 17201-7460065-2 Labortory Attendent 13-Nov-16\n",
    "3 389961 Miraj Khan 17301-7808672-9 Behishti 2-Feb-17\n",
    "4 42044 Shoaib 17301-8738046-3 Pump Operator 4-Dec-15 \n",
    "5 781196 Hakeem Khan 15602-0176051-1 Driver 18-Jan-16\n",
    "6 3316 Fazli Mula 17101-0629293-9 EPI Technician 3-Jul-15\n",
    "\n",
    "\"\"\"\n",
    "\n",
    "import re\n",
    "import pandas as pd\n",
    "\n",
    "#names = re.findall(\"(.*)\\d+-\\d+\",text)\n",
    "data = re.findall(\"(\\d{1}) (\\d{4,6}) (.*) (\\d{5}-\\d{7}-\\d{1}) (.*) (\\d{1,2}-(.+?)-\\d{1,2})\",text)\n",
    "\n",
    "data=pd.DataFrame(data)\n",
    "\n",
    "data"
   ]
  },
  {
   "cell_type": "code",
   "execution_count": 145,
   "id": "5c23ce5b",
   "metadata": {},
   "outputs": [],
   "source": []
  }
 ],
 "metadata": {
  "kernelspec": {
   "display_name": "Python 3 (ipykernel)",
   "language": "python",
   "name": "python3"
  },
  "language_info": {
   "codemirror_mode": {
    "name": "ipython",
    "version": 3
   },
   "file_extension": ".py",
   "mimetype": "text/x-python",
   "name": "python",
   "nbconvert_exporter": "python",
   "pygments_lexer": "ipython3",
   "version": "3.11.4"
  }
 },
 "nbformat": 4,
 "nbformat_minor": 5
}
