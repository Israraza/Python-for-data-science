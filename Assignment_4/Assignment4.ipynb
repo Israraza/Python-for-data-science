{
 "cells": [
  {
   "cell_type": "markdown",
   "id": "53311a48",
   "metadata": {},
   "source": [
    "# Advanced Regular Expression Assignments"
   ]
  },
  {
   "cell_type": "markdown",
   "id": "6d73c738",
   "metadata": {},
   "source": [
    "# Assignment 1: Extracting Phone Numbers\n",
    "\n",
    "Raw Text: Extract all valid Pakistani phone numbers from a given text.\n",
    "\n",
    "Example:\n",
    "\n",
    "Text: Please contact me at 0301-1234567 or 042-35678901 for further details."
   ]
  },
  {
   "cell_type": "code",
   "execution_count": 24,
   "id": "bba69718",
   "metadata": {},
   "outputs": [
    {
     "data": {
      "text/plain": [
       "['0301-1234567', '042-35678901']"
      ]
     },
     "execution_count": 24,
     "metadata": {},
     "output_type": "execute_result"
    }
   ],
   "source": [
    "import re\n",
    "\n",
    "text=\"Please contact me at 0301-1234567 or 042-35678901 for further details.\"\n",
    "\n",
    "pattern= r\"\\d{1,4}-\\d{1,8}\"\n",
    "\n",
    "re.findall(pattern,text,re.MULTILINE)\n"
   ]
  },
  {
   "cell_type": "markdown",
   "id": "df7b4512",
   "metadata": {},
   "source": [
    "# Assignment 2: Validating Email Addresses\n",
    "\n",
    "Raw Text: Validate email addresses according to Pakistani domain extensions (.pk).\n",
    "\n",
    "Example:\n",
    "\n",
    "Text: Contact us at info@example.com or support@domain.pk for assistance."
   ]
  },
  {
   "cell_type": "code",
   "execution_count": 41,
   "id": "2eae8134",
   "metadata": {},
   "outputs": [
    {
     "data": {
      "text/plain": [
       "['support@domain.pk ']"
      ]
     },
     "execution_count": 41,
     "metadata": {},
     "output_type": "execute_result"
    }
   ],
   "source": [
    "text1=\"Contact us at info@example.com or support@domain.pk for assistance.\"\n",
    "\n",
    "#pattern=info@example.com\n",
    "pattern1= r\"\\b[\\w]+@[\\w]+\\.pk \\b\"\n",
    "\n",
    "re.findall(pattern1,text1,re.MULTILINE)"
   ]
  },
  {
   "cell_type": "markdown",
   "id": "1743f0d8",
   "metadata": {},
   "source": [
    "# Assignment 3: Extracting CNIC Numbers\n",
    "\n",
    "Raw Text: Extract all Pakistani CNIC (Computerized National Identity Card) numbers from a given text.\n",
    "\n",
    "Example:\n",
    "\n",
    "Text: My CNIC is 12345-6789012-3 and another one is 34567-8901234-5."
   ]
  },
  {
   "cell_type": "code",
   "execution_count": 42,
   "id": "eeb4f203",
   "metadata": {},
   "outputs": [
    {
     "data": {
      "text/plain": [
       "['12345-6789012-3', '34567-8901234-5']"
      ]
     },
     "execution_count": 42,
     "metadata": {},
     "output_type": "execute_result"
    }
   ],
   "source": [
    "text2= \"My CNIC is 12345-6789012-3 and another one is 34567-8901234-5.\"\n",
    "    \n",
    "\n",
    "pattern2= r\"\\d{2,5}-\\d{2,7}-\\d{1}\"\n",
    "\n",
    "re.findall(pattern2,text2,re.MULTILINE)"
   ]
  },
  {
   "cell_type": "markdown",
   "id": "a8313eda",
   "metadata": {},
   "source": [
    "# Assignment 4: Identifying Urdu Words\n",
    "\n",
    "Raw Text: Identify and extract Urdu words from a mixed English-Urdu text.\n",
    "\n",
    "Example:\n",
    "\n",
    "Text: یہ sentence میں کچھ English words بھی ہیں۔"
   ]
  },
  {
   "cell_type": "code",
   "execution_count": 58,
   "id": "e2181118",
   "metadata": {},
   "outputs": [
    {
     "name": "stdout",
     "output_type": "stream",
     "text": [
      "['یہ ', ' میں کچھ ', ' ', ' بھی ہیں']\n"
     ]
    }
   ],
   "source": [
    "text3 = \"یہ sentence میں کچھ English words بھی ہیں۔ \"\n",
    "\n",
    "pattern3 = r\"\\b[^s]+\\b\"\n",
    "\n",
    "urdu_text = re.findall(pattern3, text3)\n",
    "print(urdu_text)"
   ]
  },
  {
   "cell_type": "markdown",
   "id": "edcf95af",
   "metadata": {},
   "source": [
    "# Assignment 5: Finding Dates\n",
    "\n",
    "Raw Text: Find and extract dates in the format DD-MM-YYYY from a given text.\n",
    "\n",
    "Example:\n",
    "\n",
    "Text: The event will take place on 15-08-2023 and 23-09-2023."
   ]
  },
  {
   "cell_type": "code",
   "execution_count": 45,
   "id": "9c582123",
   "metadata": {},
   "outputs": [
    {
     "data": {
      "text/plain": [
       "['15-08-2023', '23-09-2023']"
      ]
     },
     "execution_count": 45,
     "metadata": {},
     "output_type": "execute_result"
    }
   ],
   "source": [
    "text4=\"The event will take place on 15-08-2023 and 23-09-2023.\"\n",
    "\n",
    "\n",
    "pattern4= r\"\\d{1,2}-\\d{1,2}-\\d{2,4}\"\n",
    "\n",
    "re.findall(pattern4,text4,re.MULTILINE)"
   ]
  },
  {
   "cell_type": "markdown",
   "id": "021b6dcb",
   "metadata": {},
   "source": [
    "# Assignment 6: Extracting URLs\n",
    "\n",
    "Raw Text: Extract all URLs from a text that belong to Pakistani domains.\n",
    "\n",
    "Example:\n",
    "\n",
    "Text: Visit http://www.example.pk or https://website.com.pk for more information."
   ]
  },
  {
   "cell_type": "code",
   "execution_count": 84,
   "id": "8aef4f31",
   "metadata": {},
   "outputs": [
    {
     "data": {
      "text/plain": [
       "[' http://www.example.pk', ' https://website.com.pk']"
      ]
     },
     "execution_count": 84,
     "metadata": {},
     "output_type": "execute_result"
    }
   ],
   "source": [
    "text5=\"Visit http://www.example.pk or https://website.com.pk for more information.\"\n",
    "\n",
    "pattern5=r\"\\b https?://+\\w+\\.\\w+.pk\\b\"\n",
    "\n",
    "#r\"\\b([https://]+[\\w]+\\.[\\w]+.pk)\\b\"\n",
    "\n",
    "re.findall(pattern5,text5,re.MULTILINE)"
   ]
  },
  {
   "cell_type": "markdown",
   "id": "d232d558",
   "metadata": {},
   "source": [
    "# Assignment 7: Analyzing Currency\n",
    "    \n",
    "Raw Text: Extract and analyze currency amounts in Pakistani Rupees (PKR) from a given text.\n",
    "\n",
    "Example:\n",
    "\n",
    "Text: The product costs PKR 1500, while the deluxe version is priced at Rs. 2500."
   ]
  },
  {
   "cell_type": "code",
   "execution_count": 95,
   "id": "2089204c",
   "metadata": {},
   "outputs": [
    {
     "data": {
      "text/plain": [
       "['PKR 1500', 'Rs. 2500']"
      ]
     },
     "execution_count": 95,
     "metadata": {},
     "output_type": "execute_result"
    }
   ],
   "source": [
    "text6=\"The product costs PKR 1500, while the deluxe version is priced at Rs. 2500.\"\n",
    "\n",
    "pattern6=r\"....\\d{2,4}+\"\n",
    "\n",
    "re.findall(pattern6,text6,re.MULTILINE)"
   ]
  },
  {
   "cell_type": "markdown",
   "id": "a1f5d2ce",
   "metadata": {},
   "source": [
    "# Assignment 8: Removing Punctuation\n",
    "\n",
    "Raw Text: Remove all punctuation marks from a text while preserving Urdu characters.\n",
    "\n",
    "Example:\n",
    "\n",
    "Text: کیا! آپ, یہاں؟"
   ]
  },
  {
   "cell_type": "code",
   "execution_count": 119,
   "id": "b193238f",
   "metadata": {},
   "outputs": [
    {
     "data": {
      "text/plain": [
       "'کیا آپ یہاں '"
      ]
     },
     "execution_count": 119,
     "metadata": {},
     "output_type": "execute_result"
    }
   ],
   "source": [
    "text7= \"کیا! آپ, یہاں؟ \"\n",
    "\n",
    "#text7=text7.replace(\",\",\"\")\n",
    "\n",
    "pattern7=r'[^\\w\\s]'\n",
    "\n",
    "re.sub(pattern7,\"\",text7)"
   ]
  },
  {
   "cell_type": "markdown",
   "id": "89a477af",
   "metadata": {},
   "source": [
    "# Assignment 9: Extracting City Names\n",
    "\n",
    "Raw Text: Extract names of Pakistani cities from a given text.\n",
    "\n",
    "Example:\n",
    "\n",
    "Text: Lahore, Karachi, Islamabad, and Peshawar are major cities of Pakistan."
   ]
  },
  {
   "cell_type": "code",
   "execution_count": 154,
   "id": "a63e6765",
   "metadata": {},
   "outputs": [
    {
     "data": {
      "text/plain": [
       "['Lahore, Karachi, Islamabad, and Peshawar']"
      ]
     },
     "execution_count": 154,
     "metadata": {},
     "output_type": "execute_result"
    }
   ],
   "source": [
    "text8=\"Lahore, Karachi, Islamabad, and Peshawar are major cities of Pakistan.\"\n",
    "\n",
    "pattern8=r\"\\b\\w+\\,\\s\\w+\\,\\s\\w+\\,\\sand\\s+\\w+\\b\"\n",
    "\n",
    "re.findall(pattern8,text8)"
   ]
  },
  {
   "cell_type": "markdown",
   "id": "967e1161",
   "metadata": {},
   "source": [
    "# Assignment 10: Analyzing Vehicle Numbers\n",
    "\n",
    "Raw Text: Identify and extract Pakistani vehicle registration numbers (e.g., ABC-123) from a text.\n",
    "\n",
    "Example:\n",
    "\n",
    "Text: I saw a car with the number plate LEA-567 near the market."
   ]
  },
  {
   "cell_type": "code",
   "execution_count": 164,
   "id": "2d126466",
   "metadata": {},
   "outputs": [
    {
     "data": {
      "text/plain": [
       "['LEA-567']"
      ]
     },
     "execution_count": 164,
     "metadata": {},
     "output_type": "execute_result"
    }
   ],
   "source": [
    "text9=\"I saw a car with the number plate LEA-567 near the market.\"\n",
    "\n",
    "pattern9=r\"..\\w-\\d{1,3}\"\n",
    "\n",
    "re.findall(pattern9,text9)"
   ]
  },
  {
   "cell_type": "code",
   "execution_count": null,
   "id": "4569e8d7",
   "metadata": {},
   "outputs": [],
   "source": []
  }
 ],
 "metadata": {
  "kernelspec": {
   "display_name": "Python 3 (ipykernel)",
   "language": "python",
   "name": "python3"
  },
  "language_info": {
   "codemirror_mode": {
    "name": "ipython",
    "version": 3
   },
   "file_extension": ".py",
   "mimetype": "text/x-python",
   "name": "python",
   "nbconvert_exporter": "python",
   "pygments_lexer": "ipython3",
   "version": "3.11.4"
  }
 },
 "nbformat": 4,
 "nbformat_minor": 5
}
